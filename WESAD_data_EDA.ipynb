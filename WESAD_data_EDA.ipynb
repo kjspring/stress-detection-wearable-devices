{
  "cells": [
    {
      "cell_type": "markdown",
      "metadata": {
        "id": "view-in-github",
        "colab_type": "text"
      },
      "source": [
        "<a href=\"https://colab.research.google.com/github/kjspring/stress-detection-wearable-devices/blob/main/WESAD_data_EDA.ipynb\" target=\"_parent\"><img src=\"https://colab.research.google.com/assets/colab-badge.svg\" alt=\"Open In Colab\"/></a>"
      ]
    },
    {
      "cell_type": "code",
      "source": [
        "!git clone https://github.com/kjspring/stress-detection-wearable-devices.git"
      ],
      "metadata": {
        "colab": {
          "base_uri": "https://localhost:8080/"
        },
        "id": "5yNDBzGX3HXM",
        "outputId": "0ca0404b-9a1b-40a8-9a35-5a9085d4422a"
      },
      "id": "5yNDBzGX3HXM",
      "execution_count": 1,
      "outputs": [
        {
          "output_type": "stream",
          "name": "stdout",
          "text": [
            "Cloning into 'stress-detection-wearable-devices'...\n",
            "remote: Enumerating objects: 47, done.\u001b[K\n",
            "remote: Counting objects: 100% (47/47), done.\u001b[K\n",
            "remote: Compressing objects: 100% (36/36), done.\u001b[K\n",
            "remote: Total 47 (delta 19), reused 36 (delta 11), pack-reused 0\u001b[K\n",
            "Unpacking objects: 100% (47/47), 261.87 KiB | 1.65 MiB/s, done.\n"
          ]
        }
      ]
    },
    {
      "cell_type": "code",
      "source": [
        "!git clone https://github.com/kjspring/pyEDA.git"
      ],
      "metadata": {
        "colab": {
          "base_uri": "https://localhost:8080/"
        },
        "id": "gP3xppiLpL7G",
        "outputId": "d03616e2-7bc0-400e-db8f-e1956970dd0e"
      },
      "id": "gP3xppiLpL7G",
      "execution_count": 2,
      "outputs": [
        {
          "output_type": "stream",
          "name": "stdout",
          "text": [
            "Cloning into 'pyEDA'...\n",
            "remote: Enumerating objects: 290, done.\u001b[K\n",
            "remote: Counting objects: 100% (290/290), done.\u001b[K\n",
            "remote: Compressing objects: 100% (198/198), done.\u001b[K\n",
            "remote: Total 290 (delta 151), reused 203 (delta 87), pack-reused 0\u001b[K\n",
            "Receiving objects: 100% (290/290), 11.30 MiB | 9.45 MiB/s, done.\n",
            "Resolving deltas: 100% (151/151), done.\n"
          ]
        }
      ]
    },
    {
      "cell_type": "code",
      "source": [
        "! git clone https://github.com/neuropsychology/NeuroKit"
      ],
      "metadata": {
        "colab": {
          "base_uri": "https://localhost:8080/"
        },
        "id": "dHHHprpt-9SX",
        "outputId": "6bac1996-e026-4729-c164-0ce5873e9b17"
      },
      "id": "dHHHprpt-9SX",
      "execution_count": 3,
      "outputs": [
        {
          "output_type": "stream",
          "name": "stdout",
          "text": [
            "Cloning into 'NeuroKit'...\n",
            "remote: Enumerating objects: 99906, done.\u001b[K\n",
            "remote: Counting objects: 100% (301/301), done.\u001b[K\n",
            "remote: Compressing objects: 100% (254/254), done.\u001b[K\n",
            "remote: Total 99906 (delta 43), reused 287 (delta 37), pack-reused 99605\u001b[K\n",
            "Receiving objects: 100% (99906/99906), 3.10 GiB | 26.75 MiB/s, done.\n",
            "Resolving deltas: 100% (49281/49281), done.\n",
            "Updating files: 100% (613/613), done.\n"
          ]
        }
      ]
    },
    {
      "cell_type": "code",
      "source": [
        "! pip install neurokit2"
      ],
      "metadata": {
        "colab": {
          "base_uri": "https://localhost:8080/"
        },
        "id": "tnNVJaXFe5bd",
        "outputId": "19354a9d-14c8-44f8-eda9-41cb72090aa9"
      },
      "id": "tnNVJaXFe5bd",
      "execution_count": 4,
      "outputs": [
        {
          "output_type": "stream",
          "name": "stdout",
          "text": [
            "Looking in indexes: https://pypi.org/simple, https://us-python.pkg.dev/colab-wheels/public/simple/\n",
            "Collecting neurokit2\n",
            "  Downloading neurokit2-0.2.3-py2.py3-none-any.whl (1.2 MB)\n",
            "\u001b[2K     \u001b[90m━━━━━━━━━━━━━━━━━━━━━━━━━━━━━━━━━━━━━━━━\u001b[0m \u001b[32m1.2/1.2 MB\u001b[0m \u001b[31m23.7 MB/s\u001b[0m eta \u001b[36m0:00:00\u001b[0m\n",
            "\u001b[?25hRequirement already satisfied: scikit-learn>=1.0.0 in /usr/local/lib/python3.9/dist-packages (from neurokit2) (1.2.2)\n",
            "Requirement already satisfied: numpy in /usr/local/lib/python3.9/dist-packages (from neurokit2) (1.22.4)\n",
            "Requirement already satisfied: scipy in /usr/local/lib/python3.9/dist-packages (from neurokit2) (1.10.1)\n",
            "Requirement already satisfied: pandas in /usr/local/lib/python3.9/dist-packages (from neurokit2) (1.4.4)\n",
            "Requirement already satisfied: matplotlib in /usr/local/lib/python3.9/dist-packages (from neurokit2) (3.7.1)\n",
            "Requirement already satisfied: threadpoolctl>=2.0.0 in /usr/local/lib/python3.9/dist-packages (from scikit-learn>=1.0.0->neurokit2) (3.1.0)\n",
            "Requirement already satisfied: joblib>=1.1.1 in /usr/local/lib/python3.9/dist-packages (from scikit-learn>=1.0.0->neurokit2) (1.1.1)\n",
            "Requirement already satisfied: contourpy>=1.0.1 in /usr/local/lib/python3.9/dist-packages (from matplotlib->neurokit2) (1.0.7)\n",
            "Requirement already satisfied: packaging>=20.0 in /usr/local/lib/python3.9/dist-packages (from matplotlib->neurokit2) (23.0)\n",
            "Requirement already satisfied: cycler>=0.10 in /usr/local/lib/python3.9/dist-packages (from matplotlib->neurokit2) (0.11.0)\n",
            "Requirement already satisfied: pyparsing>=2.3.1 in /usr/local/lib/python3.9/dist-packages (from matplotlib->neurokit2) (3.0.9)\n",
            "Requirement already satisfied: kiwisolver>=1.0.1 in /usr/local/lib/python3.9/dist-packages (from matplotlib->neurokit2) (1.4.4)\n",
            "Requirement already satisfied: pillow>=6.2.0 in /usr/local/lib/python3.9/dist-packages (from matplotlib->neurokit2) (8.4.0)\n",
            "Requirement already satisfied: python-dateutil>=2.7 in /usr/local/lib/python3.9/dist-packages (from matplotlib->neurokit2) (2.8.2)\n",
            "Requirement already satisfied: importlib-resources>=3.2.0 in /usr/local/lib/python3.9/dist-packages (from matplotlib->neurokit2) (5.12.0)\n",
            "Requirement already satisfied: fonttools>=4.22.0 in /usr/local/lib/python3.9/dist-packages (from matplotlib->neurokit2) (4.39.2)\n",
            "Requirement already satisfied: pytz>=2020.1 in /usr/local/lib/python3.9/dist-packages (from pandas->neurokit2) (2022.7.1)\n",
            "Requirement already satisfied: zipp>=3.1.0 in /usr/local/lib/python3.9/dist-packages (from importlib-resources>=3.2.0->matplotlib->neurokit2) (3.15.0)\n",
            "Requirement already satisfied: six>=1.5 in /usr/local/lib/python3.9/dist-packages (from python-dateutil>=2.7->matplotlib->neurokit2) (1.16.0)\n",
            "Installing collected packages: neurokit2\n",
            "Successfully installed neurokit2-0.2.3\n"
          ]
        }
      ]
    },
    {
      "cell_type": "code",
      "execution_count": 3,
      "id": "5b368f99",
      "metadata": {
        "id": "5b368f99"
      },
      "outputs": [],
      "source": [
        "# Exploratory data analysis of dataset\n",
        "\n",
        "import matplotlib.pyplot as plt # plotting\n",
        "import numpy as np # linear algebra\n",
        "import os # accessing directory structure\n",
        "import pandas as pd # data processing, CSV file I/O (e.g. pd.read_csv)\n",
        "import glob\n",
        "import pickle\n",
        "from pyEDA.main import *\n",
        "import neurokit2 as nk"
      ]
    },
    {
      "cell_type": "code",
      "source": [
        "# Mount Google Drive\n",
        "from google.colab import drive\n",
        "drive.mount('/content/drive', force_remount=True)"
      ],
      "metadata": {
        "id": "DboF4fR71arA",
        "outputId": "0f5344cb-00c0-470d-bd79-32db50276069",
        "colab": {
          "base_uri": "https://localhost:8080/"
        }
      },
      "id": "DboF4fR71arA",
      "execution_count": 4,
      "outputs": [
        {
          "output_type": "stream",
          "name": "stdout",
          "text": [
            "Mounted at /content/drive\n"
          ]
        }
      ]
    },
    {
      "cell_type": "code",
      "source": [
        "! ls /content/drive/MyDrive/stress-prediction"
      ],
      "metadata": {
        "colab": {
          "base_uri": "https://localhost:8080/"
        },
        "id": "zyNtMLG6p4Da",
        "outputId": "249f9ccc-71fb-4099-b099-b2eacc09e13a"
      },
      "id": "zyNtMLG6p4Da",
      "execution_count": 5,
      "outputs": [
        {
          "output_type": "stream",
          "name": "stdout",
          "text": [
            "cvxEDA.py  data  data_wrangling.py  files  __pycache__\tWESAD\n"
          ]
        }
      ]
    },
    {
      "cell_type": "code",
      "execution_count": 6,
      "id": "1caaf437",
      "metadata": {
        "id": "1caaf437",
        "colab": {
          "base_uri": "https://localhost:8080/",
          "height": 42
        },
        "outputId": "4991e9b3-5b58-450c-f802-da90556875dc"
      },
      "outputs": [
        {
          "output_type": "execute_result",
          "data": {
            "text/plain": [
              "'/content/drive/MyDrive/stress-prediction/data/1. processed'"
            ],
            "application/vnd.google.colaboratory.intrinsic+json": {
              "type": "string"
            }
          },
          "metadata": {},
          "execution_count": 6
        }
      ],
      "source": [
        "#! cd /content/drive/MyDrive/stress-prediction/ # Main file directory for this notebook on Google Drive\n",
        "os.chdir('/content/drive/MyDrive/stress-prediction')\n",
        "# absolute path of data directory\n",
        "PATH = os.path.join(os.path.abspath(os.getcwd()), 'data') # Path of data folder on Google Drive"
      ]
    },
    {
      "cell_type": "markdown",
      "id": "d4f5dd09",
      "metadata": {
        "id": "d4f5dd09"
      },
      "source": [
        "## Open and clean up raw data\n",
        "The data for swell and wsead is stored in seperate folders. Within each of these is a subfolder holding the eda, rri, and Labels folders"
      ]
    },
    {
      "cell_type": "code",
      "source": [
        "original_dir = os.path.join(PATH, 'original')\n",
        "org_WESAD_dir = os.path.join(original_dir, 'WESAD')\n",
        "#process_eda_swell_files = glob.glob(os.path.join(org_WESAD_dir, \"*.pkl\"))\n",
        "print(org_WESAD_dir)"
      ],
      "metadata": {
        "id": "IlwqPYdzt2IE"
      },
      "id": "IlwqPYdzt2IE",
      "execution_count": null,
      "outputs": []
    },
    {
      "cell_type": "code",
      "execution_count": null,
      "id": "45438f45",
      "metadata": {
        "id": "45438f45"
      },
      "outputs": [],
      "source": [
        "class SubjectData:\n",
        "# https://github.com/WJMatthew/WESAD/blob/master/data_wrangling.py\n",
        "    def __init__(self, main_path, subject_number):\n",
        "        #print(main_path)\n",
        "        self.name = f'S{subject_number}'\n",
        "        self.subject_keys = ['signal', 'label', 'subject']\n",
        "        self.signal_keys = ['chest', 'wrist']\n",
        "        self.chest_keys = ['ACC', 'ECG', 'EMG', 'EDA', 'Temp', 'Resp']\n",
        "        self.wrist_keys = ['ACC', 'BVP', 'EDA', 'TEMP']\n",
        "        #self.wrist_keys = ['EDA']\n",
        "        with open(os.path.join(main_path, self.name) + '/' + self.name + '.pkl', 'rb') as file:\n",
        "            self.data = pickle.load(file, encoding='latin1')\n",
        "        self.labels = self.data['label']\n",
        "\n",
        "    def get_wrist_data(self):\n",
        "        data = self.data['signal']['wrist']\n",
        "        data.update({'RSP': self.data['signal']['chest']['Resp']})\n",
        "        #data.update({'ECG' : self.data['signal']['chest']['ECG']})\n",
        "        #data.update({'labels': self.labels})\n",
        "        return data\n",
        "    \n",
        "    def get_wrist_eda_data(self):\n",
        "        data = self.data['signal']['wrist']['EDA']\n",
        "        return data\n",
        "\n",
        "    def get_chest_data(self):\n",
        "        return self.data['signal']['chest']\n",
        "\n",
        "    def extract_features(self):  # only wrist\n",
        "        results = \\\n",
        "            {\n",
        "                key: get_statistics(self.get_wrist_data()[key].flatten(), self.labels, key)\n",
        "                for key in self.wrist_keys\n",
        "            }\n",
        "        return results\n"
      ]
    },
    {
      "cell_type": "code",
      "source": [
        "def subject_data_import(directory):\n",
        "  import regex as re\n",
        "\n",
        "  regex = re.compile(r'\\d+')\n",
        "  subject_li = []\n",
        "  ext = '.pkl' # pickle extension\n",
        "  # Walk through data directory and only return with specific extension\n",
        "  for path, dirc, files in os.walk(directory):\n",
        "    for name in files:\n",
        "      if name.endswith(ext):\n",
        "        #print(name) # print file name\n",
        "        #print(path)\n",
        "        subject_number = regex.findall(name) # Extract the subject number\n",
        "        #print(subject_number[0])\n",
        "        #print(type(int(subject_number[0])))\n",
        "        subject_li.append(SubjectData(directory, int(subject_number[0]))) # Create SubjectData object\n",
        "\n",
        "  return subject_li"
      ],
      "metadata": {
        "id": "ZBswEp_3veIw"
      },
      "id": "ZBswEp_3veIw",
      "execution_count": null,
      "outputs": []
    },
    {
      "cell_type": "code",
      "execution_count": null,
      "id": "fc2fd9ad",
      "metadata": {
        "id": "fc2fd9ad"
      },
      "outputs": [],
      "source": [
        "wesad_sd_li = subject_data_import(org_WESAD_dir)\n",
        "\n",
        "#wesad_raw = pd.read_pickle(org_WESAD_dir+\"/S3/S3.pkl\")"
      ]
    },
    {
      "cell_type": "markdown",
      "id": "3c6f0a30",
      "metadata": {
        "id": "3c6f0a30"
      },
      "source": [
        "## Dictionary analysis\n"
      ]
    },
    {
      "cell_type": "code",
      "execution_count": null,
      "id": "b2c15b5f",
      "metadata": {
        "id": "b2c15b5f"
      },
      "outputs": [],
      "source": [
        "# Extract wrist data\n",
        "wesad_data_li = [ f.get_wrist_data() for f in wesad_sd_li ]"
      ]
    },
    {
      "cell_type": "code",
      "source": [
        "# Grab only subject 4\n",
        "S4 = SubjectData(org_WESAD_dir, 4)\n",
        "S4_wrist = S4.get_wrist_data() # get wrist data"
      ],
      "metadata": {
        "id": "MX4f7QySgHaZ"
      },
      "id": "MX4f7QySgHaZ",
      "execution_count": null,
      "outputs": []
    },
    {
      "cell_type": "code",
      "source": [
        "wesad_data_li[0]['EDA']"
      ],
      "metadata": {
        "id": "jVrTNW9QjL_l"
      },
      "id": "jVrTNW9QjL_l",
      "execution_count": null,
      "outputs": []
    },
    {
      "cell_type": "code",
      "source": [
        "# pyEDA\n",
        "m, wd, eda_clean = process_statistical(wesad_data_li[0], \n",
        "                                       use_scipy=True, \n",
        "                                       sample_rate=128, \n",
        "                                       new_sample_rate=40, \n",
        "                                       segment_width=600, \n",
        "                                       segment_overlap=0)"
      ],
      "metadata": {
        "id": "FqE2T7Bzj51q"
      },
      "id": "FqE2T7Bzj51q",
      "execution_count": null,
      "outputs": []
    },
    {
      "cell_type": "code",
      "source": [
        "# pyEDA autoencoder\n",
        "prepare_automatic(wesad_data_li[0]/1, sample_rate=128, new_sample_rate=40, k=32, epochs=100, batch_size=10)"
      ],
      "metadata": {
        "id": "BVdXTcOokYKn"
      },
      "id": "BVdXTcOokYKn",
      "execution_count": null,
      "outputs": []
    },
    {
      "cell_type": "code",
      "source": [
        "#print(f'Lenght of ACC: {len(S3_wrist[\"ACC\"])}')\n",
        "#print(f'Lenght of BVP: {len(S3_wrist[\"BVP\"])}')\n",
        "#print(f'Lenght of EDA: {len(S3_wrist[\"EDA\"])}')\n",
        "#print(f'Lenght of TEMP: {len(S3_wrist[\"TEMP\"])}')\n",
        "#print(f'Lenght of Resp: {len(S3_wrist[\"Resp\"])}')\n",
        "#print(f'Lenght of labels: {len(S3_wrist[\"labels\"])}')"
      ],
      "metadata": {
        "id": "jU_6UMQqsXGz"
      },
      "id": "jU_6UMQqsXGz",
      "execution_count": null,
      "outputs": []
    },
    {
      "cell_type": "code",
      "source": [
        "# Neurokit2\n",
        "\n",
        "# process the data (filter, find peaks, ect.)\n",
        "processed_data, info = nk.bio_process(rsp=wesad_data_li[0]['RSP'],\n",
        "                                      eda=wesad_data_li[0]['EDA'],\n",
        "                                      sampling_rate=100)"
      ],
      "metadata": {
        "id": "DJqwoB3-iOqR"
      },
      "id": "DJqwoB3-iOqR",
      "execution_count": null,
      "outputs": []
    },
    {
      "cell_type": "code",
      "source": [
        "results = nk.bio_analyze(processed_data, sampling_rate=100)"
      ],
      "metadata": {
        "id": "5r8fQf5ckPPd"
      },
      "id": "5r8fQf5ckPPd",
      "execution_count": null,
      "outputs": []
    },
    {
      "cell_type": "code",
      "source": [
        "results.info()"
      ],
      "metadata": {
        "id": "iP9vvSv5lDz9"
      },
      "id": "iP9vvSv5lDz9",
      "execution_count": null,
      "outputs": []
    },
    {
      "cell_type": "code",
      "source": [
        "# Visualize\n",
        "# Simulate\n",
        "eda1 = nk.eda_simulate(duration=10, scr_number=1, drift=-0.01, noise=0.05)\n",
        "eda3 = nk.eda_simulate(duration=10, scr_number=3, drift=-0.01, noise=0.01)\n",
        "eda3_long = nk.eda_simulate(duration=10, scr_number=3, drift=-0.1, noise=0.01)\n",
        "\n",
        "# Visualize\n",
        "eda_df = pd.DataFrame({\"EDA1\": eda1,\n",
        "                       \"EDA3\": eda3,\n",
        "                       \"EDA3_Longer\": eda3_long})\n",
        "nk.signal_plot(eda_df, subplots=True)"
      ],
      "metadata": {
        "id": "4tKWoDYoj5ui"
      },
      "id": "4tKWoDYoj5ui",
      "execution_count": null,
      "outputs": []
    },
    {
      "cell_type": "code",
      "source": [
        "processed_data['EDA_Clean'].describe()"
      ],
      "metadata": {
        "id": "cwi9Rz5Jkh3U"
      },
      "id": "cwi9Rz5Jkh3U",
      "execution_count": null,
      "outputs": []
    },
    {
      "cell_type": "code",
      "source": [
        "S4_wrist['EDA']"
      ],
      "metadata": {
        "id": "Z9Ibs3rMkkdM"
      },
      "id": "Z9Ibs3rMkkdM",
      "execution_count": null,
      "outputs": []
    },
    {
      "cell_type": "code",
      "source": [
        "processed_data_S4_eda, info = nk.bio_process(eda=S4_wrist['EDA'],\n",
        "                                      sampling_rate=100)\n",
        "processed_data_S4_eda['EDA_Clean']"
      ],
      "metadata": {
        "id": "aBHooi1qnGMM"
      },
      "id": "aBHooi1qnGMM",
      "execution_count": null,
      "outputs": []
    },
    {
      "cell_type": "code",
      "source": [
        "nk.signal_plot(processed_data_S4_eda['EDA_Clean'])"
      ],
      "metadata": {
        "id": "1vBhjI6NnyJc"
      },
      "id": "1vBhjI6NnyJc",
      "execution_count": null,
      "outputs": []
    },
    {
      "cell_type": "code",
      "source": [
        "len(S4_wrist['EDA'])"
      ],
      "metadata": {
        "id": "__H6vGNKogvN"
      },
      "id": "__H6vGNKogvN",
      "execution_count": null,
      "outputs": []
    },
    {
      "cell_type": "code",
      "source": [],
      "metadata": {
        "id": "PSKTE4VLq1PE"
      },
      "id": "PSKTE4VLq1PE",
      "execution_count": null,
      "outputs": []
    }
  ],
  "metadata": {
    "kernelspec": {
      "display_name": "learn-env",
      "language": "python",
      "name": "learn-env"
    },
    "language_info": {
      "codemirror_mode": {
        "name": "ipython",
        "version": 3
      },
      "file_extension": ".py",
      "mimetype": "text/x-python",
      "name": "python",
      "nbconvert_exporter": "python",
      "pygments_lexer": "ipython3",
      "version": "3.9.7"
    },
    "colab": {
      "provenance": [],
      "include_colab_link": true
    }
  },
  "nbformat": 4,
  "nbformat_minor": 5
}