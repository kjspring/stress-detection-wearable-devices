{
  "nbformat": 4,
  "nbformat_minor": 0,
  "metadata": {
    "colab": {
      "provenance": [],
      "machine_shape": "hm",
      "authorship_tag": "ABX9TyPsghfJJ10eE6Aen2qfOqfR",
      "include_colab_link": true
    },
    "kernelspec": {
      "name": "python3",
      "display_name": "Python 3"
    },
    "language_info": {
      "name": "python"
    },
    "gpuClass": "standard",
    "accelerator": "GPU"
  },
  "cells": [
    {
      "cell_type": "markdown",
      "metadata": {
        "id": "view-in-github",
        "colab_type": "text"
      },
      "source": [
        "<a href=\"https://colab.research.google.com/github/kjspring/stress-detection-wearable-devices/blob/main/modeling_WESAD.ipynb\" target=\"_parent\"><img src=\"https://colab.research.google.com/assets/colab-badge.svg\" alt=\"Open In Colab\"/></a>"
      ]
    },
    {
      "cell_type": "code",
      "execution_count": 2,
      "metadata": {
        "colab": {
          "base_uri": "https://localhost:8080/"
        },
        "id": "gtX5TSM8gfZB",
        "outputId": "c4060e53-77fe-4a58-a0f0-3ac6b67f6e19"
      },
      "outputs": [
        {
          "output_type": "stream",
          "name": "stdout",
          "text": [
            "Mounted at /content/drive\n"
          ]
        }
      ],
      "source": [
        "# Load pickled data\n",
        "\n",
        "# Mount Google Drive\n",
        "from google.colab import drive\n",
        "drive.mount('/content/drive', force_remount=True)\n",
        "\n",
        "import os\n",
        "\n",
        "#! cd /content/drive/MyDrive/stress-prediction/ # Main file directory for this notebook on Google Drive\n",
        "os.chdir('/content/drive/MyDrive/stress-prediction')\n",
        "# absolute path of data directory\n",
        "PATH = os.path.join(os.path.abspath(os.getcwd()), 'data') # Path of data folder on Google Drive\n",
        "\n",
        "import joblib\n",
        "data = joblib.load(f\"{PATH}/pickle/WESAD_data_model.pickle\") # read pickle file\n",
        "labels = joblib.load(f\"{PATH}/pickle/WESAD_labels_model.pickle\") # read pickle file"
      ]
    },
    {
      "cell_type": "code",
      "source": [
        "# Subsample the data and features\n",
        "Hz_chest = 700\n",
        "Hz_EDA = 4\n",
        "subsample_rate = int(Hz_chest / Hz_EDA)  # subsample rate, e.g. to reduce from 700Hz to 4Hz\n",
        "\n",
        "subsampled_data = data[::subsample_rate]\n",
        "subsampled_labels = labels[::subsample_rate]\n",
        "\n",
        "print(len(data))  # 2742499\n",
        "print(len(subsampled_data))  # 15672"
      ],
      "metadata": {
        "colab": {
          "base_uri": "https://localhost:8080/"
        },
        "id": "Bx2IGBv1yaQ7",
        "outputId": "085197d4-477e-4b04-e63f-3ae2c0542a51"
      },
      "execution_count": 3,
      "outputs": [
        {
          "output_type": "stream",
          "name": "stdout",
          "text": [
            "2742499\n",
            "15672\n"
          ]
        }
      ]
    },
    {
      "cell_type": "code",
      "source": [
        "# Check for NaN values\n",
        "subsampled_data.isnull().values.any()"
      ],
      "metadata": {
        "colab": {
          "base_uri": "https://localhost:8080/"
        },
        "id": "zdxsD6VuL2pJ",
        "outputId": "aeb1c436-dd31-498b-8023-183a43ed0e92"
      },
      "execution_count": 4,
      "outputs": [
        {
          "output_type": "execute_result",
          "data": {
            "text/plain": [
              "False"
            ]
          },
          "metadata": {},
          "execution_count": 4
        }
      ]
    },
    {
      "cell_type": "code",
      "source": [
        "# Try with a Datagenerator to reduce the RAM use\n",
        "from keras.preprocessing.sequence import TimeseriesGenerator\n",
        "random_state = 42\n",
        "sampling_rate = 5 # keep one data point out of 5\n",
        "duration = 1 # how many minutes in the future the target after the end of the sequence\n",
        "sequence_length = Hz_EDA * 60 * duration # observations will go back duration minutues\n",
        "delay = sampling_rate*(sequence_length + duration*60*Hz_EDA - 1) # the target for a\n",
        "                                                             # sequence will be\n",
        "                                                             # duration (min)\n",
        "                                                             # after the end of\n",
        "                                                             # the sequence\n",
        "batch_size = 64\n",
        "shuffle = True\n",
        "\n",
        "# Train Test Split\n",
        "from sklearn.model_selection import train_test_split\n",
        "\n",
        "X_dat, X_val, y_dat, y_val = train_test_split(subsampled_data, subsampled_labels, \n",
        "                                                 test_size = 0.2,\n",
        "                                                 random_state=random_state)\n",
        "\n",
        "X_train, X_test, y_train, y_test = train_test_split(X_dat, y_dat,\n",
        "                                                    test_size = 0.2,\n",
        "                                                    random_state = random_state)\n",
        "\n",
        "\n",
        "# Normalize the data\n",
        "from sklearn.preprocessing import StandardScaler\n",
        "# create the StandardScaler object\n",
        "scaler = StandardScaler()\n",
        "# fit the scaler on the training data\n",
        "X_train_scaled = scaler.fit_transform(X_train.values.reshape(-1,1))\n",
        "# transform the validation data\n",
        "X_val_scaled = scaler.transform(X_val.values.reshape(-1,1))\n",
        "# transform the test data\n",
        "X_test_scaled = scaler.transform(X_test.values.reshape(-1,1))\n",
        "\n",
        "# Data Generator\n",
        "train_data_gen = TimeseriesGenerator(X_train_scaled, y_train, length=sequence_length, batch_size=batch_size)\n",
        "val_data_gen = TimeseriesGenerator(X_val_scaled, y_val, length=sequence_length, batch_size=batch_size)\n",
        "test_data_gen = TimeseriesGenerator(X_test_scaled, y_test, length=sequence_length, batch_size=batch_size)"
      ],
      "metadata": {
        "id": "3xkosnn-j7z6"
      },
      "execution_count": 5,
      "outputs": []
    },
    {
      "cell_type": "code",
      "source": [
        "print(train_data_gen[0][0].shape) # prints the batch size of the first entry\n",
        "'''\n",
        "A tensor of shape (32, 1200, 1) means that it is a 3-dimensional tensor with 32 \n",
        "rows, 240 columns and 1 channel. In this specific case, it could represent a \n",
        "batch of 32 time series samples, each with 1200 time steps and 1 feature/channel.\n",
        "\n",
        "The first dimension (32) represents the batch size, which is the number of \n",
        "samples that are processed at once during training. The second dimension (1200) \n",
        "represents the time steps or the sequence length of each sample, and the third \n",
        "dimension (1) represents the number of features or channels in each sample.\n",
        "'''"
      ],
      "metadata": {
        "colab": {
          "base_uri": "https://localhost:8080/",
          "height": 151
        },
        "id": "JNkaqD_bTfRB",
        "outputId": "609db3f4-5900-4baf-fe00-8c0f6adbc5ca"
      },
      "execution_count": 6,
      "outputs": [
        {
          "output_type": "stream",
          "name": "stdout",
          "text": [
            "(64, 240, 1)\n"
          ]
        },
        {
          "output_type": "execute_result",
          "data": {
            "text/plain": [
              "'\\nA tensor of shape (32, 1200, 1) means that it is a 3-dimensional tensor with 32 \\nrows, 240 columns and 1 channel. In this specific case, it could represent a \\nbatch of 32 time series samples, each with 1200 time steps and 1 feature/channel.\\n\\nThe first dimension (32) represents the batch size, which is the number of \\nsamples that are processed at once during training. The second dimension (1200) \\nrepresents the time steps or the sequence length of each sample, and the third \\ndimension (1) represents the number of features or channels in each sample.\\n'"
            ],
            "application/vnd.google.colaboratory.intrinsic+json": {
              "type": "string"
            }
          },
          "metadata": {},
          "execution_count": 6
        }
      ]
    },
    {
      "cell_type": "code",
      "source": [
        "train_iterator = iter(train_data_gen)\n",
        "x_batch, y_batch = next(train_iterator)\n",
        "print(x_batch.shape)\n",
        "print(y_batch.shape)\n",
        "\n",
        "# Validation Data\n",
        "val_iterator = iter(val_data_gen)\n",
        "x_batch, y_batch = next(val_iterator)\n",
        "print(x_batch.shape)\n",
        "print(y_batch.shape)"
      ],
      "metadata": {
        "colab": {
          "base_uri": "https://localhost:8080/"
        },
        "id": "If_KuXvFhdsN",
        "outputId": "a116df78-ffde-4efc-eafc-8eb65d1214ec"
      },
      "execution_count": 7,
      "outputs": [
        {
          "output_type": "stream",
          "name": "stdout",
          "text": [
            "(64, 240, 1)\n",
            "(64,)\n",
            "(64, 240, 1)\n",
            "(64,)\n"
          ]
        }
      ]
    },
    {
      "cell_type": "code",
      "source": [
        "# Naive Model\n",
        "def evaluate_naive_method(dataset):\n",
        "  '''\n",
        "  This method uses a common-sense approach to predict that the subject will be\n",
        "  in the same state 5 minutes from now as they are in now.\n",
        "  '''\n",
        "  "
      ],
      "metadata": {
        "id": "ft6yb8UANWLq"
      },
      "execution_count": 7,
      "outputs": []
    },
    {
      "cell_type": "code",
      "source": [
        "type(train_data_gen[0][0].shape[2])\n",
        "print(sequence_length)"
      ],
      "metadata": {
        "colab": {
          "base_uri": "https://localhost:8080/"
        },
        "id": "jknJuAXwWhLq",
        "outputId": "f490301f-cbda-4f8f-84e0-8457e3738954"
      },
      "execution_count": 8,
      "outputs": [
        {
          "output_type": "stream",
          "name": "stdout",
          "text": [
            "240\n"
          ]
        }
      ]
    },
    {
      "cell_type": "code",
      "source": [
        "# Callbacks Function\n",
        "def callbacks(checkpoint_file, patience=3):\n",
        "\n",
        "  # import necessary libraries\n",
        "  from keras.callbacks import EarlyStopping, ModelCheckpoint, TensorBoard\n",
        "\n",
        "  # Callback and Early Stopping\n",
        "  callbacks = [EarlyStopping(monitor='val_loss', \n",
        "                             verbose=1, \n",
        "                             patience=patience,\n",
        "                             restore_best_weights=True,\n",
        "                             mode='min'\n",
        "                             ),\n",
        "              ModelCheckpoint(checkpoint_file, \n",
        "                              save_best_only=True,\n",
        "                              verbose=0\n",
        "                              ),\n",
        "              TensorBoard(log_dir='./logs', histogram_freq=1, \n",
        "                          embeddings_freq=1, \n",
        "                          update_freq='epoch')\n",
        "  ]\n",
        "  return callbacks"
      ],
      "metadata": {
        "id": "wLJO3UWrtX16"
      },
      "execution_count": 63,
      "outputs": []
    },
    {
      "cell_type": "code",
      "source": [
        "def plot_evaluation(model, file_name):\n",
        "    '''\n",
        "    Plotting helper function.\n",
        "    Plots the Training and validation accuracy\n",
        "    as well as the training and validation loss\n",
        "    over the number of epochs specified\n",
        "    '''\n",
        "    # Import libraries\n",
        "    import matplotlib.pyplot as plt\n",
        "    \n",
        "    acc = model.history['binary_accuracy']\n",
        "    val_acc = model.history['val_binary_accuracy']\n",
        "\n",
        "    loss = model.history['loss']\n",
        "    val_loss = model.history['val_loss']\n",
        "\n",
        "    epochs_range = range(1, len(loss) + 1)\n",
        "    \n",
        "    fig, ax = plt.subplots(1, 2, figsize=(24 , 8))\n",
        "    ax[0].plot(epochs_range, acc, 'g-', label='Training Accuracy')\n",
        "    ax[0].plot(epochs_range, val_acc, 'r-', label='Validation Accuracy')\n",
        "    ax[0].legend(loc='lower right')\n",
        "    ax[0].title.set_text('Training and Validation Accuracy')\n",
        "\n",
        "    ax[1].plot(epochs_range, loss, 'g-', label='Training Loss')\n",
        "    ax[1].plot(epochs_range, val_loss, 'r-', label='Validation Loss')\n",
        "    ax[1].legend(loc='upper right')\n",
        "    ax[1].title.set_text('Training and Validation Loss')\n",
        "    fig.patch.set_facecolor('white')\n",
        "    plt.savefig(f'{file_name}')\n",
        "    plt.show()"
      ],
      "metadata": {
        "id": "am32v-f0bRWJ"
      },
      "execution_count": 64,
      "outputs": []
    },
    {
      "cell_type": "code",
      "source": [
        "def evaluate_model(model_filepath, history_filepath, val_data, test_data, save_plot_path):\n",
        "  '''\n",
        "  What does this function do?\n",
        "  val_data: validation data generator\n",
        "  test_data: testing data generator\n",
        "  '''\n",
        "  # Evaluate the model\n",
        "  from tensorflow.keras.models import load_model\n",
        "  import joblib\n",
        "\n",
        "  # Load the model\n",
        "  model = load_model(model_filepath)\n",
        "  model_eval_val = model.evaluate(val_data,\n",
        "                                  use_multiprocessing=True,\n",
        "                                  batch_size=batch_size)\n",
        "  \n",
        "  # Load the training fit history\n",
        "  fit_history = joblib.load(history_filepath) # read pickle file\n",
        "\n",
        "  # Make Plot of Training Fit\n",
        "  plot_evaluation(fit_history, save_plot_path)\n",
        "\n",
        "  # Print validation and testing metrics\n",
        "  print(f'Validation Binary Accuracy is: {model_eval_val[1]:.2f}')\n",
        "  model_eval_test = model.evaluate(test_data,\n",
        "                                  use_multiprocessing=True,\n",
        "                                  batch_size=batch_size)\n",
        "  print(f'Testing Binary Accuracy is: {model_eval_test[1]:.2f}')\n",
        "  return model, fit_history"
      ],
      "metadata": {
        "id": "CmXUCNCKu30M"
      },
      "execution_count": 77,
      "outputs": []
    },
    {
      "cell_type": "code",
      "source": [
        "'''\n",
        "Model_0: Densely Connected Network\n",
        "This neural network starts by flattening the data dn then runs it through two \n",
        "Dense layers.\n",
        "\n",
        "This is a simple and cheap model to test the data generator and the metrics\n",
        "being used to evaluate.\n",
        "'''\n",
        "\n",
        "from tensorflow import keras\n",
        "from tensorflow.keras.optimizers import RMSprop\n",
        "from keras.layers import Dense, Flatten\n",
        "\n",
        "# Build Model 0\n",
        "inputs = keras.Input(shape=(sequence_length, train_data_gen[0][0].shape[2]))\n",
        "x = Flatten()(inputs)\n",
        "x = Dense(16, activation='relu')(x)\n",
        "outputs = Dense(1)(x)\n",
        "model_0 = keras.Model(inputs, outputs)\n",
        "\n",
        "# Compile Model 0\n",
        "model_0.compile(loss='binary_crossentropy', \n",
        "              optimizer=RMSprop(learning_rate=0.001), \n",
        "              metrics=['binary_accuracy'])\n",
        "\n",
        "\n",
        "model_0.summary()"
      ],
      "metadata": {
        "colab": {
          "base_uri": "https://localhost:8080/"
        },
        "id": "BqTmajNgSTY_",
        "outputId": "0d5ffe9e-0b8a-4157-e8d0-80dfd83e3363"
      },
      "execution_count": 69,
      "outputs": [
        {
          "output_type": "stream",
          "name": "stdout",
          "text": [
            "Model: \"model_12\"\n",
            "_________________________________________________________________\n",
            " Layer (type)                Output Shape              Param #   \n",
            "=================================================================\n",
            " input_15 (InputLayer)       [(None, 240, 1)]          0         \n",
            "                                                                 \n",
            " flatten_8 (Flatten)         (None, 240)               0         \n",
            "                                                                 \n",
            " dense_25 (Dense)            (None, 16)                3856      \n",
            "                                                                 \n",
            " dense_26 (Dense)            (None, 1)                 17        \n",
            "                                                                 \n",
            "=================================================================\n",
            "Total params: 3,873\n",
            "Trainable params: 3,873\n",
            "Non-trainable params: 0\n",
            "_________________________________________________________________\n"
          ]
        }
      ]
    },
    {
      "cell_type": "code",
      "source": [
        "# Parameters for fitting and saving model training data\n",
        "epochs = 200\n",
        "model_0_filepath = 'models/model_dense.keras'\n",
        "history_0_filepath = 'models/trainHistoryDict/model_0_dense_history.pkl'"
      ],
      "metadata": {
        "id": "3zcGOs2g_U6b"
      },
      "execution_count": 73,
      "outputs": []
    },
    {
      "cell_type": "code",
      "source": [
        "# Fit the model to the training data\n",
        "history_0 = model_0.fit(train_data_gen, validation_data=val_data_gen,\n",
        "                        shuffle=False, epochs=epochs, \n",
        "                        callbacks=callbacks(model_0_filepath,\n",
        "                                            patience=10))\n",
        "\n",
        "# Pickle the Traning Fit History\n",
        "with open(history_0_filepath, 'wb') as file_pi:\n",
        "    pickle.dump(history_0, file_pi)"
      ],
      "metadata": {
        "colab": {
          "base_uri": "https://localhost:8080/"
        },
        "id": "Su4RSKkG-lek",
        "outputId": "2ce151cc-bcf6-4ddf-9001-dba89f8fd8fe"
      },
      "execution_count": 72,
      "outputs": [
        {
          "output_type": "stream",
          "name": "stdout",
          "text": [
            "Epoch 1/200\n",
            "153/153 [==============================] - 1s 4ms/step - loss: 2.1485 - binary_accuracy: 0.8065 - val_loss: 2.5053 - val_binary_accuracy: 0.7914\n",
            "Epoch 2/200\n",
            "153/153 [==============================] - 1s 4ms/step - loss: 2.0754 - binary_accuracy: 0.8121 - val_loss: 2.5026 - val_binary_accuracy: 0.7876\n",
            "Epoch 3/200\n",
            "153/153 [==============================] - 1s 4ms/step - loss: 2.0540 - binary_accuracy: 0.8161 - val_loss: 2.3952 - val_binary_accuracy: 0.7772\n",
            "Epoch 4/200\n",
            "153/153 [==============================] - 1s 4ms/step - loss: 1.9825 - binary_accuracy: 0.8221 - val_loss: 2.4086 - val_binary_accuracy: 0.7831\n",
            "Epoch 5/200\n",
            "153/153 [==============================] - 1s 4ms/step - loss: 1.9657 - binary_accuracy: 0.8203 - val_loss: 2.4267 - val_binary_accuracy: 0.7831\n",
            "Epoch 6/200\n",
            "153/153 [==============================] - 1s 4ms/step - loss: 1.9280 - binary_accuracy: 0.8285 - val_loss: 2.4313 - val_binary_accuracy: 0.7796\n",
            "Epoch 7/200\n",
            "153/153 [==============================] - 1s 4ms/step - loss: 1.9071 - binary_accuracy: 0.8362 - val_loss: 2.4883 - val_binary_accuracy: 0.7872\n",
            "Epoch 8/200\n",
            "153/153 [==============================] - 1s 4ms/step - loss: 1.8919 - binary_accuracy: 0.8350 - val_loss: 2.5258 - val_binary_accuracy: 0.7865\n",
            "Epoch 9/200\n",
            "153/153 [==============================] - 1s 5ms/step - loss: 1.8752 - binary_accuracy: 0.8389 - val_loss: 2.5562 - val_binary_accuracy: 0.7855\n",
            "Epoch 10/200\n",
            "153/153 [==============================] - 1s 5ms/step - loss: 1.8592 - binary_accuracy: 0.8465 - val_loss: 2.5750 - val_binary_accuracy: 0.7841\n",
            "Epoch 11/200\n",
            "153/153 [==============================] - 1s 4ms/step - loss: 1.8460 - binary_accuracy: 0.8548 - val_loss: 2.6200 - val_binary_accuracy: 0.7862\n",
            "Epoch 12/200\n",
            "153/153 [==============================] - 1s 4ms/step - loss: 1.8355 - binary_accuracy: 0.8559 - val_loss: 2.6580 - val_binary_accuracy: 0.7831\n",
            "Epoch 13/200\n",
            "150/153 [============================>.] - ETA: 0s - loss: 1.8421 - binary_accuracy: 0.8607Restoring model weights from the end of the best epoch: 3.\n",
            "153/153 [==============================] - 1s 4ms/step - loss: 1.8224 - binary_accuracy: 0.8617 - val_loss: 2.6991 - val_binary_accuracy: 0.7786\n",
            "Epoch 13: early stopping\n",
            "Keras weights file (<HDF5 file \"variables.h5\" (mode r+)>) saving:\n",
            "...layers\n",
            "......dense\n",
            ".........vars\n",
            "............0\n",
            "............1\n",
            "......dense_1\n",
            ".........vars\n",
            "............0\n",
            "............1\n",
            "......flatten\n",
            ".........vars\n",
            "......input_layer\n",
            ".........vars\n",
            "...metrics\n",
            "......mean\n",
            ".........vars\n",
            "............0\n",
            "............1\n",
            "......mean_metric_wrapper\n",
            ".........vars\n",
            "............0\n",
            "............1\n",
            "...optimizer\n",
            "......vars\n",
            ".........0\n",
            ".........1\n",
            ".........2\n",
            ".........3\n",
            ".........4\n",
            "...vars\n",
            "Keras model archive saving:\n",
            "File Name                                             Modified             Size\n",
            "metadata.json                                  2023-03-24 14:21:58           64\n",
            "variables.h5                                   2023-03-24 14:21:58        53992\n",
            "config.json                                    2023-03-24 14:21:58         2656\n"
          ]
        }
      ]
    },
    {
      "cell_type": "code",
      "source": [
        "# Load and Evaluate Model\n",
        "model_0, history_0 = evaluate_model(model_0_filepath, \n",
        "                         history_0_filepath,\n",
        "                         val_data_gen, \n",
        "                         test_data_gen,\n",
        "                         'models/evaluate/model_0_evaluation.pdf')"
      ],
      "metadata": {
        "colab": {
          "base_uri": "https://localhost:8080/",
          "height": 1000
        },
        "id": "rSCtPyyU_FoP",
        "outputId": "8ebf65d7-5bc0-4f26-a8e6-8fa9dc6db9a0"
      },
      "execution_count": 71,
      "outputs": [
        {
          "output_type": "stream",
          "name": "stdout",
          "text": [
            "46/46 [==============================] - 0s 6ms/step - loss: 2.4729 - binary_accuracy: 0.7796\n",
            "Keras model archive loading:\n",
            "File Name                                             Modified             Size\n",
            "metadata.json                                  2023-03-24 14:21:24           64\n",
            "variables.h5                                   2023-03-24 14:21:24        53992\n",
            "config.json                                    2023-03-24 14:21:24         2283\n",
            "Keras weights file (<HDF5 file \"variables.h5\" (mode r)>) loading:\n",
            "...layers\n",
            "......dense\n",
            ".........vars\n",
            "............0\n",
            "............1\n",
            "......dense_1\n",
            ".........vars\n",
            "............0\n",
            "............1\n",
            "......flatten\n",
            ".........vars\n",
            "......input_layer\n",
            ".........vars\n",
            "...metrics\n",
            "......mean\n",
            ".........vars\n",
            "............0\n",
            "............1\n",
            "......mean_metric_wrapper\n",
            ".........vars\n",
            "............0\n",
            "............1\n",
            "...optimizer\n",
            "......vars\n",
            ".........0\n",
            ".........1\n",
            ".........2\n",
            ".........3\n",
            ".........4\n",
            "...vars\n"
          ]
        },
        {
          "output_type": "display_data",
          "data": {
            "text/plain": [
              "<Figure size 1728x576 with 2 Axes>"
            ],
            "image/png": "[encoded data removed]"
          },
          "metadata": {}
        },
        {
          "output_type": "stream",
          "name": "stdout",
          "text": [
            "Validation Binary Accuracy is: 0.78\n",
            "36/36 [==============================] - 0s 7ms/step - loss: 2.5145 - binary_accuracy: 0.7646\n",
            "Testing Binary Accuracy is: 0.76\n"
          ]
        }
      ]
    },
    {
      "cell_type": "markdown",
      "source": [],
      "metadata": {
        "id": "Efitgp0qbhTQ"
      }
    },
    {
      "cell_type": "code",
      "source": [
        "'''\n",
        "Model_1: Simple LSTM Model\n",
        "Timeseries data is a sequence, where causality and sequence matter.\n",
        "'''\n",
        "from keras.callbacks import EarlyStopping, ModelCheckpoint\n",
        "\n",
        "inputs = keras.Input(shape=(sequence_length, train_data_gen[0][0].shape[2]))\n",
        "x = LSTM(batch_size, activation='relu', input_shape=(sequence_length, 1))(inputs)\n",
        "outputs = layers.Dense(1, activation='sigmoid')(x)          \n",
        "model_1 = keras.Model(inputs, outputs)\n",
        "\n",
        "model_1.compile(loss='binary_crossentropy', \n",
        "              optimizer=RMSprop(learning_rate=0.0001), \n",
        "              metrics=['binary_accuracy'])\n"
      ],
      "metadata": {
        "colab": {
          "base_uri": "https://localhost:8080/"
        },
        "id": "S9FE5IG5Uj47",
        "outputId": "e9898563-5c33-4936-ef69-b261b4b2912d"
      },
      "execution_count": 74,
      "outputs": [
        {
          "output_type": "stream",
          "name": "stderr",
          "text": [
            "WARNING:tensorflow:Layer lstm will not use cuDNN kernels since it doesn't meet the criteria. It will use a generic GPU kernel as fallback when running on GPU.\n"
          ]
        }
      ]
    },
    {
      "cell_type": "code",
      "source": [
        "# Parameters for fitting and saving model training data\n",
        "epochs = 200\n",
        "model_1_filepath = 'models/model_1_lstm.keras'\n",
        "history_1_filepath = 'models/trainHistoryDict/model_1_lstm_history.pkl'"
      ],
      "metadata": {
        "id": "34yu6iffAE19"
      },
      "execution_count": 75,
      "outputs": []
    },
    {
      "cell_type": "code",
      "source": [
        "# Fit the model to the training data\n",
        "history_1 = model_1.fit(train_data_gen, validation_data=val_data_gen,\n",
        "                        shuffle=False, epochs=epochs, \n",
        "                        callbacks=callbacks(model_1_filepath,\n",
        "                                            patience=5))\n",
        "\n",
        "# Pickle the Traning Fit History\n",
        "with open(history_1_filepath, 'wb') as file_pi:\n",
        "    pickle.dump(history_1, file_pi)"
      ],
      "metadata": {
        "colab": {
          "base_uri": "https://localhost:8080/"
        },
        "id": "LTE2TEcq__S7",
        "outputId": "d93b9f07-9656-430b-b088-946654baa4fa"
      },
      "execution_count": 78,
      "outputs": [
        {
          "output_type": "stream",
          "name": "stdout",
          "text": [
            "Epoch 1/200\n",
            "153/153 [==============================] - 46s 301ms/step - loss: 798005788672.0000 - binary_accuracy: 0.8142 - val_loss: 0.4876 - val_binary_accuracy: 0.8138\n",
            "Epoch 2/200\n",
            "153/153 [==============================] - 46s 299ms/step - loss: 0.4864 - binary_accuracy: 0.8142 - val_loss: 0.4868 - val_binary_accuracy: 0.8138\n",
            "Epoch 3/200\n",
            "153/153 [==============================] - 46s 301ms/step - loss: 0.4858 - binary_accuracy: 0.8142 - val_loss: 0.4862 - val_binary_accuracy: 0.8138\n",
            "Epoch 4/200\n",
            "153/153 [==============================] - 46s 300ms/step - loss: 0.4852 - binary_accuracy: 0.8142 - val_loss: 0.4856 - val_binary_accuracy: 0.8138\n",
            "Epoch 5/200\n",
            "153/153 [==============================] - 46s 298ms/step - loss: 0.4847 - binary_accuracy: 0.8142 - val_loss: 0.4847 - val_binary_accuracy: 0.8138\n",
            "Epoch 6/200\n",
            "153/153 [==============================] - 46s 300ms/step - loss: 53099646976.0000 - binary_accuracy: 0.8142 - val_loss: 0.4834 - val_binary_accuracy: 0.8138\n",
            "Epoch 7/200\n",
            "153/153 [==============================] - 46s 298ms/step - loss: 0.4825 - binary_accuracy: 0.8142 - val_loss: 0.4833 - val_binary_accuracy: 0.8138\n",
            "Epoch 8/200\n",
            "153/153 [==============================] - 46s 299ms/step - loss: 0.4824 - binary_accuracy: 0.8142 - val_loss: 0.4832 - val_binary_accuracy: 0.8138\n",
            "Epoch 9/200\n",
            "153/153 [==============================] - 45s 297ms/step - loss: 0.4824 - binary_accuracy: 0.8142 - val_loss: 0.4831 - val_binary_accuracy: 0.8138\n",
            "Epoch 10/200\n",
            "153/153 [==============================] - 45s 296ms/step - loss: 0.4828 - binary_accuracy: 0.8142 - val_loss: 0.4825 - val_binary_accuracy: 0.8138\n",
            "Epoch 11/200\n",
            "153/153 [==============================] - 45s 296ms/step - loss: 122707.7891 - binary_accuracy: 0.8142 - val_loss: 0.4823 - val_binary_accuracy: 0.8138\n",
            "Epoch 12/200\n",
            "153/153 [==============================] - 46s 300ms/step - loss: 0.4813 - binary_accuracy: 0.8142 - val_loss: 0.4820 - val_binary_accuracy: 0.8138\n",
            "Epoch 13/200\n",
            "153/153 [==============================] - 46s 299ms/step - loss: 0.4810 - binary_accuracy: 0.8142 - val_loss: 0.4814 - val_binary_accuracy: 0.8138\n",
            "Epoch 14/200\n",
            "153/153 [==============================] - 45s 297ms/step - loss: 0.4817 - binary_accuracy: 0.8142 - val_loss: 0.4814 - val_binary_accuracy: 0.8138\n",
            "Epoch 15/200\n",
            "153/153 [==============================] - 48s 311ms/step - loss: 0.4819 - binary_accuracy: 0.8142 - val_loss: 0.4812 - val_binary_accuracy: 0.8138\n",
            "Epoch 16/200\n",
            "153/153 [==============================] - 48s 313ms/step - loss: 0.4815 - binary_accuracy: 0.8142 - val_loss: 0.4813 - val_binary_accuracy: 0.8138\n",
            "Epoch 17/200\n",
            "153/153 [==============================] - 51s 331ms/step - loss: 0.4813 - binary_accuracy: 0.8142 - val_loss: 0.4814 - val_binary_accuracy: 0.8138\n",
            "Epoch 18/200\n",
            "153/153 [==============================] - 49s 317ms/step - loss: 0.4811 - binary_accuracy: 0.8142 - val_loss: 0.4814 - val_binary_accuracy: 0.8138\n",
            "Epoch 19/200\n",
            "153/153 [==============================] - 50s 326ms/step - loss: 0.4809 - binary_accuracy: 0.8142 - val_loss: 0.4815 - val_binary_accuracy: 0.8138\n",
            "Epoch 20/200\n",
            "153/153 [==============================] - ETA: 0s - loss: 0.4809 - binary_accuracy: 0.8142Restoring model weights from the end of the best epoch: 15.\n",
            "153/153 [==============================] - 50s 327ms/step - loss: 0.4809 - binary_accuracy: 0.8142 - val_loss: 0.4815 - val_binary_accuracy: 0.8138\n",
            "Epoch 20: early stopping\n",
            "Keras weights file (<HDF5 file \"variables.h5\" (mode r+)>) saving:\n",
            "...layers\n",
            "......dense\n",
            ".........vars\n",
            "............0\n",
            "............1\n",
            "......input_layer\n",
            ".........vars\n",
            "......lstm\n",
            ".........cell\n",
            "............vars\n",
            "...............0\n",
            "...............1\n",
            "...............2\n",
            ".........vars\n",
            "...metrics\n",
            "......mean\n",
            ".........vars\n",
            "............0\n",
            "............1\n",
            "......mean_metric_wrapper\n",
            ".........vars\n",
            "............0\n",
            "............1\n",
            "...optimizer\n",
            "......vars\n",
            ".........0\n",
            ".........1\n",
            ".........2\n",
            ".........3\n",
            ".........4\n",
            ".........5\n",
            "...vars\n",
            "Keras model archive saving:\n",
            "File Name                                             Modified             Size\n",
            "metadata.json                                  2023-03-24 14:45:51           64\n",
            "variables.h5                                   2023-03-24 14:45:51       159224\n",
            "config.json                                    2023-03-24 14:45:51         2588\n"
          ]
        }
      ]
    },
    {
      "cell_type": "code",
      "source": [
        "# Load and Evaluate Model\n",
        "model_1, history_1 = evaluate_model(model_1_filepath, \n",
        "                         history_1_filepath,\n",
        "                         val_data_gen, \n",
        "                         test_data_gen,\n",
        "                         'models/evaluate/model_0_evaluation.pdf')"
      ],
      "metadata": {
        "colab": {
          "base_uri": "https://localhost:8080/",
          "height": 1000
        },
        "id": "t2r4vuHoQHyj",
        "outputId": "a29df37f-d824-424d-c779-8c3ef9ed73ce"
      },
      "execution_count": 79,
      "outputs": [
        {
          "output_type": "stream",
          "name": "stderr",
          "text": [
            "WARNING:tensorflow:Layer lstm will not use cuDNN kernels since it doesn't meet the criteria. It will use a generic GPU kernel as fallback when running on GPU.\n"
          ]
        },
        {
          "output_type": "stream",
          "name": "stdout",
          "text": [
            "46/46 [==============================] - 2s 34ms/step - loss: 0.4812 - binary_accuracy: 0.8138\n",
            "Keras model archive loading:\n",
            "File Name                                             Modified             Size\n",
            "metadata.json                                  2023-03-24 14:45:50           64\n",
            "variables.h5                                   2023-03-24 14:45:50       159224\n",
            "config.json                                    2023-03-24 14:45:50         2588\n"
          ]
        },
        {
          "output_type": "stream",
          "name": "stderr",
          "text": [
            "WARNING:tensorflow:Layer lstm will not use cuDNN kernels since it doesn't meet the criteria. It will use a generic GPU kernel as fallback when running on GPU.\n"
          ]
        },
        {
          "output_type": "stream",
          "name": "stdout",
          "text": [
            "Keras weights file (<HDF5 file \"variables.h5\" (mode r)>) loading:\n",
            "...layers\n",
            "......dense\n",
            ".........vars\n",
            "............0\n",
            "............1\n",
            "......input_layer\n",
            ".........vars\n",
            "......lstm\n",
            ".........cell\n",
            "............vars\n",
            "...............0\n",
            "...............1\n",
            "...............2\n",
            ".........vars\n",
            "...metrics\n",
            "......mean\n",
            ".........vars\n",
            "............0\n",
            "............1\n",
            "......mean_metric_wrapper\n",
            ".........vars\n",
            "............0\n",
            "............1\n",
            "...optimizer\n",
            "......vars\n",
            ".........0\n",
            ".........1\n",
            ".........2\n",
            ".........3\n",
            ".........4\n",
            ".........5\n",
            "...vars\n"
          ]
        },
        {
          "output_type": "display_data",
          "data": {
            "text/plain": [
              "<Figure size 1728x576 with 2 Axes>"
            ],
            "image/png": "[encoded data removed]"
          },
          "metadata": {}
        },
        {
          "output_type": "stream",
          "name": "stdout",
          "text": [
            "Validation Binary Accuracy is: 0.81\n",
            "36/36 [==============================] - 1s 34ms/step - loss: 0.4879 - binary_accuracy: 0.8100\n",
            "Testing Binary Accuracy is: 0.81\n"
          ]
        }
      ]
    },
    {
      "cell_type": "markdown",
      "source": [
        "Binary_accuracy and validation loss is stalling out around epoch 6-8. "
      ],
      "metadata": {
        "id": "TkZNwirfjE_S"
      }
    },
    {
      "cell_type": "code",
      "source": [
        "'''\n",
        "Model 2: Complex LSTM with Dropout\n",
        "'''\n",
        "from keras.layers import LSTM, Dense, Dropout, Reshape, RepeatVector, TimeDistributed\n",
        "from tensorflow.keras.optimizers import RMSprop, Adam\n",
        "\n",
        "# Build the model\n",
        "inputs = keras.Input(shape=(sequence_length, train_data_gen[0][0].shape[2]))\n",
        "\n",
        "# LSTM layer\n",
        "x = LSTM(batch_size, \n",
        "         activation='relu', \n",
        "         input_shape=(sequence_length, 1),\n",
        "         return_sequences = True,\n",
        "         unroll=True,\n",
        "         recurrent_dropout=0.5)(inputs) # Dropout\n",
        "#x = Dense(units=batch_size//2, activation='relu')(x)\n",
        "\n",
        "# Reshape the output of the last dense layer to match the desired shape\n",
        "#x = Reshape((batch_size, 1))(x)\n",
        "\n",
        "# Repeat the output across the sequence_length dimension\n",
        "#x = RepeatVector((sequence_length))(x)\n",
        "\n",
        "# Second LSTM Layer\n",
        "x = LSTM(batch_size//2, \n",
        "         activation='relu', \n",
        "         return_sequences = True,\n",
        "         unroll=True,\n",
        "         recurrent_dropout=0.5)(x) # Dropout\n",
        "x = TimeDistributed(Dense(1, activation='sigmoid'))(x)\n",
        "outputs = Flatten()(x)\n",
        "\n",
        "model_2 = keras.Model(inputs, outputs)\n",
        "\n",
        "# Compile\n",
        "model_2.compile(loss='binary_crossentropy', \n",
        "              optimizer=RMSprop(learning_rate=0.0001), \n",
        "              metrics=['binary_accuracy'])\n",
        "\n",
        "model_2.summary()"
      ],
      "metadata": {
        "colab": {
          "base_uri": "https://localhost:8080/"
        },
        "id": "9D6BD7Zoheo2",
        "outputId": "c82ab49b-d41e-44b2-96a7-89dd0ba38e8f"
      },
      "execution_count": 112,
      "outputs": [
        {
          "output_type": "stream",
          "name": "stderr",
          "text": [
            "WARNING:tensorflow:Layer lstm_39 will not use cuDNN kernels since it doesn't meet the criteria. It will use a generic GPU kernel as fallback when running on GPU.\n",
            "WARNING:tensorflow:Layer lstm_40 will not use cuDNN kernels since it doesn't meet the criteria. It will use a generic GPU kernel as fallback when running on GPU.\n"
          ]
        },
        {
          "output_type": "stream",
          "name": "stdout",
          "text": [
            "Model: \"model_15\"\n",
            "_________________________________________________________________\n",
            " Layer (type)                Output Shape              Param #   \n",
            "=================================================================\n",
            " input_47 (InputLayer)       [(None, 240, 1)]          0         \n",
            "                                                                 \n",
            " lstm_39 (LSTM)              (None, 240, 64)           16896     \n",
            "                                                                 \n",
            " lstm_40 (LSTM)              (None, 240, 32)           12416     \n",
            "                                                                 \n",
            " time_distributed_1 (TimeDis  (None, 240, 1)           33        \n",
            " tributed)                                                       \n",
            "                                                                 \n",
            " flatten_9 (Flatten)         (None, 240)               0         \n",
            "                                                                 \n",
            "=================================================================\n",
            "Total params: 29,345\n",
            "Trainable params: 29,345\n",
            "Non-trainable params: 0\n",
            "_________________________________________________________________\n"
          ]
        }
      ]
    },
    {
      "cell_type": "code",
      "source": [
        "# Parameters for fitting and saving model training data\n",
        "epochs = 200\n",
        "model_2_filepath = 'models/model_2_multiLSTM.keras'\n",
        "history_2_filepath = 'models/trainHistoryDict/model_2_dense_history.pkl'"
      ],
      "metadata": {
        "id": "y_2qrwJMDyUc"
      },
      "execution_count": 113,
      "outputs": []
    },
    {
      "cell_type": "code",
      "source": [
        "# Fit the model to the training data\n",
        "history_2 = model_2.fit(train_data_gen, validation_data=val_data_gen,\n",
        "                        shuffle=False, epochs=epochs, \n",
        "                        callbacks=callbacks(model_2_filepath,\n",
        "                                            patience=3))\n",
        "\n",
        "# Pickle the Traning Fit History\n",
        "with open(history_2_filepath, 'wb') as file_pi:\n",
        "    pickle.dump(history_2, file_pi)"
      ],
      "metadata": {
        "colab": {
          "base_uri": "https://localhost:8080/"
        },
        "id": "oWoWk_MjDtMR",
        "outputId": "d4d1b97f-8cde-464d-c425-354c5cc41820"
      },
      "execution_count": null,
      "outputs": [
        {
          "output_type": "stream",
          "name": "stdout",
          "text": [
            "Epoch 1/200\n"
          ]
        }
      ]
    },
    {
      "cell_type": "code",
      "source": [
        "# Load and Evaluate Model\n",
        "model_2, history_2 = evaluate_model(model_2_filepath, \n",
        "                         history_2_filepath,\n",
        "                         val_data_gen, \n",
        "                         test_data_gen,\n",
        "                         'models/evaluate/model_2_evaluation.pdf')"
      ],
      "metadata": {
        "id": "wqZrvGuOET-1"
      },
      "execution_count": null,
      "outputs": []
    },
    {
      "cell_type": "code",
      "source": [
        "''''\n",
        "Model 3: Bidirectional LSTM\n",
        "'''\n",
        "\n",
        "# Define the LSTM model\n",
        "inputs = keras.Input(shape=(sequence_length, train_data_gen[0][0].shape[2]))\n",
        "# Next model add a Dense layer here\n",
        "x = Dense(units=batch_size, activation='relu')(inputs)\n",
        "x = layers.Bidirectional(LSTM(batch_size, \n",
        "                          activation='relu', \n",
        "                          input_shape=(sequence_length, 1),\n",
        "                          unroll=True,\n",
        "                          recurrent_dropout=0.5))(x)\n",
        "x = Dense(units=batch_size//2, activation='relu')(x)\n",
        "outputs = Dense(units=1, activation='sigmoid')(x)\n",
        "model_3 = keras.Model(inputs, outputs)\n",
        "\n",
        "# Compile\n",
        "model_3.compile(loss='binary_crossentropy', \n",
        "              optimizer=Adam(learning_rate=0.00001), \n",
        "              metrics=['binary_accuracy'])\n",
        "model_3.summary()"
      ],
      "metadata": {
        "colab": {
          "base_uri": "https://localhost:8080/"
        },
        "id": "WaMLOKHyr8GR",
        "outputId": "cbef1240-66a1-4545-8314-e1311f9c0597"
      },
      "execution_count": 88,
      "outputs": [
        {
          "output_type": "stream",
          "name": "stderr",
          "text": [
            "WARNING:tensorflow:Layer lstm_28 will not use cuDNN kernels since it doesn't meet the criteria. It will use a generic GPU kernel as fallback when running on GPU.\n",
            "WARNING:tensorflow:Layer lstm_28 will not use cuDNN kernels since it doesn't meet the criteria. It will use a generic GPU kernel as fallback when running on GPU.\n",
            "WARNING:tensorflow:Layer lstm_28 will not use cuDNN kernels since it doesn't meet the criteria. It will use a generic GPU kernel as fallback when running on GPU.\n"
          ]
        }
      ]
    },
    {
      "cell_type": "code",
      "source": [
        "# Parameters for fitting and saving model training data\n",
        "epochs = 200\n",
        "model_3_filepath = 'models/model_3_bidirLSTM.keras'\n",
        "history_3_filepath = 'models/trainHistoryDict/model_3_bidirLSTM_history.pkl'"
      ],
      "metadata": {
        "colab": {
          "base_uri": "https://localhost:8080/"
        },
        "id": "hQcBf0pZul4L",
        "outputId": "bf9806d2-b4cd-4fc9-927a-295402978ca5"
      },
      "execution_count": 89,
      "outputs": [
        {
          "output_type": "stream",
          "name": "stdout",
          "text": [
            "Epoch 1/50\n",
            "153/153 [==============================] - 351s 607ms/step - loss: 0.6978 - binary_accuracy: 0.4295 - val_loss: 0.6780 - val_binary_accuracy: 0.8066\n",
            "Epoch 2/50\n",
            "153/153 [==============================] - 63s 411ms/step - loss: 0.6562 - binary_accuracy: 0.8123 - val_loss: 0.6374 - val_binary_accuracy: 0.8138\n",
            "Epoch 3/50\n",
            "153/153 [==============================] - 63s 412ms/step - loss: 0.7278 - binary_accuracy: 0.8142 - val_loss: 0.5990 - val_binary_accuracy: 0.8138\n",
            "Epoch 4/50\n",
            "153/153 [==============================] - 63s 413ms/step - loss: 590928.1250 - binary_accuracy: 0.8142 - val_loss: 0.5789 - val_binary_accuracy: 0.8138\n",
            "Epoch 5/50\n",
            "153/153 [==============================] - 63s 413ms/step - loss: 114.6105 - binary_accuracy: 0.8140 - val_loss: 0.5736 - val_binary_accuracy: 0.8138\n",
            "Epoch 6/50\n",
            "153/153 [==============================] - 63s 412ms/step - loss: 429775872.0000 - binary_accuracy: 0.8142 - val_loss: 0.5698 - val_binary_accuracy: 0.8138\n",
            "Epoch 7/50\n",
            "153/153 [==============================] - 63s 412ms/step - loss: 0.5698 - binary_accuracy: 0.8142 - val_loss: 0.5632 - val_binary_accuracy: 0.8138\n",
            "Epoch 8/50\n",
            "153/153 [==============================] - 64s 416ms/step - loss: 3944.2529 - binary_accuracy: 0.8142 - val_loss: 0.5561 - val_binary_accuracy: 0.8138\n",
            "Epoch 9/50\n",
            "153/153 [==============================] - 62s 404ms/step - loss: 367539.9375 - binary_accuracy: 0.8142 - val_loss: 0.5532 - val_binary_accuracy: 0.8138\n",
            "Epoch 10/50\n",
            "153/153 [==============================] - 62s 406ms/step - loss: 150.5522 - binary_accuracy: 0.8142 - val_loss: 0.5500 - val_binary_accuracy: 0.8138\n",
            "Epoch 11/50\n",
            "153/153 [==============================] - 62s 406ms/step - loss: 163.4266 - binary_accuracy: 0.8142 - val_loss: 0.5481 - val_binary_accuracy: 0.8138\n",
            "Epoch 12/50\n",
            "153/153 [==============================] - 62s 405ms/step - loss: 172419072.0000 - binary_accuracy: 0.8141 - val_loss: 0.5445 - val_binary_accuracy: 0.8138\n",
            "Epoch 13/50\n",
            "153/153 [==============================] - 63s 414ms/step - loss: nan - binary_accuracy: 0.8142 - val_loss: nan - val_binary_accuracy: 0.8138\n",
            "Epoch 14/50\n",
            "153/153 [==============================] - 62s 404ms/step - loss: nan - binary_accuracy: 0.8142 - val_loss: nan - val_binary_accuracy: 0.8138\n",
            "Epoch 15/50\n",
            "153/153 [==============================] - ETA: 0s - loss: nan - binary_accuracy: 0.8142Restoring model weights from the end of the best epoch: 12.\n",
            "153/153 [==============================] - 62s 402ms/step - loss: nan - binary_accuracy: 0.8142 - val_loss: nan - val_binary_accuracy: 0.8138\n",
            "Epoch 15: early stopping\n"
          ]
        }
      ]
    },
    {
      "cell_type": "code",
      "source": [
        "# Fit the model to the training data\n",
        "history_3 = model_3.fit(train_data_gen, validation_data=val_data_gen,\n",
        "                        shuffle=False, epochs=epochs, \n",
        "                        callbacks=callbacks(model_3_filepath,\n",
        "                                            patience=5))\n",
        "\n",
        "# Pickle the Traning Fit History\n",
        "with open(history_3_filepath, 'wb') as file_pi:\n",
        "    pickle.dump(history_3, file_pi)"
      ],
      "metadata": {
        "colab": {
          "base_uri": "https://localhost:8080/",
          "height": 243
        },
        "id": "7T24McaT2y_E",
        "outputId": "47af93ce-c531-436b-f5f5-c62e9dcee711"
      },
      "execution_count": 43,
      "outputs": [
        {
          "output_type": "error",
          "ename": "NameError",
          "evalue": "ignored",
          "traceback": [
            "\u001b[0;31m---------------------------------------------------------------------------\u001b[0m",
            "\u001b[0;31mNameError\u001b[0m                                 Traceback (most recent call last)",
            "\u001b[0;32m<ipython-input-43-c6d90fdf5399>\u001b[0m in \u001b[0;36m<module>\u001b[0;34m\u001b[0m\n\u001b[1;32m      2\u001b[0m \u001b[0mmodel_3_filepath\u001b[0m \u001b[0;34m=\u001b[0m \u001b[0;34m'models/model_lstm_3.keras'\u001b[0m\u001b[0;34m\u001b[0m\u001b[0;34m\u001b[0m\u001b[0m\n\u001b[1;32m      3\u001b[0m model_3 = evaluate_model(model_3_filepath, \n\u001b[0;32m----> 4\u001b[0;31m                          \u001b[0mhistory_3\u001b[0m\u001b[0;34m,\u001b[0m\u001b[0;34m\u001b[0m\u001b[0;34m\u001b[0m\u001b[0m\n\u001b[0m\u001b[1;32m      5\u001b[0m                          \u001b[0mval_data_gen\u001b[0m\u001b[0;34m,\u001b[0m\u001b[0;34m\u001b[0m\u001b[0;34m\u001b[0m\u001b[0m\n\u001b[1;32m      6\u001b[0m                          \u001b[0mtest_data_gen\u001b[0m\u001b[0;34m,\u001b[0m\u001b[0;34m\u001b[0m\u001b[0;34m\u001b[0m\u001b[0m\n",
            "\u001b[0;31mNameError\u001b[0m: name 'history_3' is not defined"
          ]
        }
      ]
    },
    {
      "cell_type": "code",
      "source": [
        "\n",
        "# Load and Evaluate Model\n",
        "model_3, history_3 = evaluate_model(model_0_filepath, \n",
        "                         history_3_filepath,\n",
        "                         val_data_gen, \n",
        "                         test_data_gen,\n",
        "                         'models/evaluate/model_3_evaluation.pdf')"
      ],
      "metadata": {
        "id": "qGk4xXzoE2lu"
      },
      "execution_count": null,
      "outputs": []
    },
    {
      "cell_type": "code",
      "source": [
        "'''\n",
        "Model_4: Timeseries classification with a transformer model\n",
        "Attention is all you need.\n",
        "'''\n",
        "from tensorflow import keras\n",
        "from tensorflow.keras import layers\n",
        "from keras.models import Sequential\n",
        "from keras.layers import LSTM, Dense, Dropout\n",
        "from tensorflow.keras.optimizers import RMSprop, Adam\n",
        "from keras.callbacks import EarlyStopping, ModelCheckpoint\n",
        "\n",
        "# Transformer\n",
        "def transformer_encoder(inputs, head_size, num_heads, ff_dim, dropout=0):\n",
        "    # Normalization and Attention\n",
        "    x = layers.LayerNormalization(epsilon=1e-6)(inputs)\n",
        "    x = layers.MultiHeadAttention(\n",
        "        key_dim=head_size, num_heads=num_heads, dropout=dropout\n",
        "    )(x, x)\n",
        "    x = layers.Dropout(dropout)(x)\n",
        "    res = x + inputs\n",
        "\n",
        "    # Feed Forward Part\n",
        "    x = layers.LayerNormalization(epsilon=1e-6)(res)\n",
        "    x = layers.Conv1D(filters=ff_dim, kernel_size=1, activation=\"relu\")(x)\n",
        "    x = layers.Dropout(dropout)(x)\n",
        "    x = layers.Conv1D(filters=inputs.shape[-1], kernel_size=1)(x)\n",
        "    return x + res\n",
        "\n",
        "def build_transformer_model(\n",
        "    input_shape,\n",
        "    n_classes,\n",
        "    head_size,\n",
        "    num_heads,\n",
        "    ff_dim,\n",
        "    num_transformer_blocks,\n",
        "    mlp_units,\n",
        "    dropout=0,\n",
        "    mlp_dropout=0,\n",
        "):\n",
        "    inputs = keras.Input(shape=(sequence_length, train_data_gen[0][0].shape[2]))\n",
        "    #inputs = keras.Input(shape=input_shape)\n",
        "    x = inputs\n",
        "    for _ in range(num_transformer_blocks):\n",
        "        x = transformer_encoder(x, head_size, num_heads, ff_dim, dropout)\n",
        "\n",
        "    x = layers.GlobalAveragePooling1D(data_format=\"channels_first\")(x)\n",
        "    for dim in mlp_units:\n",
        "        x = layers.Dense(dim, activation=\"relu\")(x)\n",
        "        x = layers.Dropout(mlp_dropout)(x)\n",
        "    outputs = layers.Dense(n_classes, activation=\"sigmoid\")(x)\n",
        "    return keras.Model(inputs, outputs)\n",
        "\n",
        "# Build model\n",
        "model_4 = build_transformer_model(\n",
        "                sequence_length,\n",
        "                n_classes=1,\n",
        "                head_size=256,\n",
        "                num_heads=4,\n",
        "                ff_dim=4,\n",
        "                num_transformer_blocks=4,\n",
        "                mlp_units=[128],\n",
        "                mlp_dropout=0.4,\n",
        "                dropout=0.25,\n",
        ")\n",
        "\n",
        "# Compile Model\n",
        "model_4.compile(\n",
        "    loss=\"binary_crossentropy\",\n",
        "    optimizer=Adam(learning_rate=1e-4),\n",
        "    metrics=[\"binary_accuracy\"],\n",
        ")\n",
        "model_4.summary()"
      ],
      "metadata": {
        "colab": {
          "base_uri": "https://localhost:8080/"
        },
        "id": "t4llTR3FvAwS",
        "outputId": "ed81d145-d661-4cba-baa6-c58d194ff312"
      },
      "execution_count": 26,
      "outputs": [
        {
          "output_type": "stream",
          "name": "stdout",
          "text": [
            "Model: \"model_3\"\n",
            "__________________________________________________________________________________________________\n",
            " Layer (type)                   Output Shape         Param #     Connected to                     \n",
            "==================================================================================================\n",
            " input_5 (InputLayer)           [(None, 240, 1)]     0           []                               \n",
            "                                                                                                  \n",
            " layer_normalization_32 (LayerN  (None, 240, 1)      2           ['input_5[0][0]']                \n",
            " ormalization)                                                                                    \n",
            "                                                                                                  \n",
            " multi_head_attention_16 (Multi  (None, 240, 1)      7169        ['layer_normalization_32[0][0]', \n",
            " HeadAttention)                                                   'layer_normalization_32[0][0]'] \n",
            "                                                                                                  \n",
            " dropout_36 (Dropout)           (None, 240, 1)       0           ['multi_head_attention_16[0][0]']\n",
            "                                                                                                  \n",
            " tf.__operators__.add_32 (TFOpL  (None, 240, 1)      0           ['dropout_36[0][0]',             \n",
            " ambda)                                                           'input_5[0][0]']                \n",
            "                                                                                                  \n",
            " layer_normalization_33 (LayerN  (None, 240, 1)      2           ['tf.__operators__.add_32[0][0]']\n",
            " ormalization)                                                                                    \n",
            "                                                                                                  \n",
            " conv1d_32 (Conv1D)             (None, 240, 4)       8           ['layer_normalization_33[0][0]'] \n",
            "                                                                                                  \n",
            " dropout_37 (Dropout)           (None, 240, 4)       0           ['conv1d_32[0][0]']              \n",
            "                                                                                                  \n",
            " conv1d_33 (Conv1D)             (None, 240, 1)       5           ['dropout_37[0][0]']             \n",
            "                                                                                                  \n",
            " tf.__operators__.add_33 (TFOpL  (None, 240, 1)      0           ['conv1d_33[0][0]',              \n",
            " ambda)                                                           'tf.__operators__.add_32[0][0]']\n",
            "                                                                                                  \n",
            " layer_normalization_34 (LayerN  (None, 240, 1)      2           ['tf.__operators__.add_33[0][0]']\n",
            " ormalization)                                                                                    \n",
            "                                                                                                  \n",
            " multi_head_attention_17 (Multi  (None, 240, 1)      7169        ['layer_normalization_34[0][0]', \n",
            " HeadAttention)                                                   'layer_normalization_34[0][0]'] \n",
            "                                                                                                  \n",
            " dropout_38 (Dropout)           (None, 240, 1)       0           ['multi_head_attention_17[0][0]']\n",
            "                                                                                                  \n",
            " tf.__operators__.add_34 (TFOpL  (None, 240, 1)      0           ['dropout_38[0][0]',             \n",
            " ambda)                                                           'tf.__operators__.add_33[0][0]']\n",
            "                                                                                                  \n",
            " layer_normalization_35 (LayerN  (None, 240, 1)      2           ['tf.__operators__.add_34[0][0]']\n",
            " ormalization)                                                                                    \n",
            "                                                                                                  \n",
            " conv1d_34 (Conv1D)             (None, 240, 4)       8           ['layer_normalization_35[0][0]'] \n",
            "                                                                                                  \n",
            " dropout_39 (Dropout)           (None, 240, 4)       0           ['conv1d_34[0][0]']              \n",
            "                                                                                                  \n",
            " conv1d_35 (Conv1D)             (None, 240, 1)       5           ['dropout_39[0][0]']             \n",
            "                                                                                                  \n",
            " tf.__operators__.add_35 (TFOpL  (None, 240, 1)      0           ['conv1d_35[0][0]',              \n",
            " ambda)                                                           'tf.__operators__.add_34[0][0]']\n",
            "                                                                                                  \n",
            " layer_normalization_36 (LayerN  (None, 240, 1)      2           ['tf.__operators__.add_35[0][0]']\n",
            " ormalization)                                                                                    \n",
            "                                                                                                  \n",
            " multi_head_attention_18 (Multi  (None, 240, 1)      7169        ['layer_normalization_36[0][0]', \n",
            " HeadAttention)                                                   'layer_normalization_36[0][0]'] \n",
            "                                                                                                  \n",
            " dropout_40 (Dropout)           (None, 240, 1)       0           ['multi_head_attention_18[0][0]']\n",
            "                                                                                                  \n",
            " tf.__operators__.add_36 (TFOpL  (None, 240, 1)      0           ['dropout_40[0][0]',             \n",
            " ambda)                                                           'tf.__operators__.add_35[0][0]']\n",
            "                                                                                                  \n",
            " layer_normalization_37 (LayerN  (None, 240, 1)      2           ['tf.__operators__.add_36[0][0]']\n",
            " ormalization)                                                                                    \n",
            "                                                                                                  \n",
            " conv1d_36 (Conv1D)             (None, 240, 4)       8           ['layer_normalization_37[0][0]'] \n",
            "                                                                                                  \n",
            " dropout_41 (Dropout)           (None, 240, 4)       0           ['conv1d_36[0][0]']              \n",
            "                                                                                                  \n",
            " conv1d_37 (Conv1D)             (None, 240, 1)       5           ['dropout_41[0][0]']             \n",
            "                                                                                                  \n",
            " tf.__operators__.add_37 (TFOpL  (None, 240, 1)      0           ['conv1d_37[0][0]',              \n",
            " ambda)                                                           'tf.__operators__.add_36[0][0]']\n",
            "                                                                                                  \n",
            " layer_normalization_38 (LayerN  (None, 240, 1)      2           ['tf.__operators__.add_37[0][0]']\n",
            " ormalization)                                                                                    \n",
            "                                                                                                  \n",
            " multi_head_attention_19 (Multi  (None, 240, 1)      7169        ['layer_normalization_38[0][0]', \n",
            " HeadAttention)                                                   'layer_normalization_38[0][0]'] \n",
            "                                                                                                  \n",
            " dropout_42 (Dropout)           (None, 240, 1)       0           ['multi_head_attention_19[0][0]']\n",
            "                                                                                                  \n",
            " tf.__operators__.add_38 (TFOpL  (None, 240, 1)      0           ['dropout_42[0][0]',             \n",
            " ambda)                                                           'tf.__operators__.add_37[0][0]']\n",
            "                                                                                                  \n",
            " layer_normalization_39 (LayerN  (None, 240, 1)      2           ['tf.__operators__.add_38[0][0]']\n",
            " ormalization)                                                                                    \n",
            "                                                                                                  \n",
            " conv1d_38 (Conv1D)             (None, 240, 4)       8           ['layer_normalization_39[0][0]'] \n",
            "                                                                                                  \n",
            " dropout_43 (Dropout)           (None, 240, 4)       0           ['conv1d_38[0][0]']              \n",
            "                                                                                                  \n",
            " conv1d_39 (Conv1D)             (None, 240, 1)       5           ['dropout_43[0][0]']             \n",
            "                                                                                                  \n",
            " tf.__operators__.add_39 (TFOpL  (None, 240, 1)      0           ['conv1d_39[0][0]',              \n",
            " ambda)                                                           'tf.__operators__.add_38[0][0]']\n",
            "                                                                                                  \n",
            " global_average_pooling1d_4 (Gl  (None, 240)         0           ['tf.__operators__.add_39[0][0]']\n",
            " obalAveragePooling1D)                                                                            \n",
            "                                                                                                  \n",
            " dense_7 (Dense)                (None, 128)          30848       ['global_average_pooling1d_4[0][0\n",
            "                                                                 ]']                              \n",
            "                                                                                                  \n",
            " dropout_44 (Dropout)           (None, 128)          0           ['dense_7[0][0]']                \n",
            "                                                                                                  \n",
            " dense_8 (Dense)                (None, 1)            129         ['dropout_44[0][0]']             \n",
            "                                                                                                  \n",
            "==================================================================================================\n",
            "Total params: 59,721\n",
            "Trainable params: 59,721\n",
            "Non-trainable params: 0\n",
            "__________________________________________________________________________________________________\n"
          ]
        }
      ]
    },
    {
      "cell_type": "code",
      "source": [
        "# Parameters for fitting and saving model training data\n",
        "epochs = 200\n",
        "model_4_filepath = 'models/model_4_transformer.keras'\n",
        "history_4_filepath = 'models/trainHistoryDict/model_4_transformer_history.pkl'"
      ],
      "metadata": {
        "id": "QG6NPQ_hFHXx"
      },
      "execution_count": null,
      "outputs": []
    },
    {
      "cell_type": "code",
      "source": [
        "# Fit the model to the training data\n",
        "history_4 = model_4.fit(train_data_gen, validation_data=val_data_gen,\n",
        "                        shuffle=False, epochs=epochs, \n",
        "                        callbacks=callbacks(model_4_filepath,\n",
        "                                            patience=5))\n",
        "\n",
        "# Pickle the Traning Fit History\n",
        "with open(history_4_filepath, 'wb') as file_pi:\n",
        "    pickle.dump(history_4, file_pi)"
      ],
      "metadata": {
        "colab": {
          "base_uri": "https://localhost:8080/"
        },
        "id": "kP-O7jFoAcvy",
        "outputId": "d3548163-ac6d-411f-fcbb-cf72062e2a73"
      },
      "execution_count": 27,
      "outputs": [
        {
          "output_type": "stream",
          "name": "stdout",
          "text": [
            "Epoch 1/200\n",
            "153/153 [==============================] - ETA: 0s - loss: 0.6056 - binary_accuracy: 0.7557\n",
            "Epoch 1: val_loss improved from inf to 0.53834, saving model to models/model_transformer_4.keras\n",
            "153/153 [==============================] - 47s 169ms/step - loss: 0.6056 - binary_accuracy: 0.7557 - val_loss: 0.5383 - val_binary_accuracy: 0.8048\n",
            "Epoch 2/200\n",
            "153/153 [==============================] - ETA: 0s - loss: 0.5766 - binary_accuracy: 0.7765\n",
            "Epoch 2: val_loss improved from 0.53834 to 0.52818, saving model to models/model_transformer_4.keras\n",
            "153/153 [==============================] - 25s 166ms/step - loss: 0.5766 - binary_accuracy: 0.7765 - val_loss: 0.5282 - val_binary_accuracy: 0.8076\n",
            "Epoch 3/200\n",
            "153/153 [==============================] - ETA: 0s - loss: 0.5558 - binary_accuracy: 0.7827\n",
            "Epoch 3: val_loss improved from 0.52818 to 0.52060, saving model to models/model_transformer_4.keras\n",
            "153/153 [==============================] - 25s 165ms/step - loss: 0.5558 - binary_accuracy: 0.7827 - val_loss: 0.5206 - val_binary_accuracy: 0.8111\n",
            "Epoch 4/200\n",
            "153/153 [==============================] - ETA: 0s - loss: 0.5404 - binary_accuracy: 0.7899\n",
            "Epoch 4: val_loss improved from 0.52060 to 0.51532, saving model to models/model_transformer_4.keras\n",
            "153/153 [==============================] - 25s 165ms/step - loss: 0.5404 - binary_accuracy: 0.7899 - val_loss: 0.5153 - val_binary_accuracy: 0.8124\n",
            "Epoch 5/200\n",
            "153/153 [==============================] - ETA: 0s - loss: 0.5291 - binary_accuracy: 0.7934\n",
            "Epoch 5: val_loss improved from 0.51532 to 0.51041, saving model to models/model_transformer_4.keras\n",
            "153/153 [==============================] - 25s 165ms/step - loss: 0.5291 - binary_accuracy: 0.7934 - val_loss: 0.5104 - val_binary_accuracy: 0.8131\n",
            "Epoch 6/200\n",
            "153/153 [==============================] - ETA: 0s - loss: 0.5187 - binary_accuracy: 0.7994\n",
            "Epoch 6: val_loss improved from 0.51041 to 0.50588, saving model to models/model_transformer_4.keras\n",
            "153/153 [==============================] - 25s 165ms/step - loss: 0.5187 - binary_accuracy: 0.7994 - val_loss: 0.5059 - val_binary_accuracy: 0.8135\n",
            "Epoch 7/200\n",
            "153/153 [==============================] - ETA: 0s - loss: 0.5023 - binary_accuracy: 0.8024\n",
            "Epoch 7: val_loss improved from 0.50588 to 0.50383, saving model to models/model_transformer_4.keras\n",
            "153/153 [==============================] - 25s 164ms/step - loss: 0.5023 - binary_accuracy: 0.8024 - val_loss: 0.5038 - val_binary_accuracy: 0.8135\n",
            "Epoch 8/200\n",
            "153/153 [==============================] - ETA: 0s - loss: 0.4963 - binary_accuracy: 0.8063\n",
            "Epoch 8: val_loss improved from 0.50383 to 0.50169, saving model to models/model_transformer_4.keras\n",
            "153/153 [==============================] - 25s 165ms/step - loss: 0.4963 - binary_accuracy: 0.8063 - val_loss: 0.5017 - val_binary_accuracy: 0.8138\n",
            "Epoch 9/200\n",
            "153/153 [==============================] - ETA: 0s - loss: 0.4929 - binary_accuracy: 0.8095\n",
            "Epoch 9: val_loss improved from 0.50169 to 0.49925, saving model to models/model_transformer_4.keras\n",
            "153/153 [==============================] - 25s 165ms/step - loss: 0.4929 - binary_accuracy: 0.8095 - val_loss: 0.4993 - val_binary_accuracy: 0.8138\n",
            "Epoch 10/200\n",
            "153/153 [==============================] - ETA: 0s - loss: 0.4832 - binary_accuracy: 0.8124\n",
            "Epoch 10: val_loss did not improve from 0.49925\n",
            "153/153 [==============================] - 24s 160ms/step - loss: 0.4832 - binary_accuracy: 0.8124 - val_loss: 0.4993 - val_binary_accuracy: 0.8138\n",
            "Epoch 11/200\n",
            "153/153 [==============================] - ETA: 0s - loss: 0.4818 - binary_accuracy: 0.8108\n",
            "Epoch 11: val_loss did not improve from 0.49925\n",
            "153/153 [==============================] - 24s 160ms/step - loss: 0.4818 - binary_accuracy: 0.8108 - val_loss: 0.4994 - val_binary_accuracy: 0.8138\n",
            "Epoch 12/200\n",
            "153/153 [==============================] - ETA: 0s - loss: 0.4745 - binary_accuracy: 0.8132Restoring model weights from the end of the best epoch: 9.\n",
            "\n",
            "Epoch 12: val_loss did not improve from 0.49925\n",
            "153/153 [==============================] - 24s 160ms/step - loss: 0.4745 - binary_accuracy: 0.8132 - val_loss: 0.4993 - val_binary_accuracy: 0.8138\n",
            "Epoch 12: early stopping\n"
          ]
        }
      ]
    },
    {
      "cell_type": "code",
      "source": [
        "# Load and Evaluate Model\n",
        "model_4, history_4 = evaluate_model(model_4_filepath, \n",
        "                         history_4_filepath,\n",
        "                         val_data_gen, \n",
        "                         test_data_gen,\n",
        "                         'models/evaluate/model_4_evaluation.pdf')"
      ],
      "metadata": {
        "colab": {
          "base_uri": "https://localhost:8080/",
          "height": 389
        },
        "id": "WKXPZeb_0PDC",
        "outputId": "0e4f9f11-2c5e-4f0a-d2ff-02b5fc3ead69"
      },
      "execution_count": 42,
      "outputs": [
        {
          "output_type": "stream",
          "name": "stdout",
          "text": [
            "46/46 [==============================] - 3s 50ms/step - loss: 0.4993 - binary_accuracy: 0.8138\n"
          ]
        },
        {
          "output_type": "display_data",
          "data": {
            "text/plain": [
              "<Figure size 1728x576 with 2 Axes>"
            ],
            "image/png": "[encoded data removed]"
          },
          "metadata": {}
        },
        {
          "output_type": "stream",
          "name": "stdout",
          "text": [
            "Validation Binary Accuracy is: 0.81\n",
            "36/36 [==============================] - 2s 50ms/step - loss: 0.4991 - binary_accuracy: 0.8100\n",
            "Testing Binary Accuracy is: 0.81\n"
          ]
        }
      ]
    }
  ]
}