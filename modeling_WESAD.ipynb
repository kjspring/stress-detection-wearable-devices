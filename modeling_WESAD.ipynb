{
  "nbformat": 4,
  "nbformat_minor": 0,
  "metadata": {
    "colab": {
      "provenance": [],
      "machine_shape": "hm",
      "authorship_tag": "ABX9TyPfe8zLl0XVCxzEfEvIoFMG",
      "include_colab_link": true
    },
    "kernelspec": {
      "name": "python3",
      "display_name": "Python 3"
    },
    "language_info": {
      "name": "python"
    },
    "gpuClass": "standard",
    "accelerator": "GPU"
  },
  "cells": [
    {
      "cell_type": "markdown",
      "metadata": {
        "id": "view-in-github",
        "colab_type": "text"
      },
      "source": [
        "<a href=\"https://colab.research.google.com/github/kjspring/stress-detection-wearable-devices/blob/main/modeling_WESAD.ipynb\" target=\"_parent\"><img src=\"https://colab.research.google.com/assets/colab-badge.svg\" alt=\"Open In Colab\"/></a>"
      ]
    },
    {
      "cell_type": "code",
      "execution_count": 4,
      "metadata": {
        "colab": {
          "base_uri": "https://localhost:8080/"
        },
        "id": "gtX5TSM8gfZB",
        "outputId": "846984c2-f4dc-4ca6-b6c9-9c3efb5314a0"
      },
      "outputs": [
        {
          "output_type": "stream",
          "name": "stdout",
          "text": [
            "Mounted at /content/drive\n"
          ]
        }
      ],
      "source": [
        "# Load pickled data\n",
        "\n",
        "# Mount Google Drive\n",
        "from google.colab import drive\n",
        "drive.mount('/content/drive', force_remount=True)\n",
        "\n",
        "import os\n",
        "\n",
        "#! cd /content/drive/MyDrive/stress-prediction/ # Main file directory for this notebook on Google Drive\n",
        "os.chdir('/content/drive/MyDrive/stress-prediction')\n",
        "# absolute path of data directory\n",
        "PATH = os.path.join(os.path.abspath(os.getcwd()), 'data') # Path of data folder on Google Drive\n",
        "\n",
        "import joblib\n",
        "data = joblib.load(f\"{PATH}/pickle/WESAD_data_model.pickle\") # read pickle file\n",
        "labels = joblib.load(f\"{PATH}/pickle/WESAD_labels_model.pickle\") # read pickle file"
      ]
    },
    {
      "cell_type": "code",
      "source": [
        "# Subsample the data and features\n",
        "Hz_chest = 700\n",
        "Hz_EDA = 4\n",
        "subsample_rate = int(Hz_chest / Hz_EDA)  # subsample rate, e.g. to reduce from 700Hz to 4Hz\n",
        "\n",
        "subsampled_data = data[::subsample_rate]\n",
        "subsampled_labels = labels[::subsample_rate]\n",
        "\n",
        "print(len(data))  # 2742499\n",
        "print(len(subsampled_data))  # 15672"
      ],
      "metadata": {
        "colab": {
          "base_uri": "https://localhost:8080/"
        },
        "id": "Bx2IGBv1yaQ7",
        "outputId": "f3554bb7-5b5f-4579-b48a-ddd9d19d56c9"
      },
      "execution_count": 5,
      "outputs": [
        {
          "output_type": "stream",
          "name": "stdout",
          "text": [
            "2742499\n",
            "15672\n"
          ]
        }
      ]
    },
    {
      "cell_type": "code",
      "source": [
        "# Check for NaN values\n",
        "subsampled_data.isnull().values.any()"
      ],
      "metadata": {
        "colab": {
          "base_uri": "https://localhost:8080/"
        },
        "id": "zdxsD6VuL2pJ",
        "outputId": "f29550a4-8047-4cd0-cc1f-986602fdde83"
      },
      "execution_count": 6,
      "outputs": [
        {
          "output_type": "execute_result",
          "data": {
            "text/plain": [
              "False"
            ]
          },
          "metadata": {},
          "execution_count": 6
        }
      ]
    },
    {
      "cell_type": "code",
      "source": [
        "# Try with a Datagenerator to reduce the RAM use\n",
        "from keras.preprocessing.sequence import TimeseriesGenerator\n",
        "random_state = 42\n",
        "sampling_rate = 5 # keep one data point out of 5\n",
        "duration = 1 # how many minutes in the future the target after the end of the sequence\n",
        "sequence_length = Hz_EDA * 60 * duration # observations will go back duration minutues\n",
        "delay = sampling_rate*(sequence_length + duration*60*Hz_EDA - 1) # the target for a\n",
        "                                                             # sequence will be\n",
        "                                                             # duration (min)\n",
        "                                                             # after the end of\n",
        "                                                             # the sequence\n",
        "batch_size = 64\n",
        "shuffle = True\n",
        "\n",
        "# Train Test Split\n",
        "from sklearn.model_selection import train_test_split\n",
        "\n",
        "X_dat, X_val, y_dat, y_val = train_test_split(subsampled_data, subsampled_labels, \n",
        "                                                 test_size = 0.2,\n",
        "                                                 random_state=random_state)\n",
        "\n",
        "X_train, X_test, y_train, y_test = train_test_split(X_dat, y_dat,\n",
        "                                                    test_size = 0.2,\n",
        "                                                    random_state = random_state)\n",
        "\n",
        "\n",
        "# Normalize the data\n",
        "from sklearn.preprocessing import StandardScaler\n",
        "# create the StandardScaler object\n",
        "scaler = StandardScaler()\n",
        "# fit the scaler on the training data\n",
        "X_train_scaled = scaler.fit_transform(X_train.values.reshape(-1,1))\n",
        "# transform the validation data\n",
        "X_val_scaled = scaler.transform(X_val.values.reshape(-1,1))\n",
        "# transform the test data\n",
        "X_test_scaled = scaler.transform(X_test.values.reshape(-1,1))\n",
        "\n",
        "# Data Generator\n",
        "train_data_gen = TimeseriesGenerator(X_train_scaled, y_train, length=sequence_length, batch_size=batch_size)\n",
        "val_data_gen = TimeseriesGenerator(X_val_scaled, y_val, length=sequence_length, batch_size=batch_size)\n",
        "test_data_gen = TimeseriesGenerator(X_test_scaled, y_test, length=sequence_length, batch_size=batch_size)"
      ],
      "metadata": {
        "id": "3xkosnn-j7z6"
      },
      "execution_count": 7,
      "outputs": []
    },
    {
      "cell_type": "code",
      "source": [
        "print(train_data_gen[0][0].shape) # prints the batch size of the first entry\n",
        "'''\n",
        "A tensor of shape (32, 1200, 1) means that it is a 3-dimensional tensor with 32 \n",
        "rows, 240 columns and 1 channel. In this specific case, it could represent a \n",
        "batch of 32 time series samples, each with 1200 time steps and 1 feature/channel.\n",
        "\n",
        "The first dimension (32) represents the batch size, which is the number of \n",
        "samples that are processed at once during training. The second dimension (1200) \n",
        "represents the time steps or the sequence length of each sample, and the third \n",
        "dimension (1) represents the number of features or channels in each sample.\n",
        "'''"
      ],
      "metadata": {
        "colab": {
          "base_uri": "https://localhost:8080/",
          "height": 151
        },
        "id": "JNkaqD_bTfRB",
        "outputId": "84c9bf31-b932-4cb6-a7be-c782ba9cee83"
      },
      "execution_count": 20,
      "outputs": [
        {
          "output_type": "stream",
          "name": "stdout",
          "text": [
            "1\n"
          ]
        },
        {
          "output_type": "execute_result",
          "data": {
            "text/plain": [
              "'\\nA tensor of shape (32, 1200, 1) means that it is a 3-dimensional tensor with 32 \\nrows, 240 columns and 1 channel. In this specific case, it could represent a \\nbatch of 32 time series samples, each with 1200 time steps and 1 feature/channel.\\n\\nThe first dimension (32) represents the batch size, which is the number of \\nsamples that are processed at once during training. The second dimension (1200) \\nrepresents the time steps or the sequence length of each sample, and the third \\ndimension (1) represents the number of features or channels in each sample.\\n'"
            ],
            "application/vnd.google.colaboratory.intrinsic+json": {
              "type": "string"
            }
          },
          "metadata": {},
          "execution_count": 20
        }
      ]
    },
    {
      "cell_type": "code",
      "source": [
        "train_iterator = iter(train_data_gen)\n",
        "x_batch, y_batch = next(train_iterator)\n",
        "print(x_batch.shape)\n",
        "print(y_batch.shape)\n",
        "\n",
        "# Validation Data\n",
        "val_iterator = iter(val_data_gen)\n",
        "x_batch, y_batch = next(val_iterator)\n",
        "print(x_batch.shape)\n",
        "print(y_batch.shape)"
      ],
      "metadata": {
        "colab": {
          "base_uri": "https://localhost:8080/"
        },
        "id": "If_KuXvFhdsN",
        "outputId": "34a0b657-fcb8-483e-8cbf-996973dd40aa"
      },
      "execution_count": 9,
      "outputs": [
        {
          "output_type": "stream",
          "name": "stdout",
          "text": [
            "(64, 240, 1)\n",
            "(64,)\n",
            "(64, 240, 1)\n",
            "(64,)\n"
          ]
        }
      ]
    },
    {
      "cell_type": "code",
      "source": [
        "# Naive Model\n",
        "def evaluate_naive_method(dataset):\n",
        "  '''\n",
        "  This method uses a common-sense approach to predict that the subject will be\n",
        "  in the same state 5 minutes from now as they are in now.\n",
        "  '''\n",
        "  "
      ],
      "metadata": {
        "id": "ft6yb8UANWLq"
      },
      "execution_count": 32,
      "outputs": []
    },
    {
      "cell_type": "code",
      "source": [
        "type(train_data_gen[0][0].shape[2])\n",
        "print(sequence_length)"
      ],
      "metadata": {
        "colab": {
          "base_uri": "https://localhost:8080/"
        },
        "id": "jknJuAXwWhLq",
        "outputId": "c6f95b7c-9259-4815-f5db-b8cd6352b043"
      },
      "execution_count": 28,
      "outputs": [
        {
          "output_type": "stream",
          "name": "stdout",
          "text": [
            "240\n"
          ]
        }
      ]
    },
    {
      "cell_type": "code",
      "source": [
        "'''\n",
        "Model_0: Densely Connected Network\n",
        "This neural network starts by flattening the data dn then runs it through two \n",
        "Dense layers.\n",
        "\n",
        "This is a simple and cheap model to test the data generator and the metrics\n",
        "being used to evaluate.\n",
        "'''\n",
        "\n",
        "from tensorflow import keras\n",
        "from tensorflow.keras import layers\n",
        "from tensorflow.keras.optimizers import RMSprop, Adam\n",
        "from keras.callbacks import EarlyStopping, ModelCheckpoint\n",
        "#from keras.layers import LSTM, Dense\n",
        "\n",
        "# Callbacks Function\n",
        "def callbacks(checkpoint_file, early_stopping=True):\n",
        "  from keras.callbacks import EarlyStopping, ModelCheckpoint\n",
        "  # Callback and Early Stopping\n",
        "  callbacks = [EarlyStopping(monitor='val_loss', verbose=1, patience=3,\n",
        "                             restore_best_weights=True,\n",
        "                             mode='min'),\n",
        "              ModelCheckpoint(checkpoint_file,\n",
        "               save_best_only=True)\n",
        "  ]\n",
        "  return callbacks\n",
        "\n",
        "inputs = keras.Input(shape=(sequence_length, train_data_gen[0][0].shape[2]))\n",
        "x = layers.Flatten()(inputs)\n",
        "x = layers.Dense(16, activation='relu')(x)\n",
        "outputs = layers.Dense(1)(x)\n",
        "model_0 = keras.Model(inputs, outputs)\n",
        "\n",
        "model_0.compile(loss='binary_crossentropy', \n",
        "              optimizer=RMSprop(learning_rate=0.001), \n",
        "              metrics=['binary_accuracy'])\n",
        "\n",
        "epochs = 50\n",
        "history_0 = model_0.fit(train_data_gen, validation_data=val_data_gen,\n",
        "                        shuffle=False, epochs=epochs, \n",
        "                        callbacks=callbacks('models/model_dense.keras'))\n",
        "\n",
        "model_0_eval_val = model_0.evaluate(val_data_gen)\n",
        "print(f'Val Binary Accuracy is: {model_0_eval_val[1]:.2f}[')\n",
        "model_0_eval_test = model_0.evaluate(test_data_gen)\n",
        "print(f'Val Binary Accuracy is: {model_0_eval_test[1]:.2f}[')"
      ],
      "metadata": {
        "colab": {
          "base_uri": "https://localhost:8080/"
        },
        "id": "BqTmajNgSTY_",
        "outputId": "02630ef1-303f-45e5-b91b-b5347b1daa24"
      },
      "execution_count": 68,
      "outputs": [
        {
          "output_type": "stream",
          "name": "stdout",
          "text": [
            "Epoch 1/50\n",
            "153/153 [==============================] - 2s 7ms/step - loss: 4.6248 - binary_accuracy: 0.5852 - val_loss: 3.7519 - val_binary_accuracy: 0.6535\n",
            "Epoch 2/50\n",
            "153/153 [==============================] - 1s 3ms/step - loss: 3.4421 - binary_accuracy: 0.6921 - val_loss: 2.9720 - val_binary_accuracy: 0.7371\n",
            "Epoch 3/50\n",
            "153/153 [==============================] - 1s 3ms/step - loss: 2.9121 - binary_accuracy: 0.7522 - val_loss: 2.8517 - val_binary_accuracy: 0.7737\n",
            "Epoch 4/50\n",
            "153/153 [==============================] - 1s 4ms/step - loss: 2.7108 - binary_accuracy: 0.7835 - val_loss: 2.7995 - val_binary_accuracy: 0.7827\n",
            "Epoch 5/50\n",
            "153/153 [==============================] - 1s 3ms/step - loss: 2.6027 - binary_accuracy: 0.8020 - val_loss: 2.7989 - val_binary_accuracy: 0.7900\n",
            "Epoch 6/50\n",
            "153/153 [==============================] - 1s 3ms/step - loss: 2.5326 - binary_accuracy: 0.8149 - val_loss: 2.7946 - val_binary_accuracy: 0.7938\n",
            "Epoch 7/50\n",
            "153/153 [==============================] - 1s 3ms/step - loss: 2.4879 - binary_accuracy: 0.8228 - val_loss: 2.7823 - val_binary_accuracy: 0.7934\n",
            "Epoch 8/50\n",
            "153/153 [==============================] - 1s 4ms/step - loss: 2.4263 - binary_accuracy: 0.8292 - val_loss: 2.8005 - val_binary_accuracy: 0.7941\n",
            "Epoch 9/50\n",
            "153/153 [==============================] - 1s 4ms/step - loss: 2.3884 - binary_accuracy: 0.8327 - val_loss: 2.7876 - val_binary_accuracy: 0.7990\n",
            "Epoch 10/50\n",
            "145/153 [===========================>..] - ETA: 0s - loss: 2.3732 - binary_accuracy: 0.8344Restoring model weights from the end of the best epoch: 7.\n",
            "153/153 [==============================] - 1s 4ms/step - loss: 2.3624 - binary_accuracy: 0.8355 - val_loss: 2.8067 - val_binary_accuracy: 0.7952\n",
            "Epoch 10: early stopping\n",
            "46/46 [==============================] - 0s 2ms/step - loss: 2.7823 - binary_accuracy: 0.7934\n",
            "Val Binary Accuracy is: 0.79[\n",
            "36/36 [==============================] - 0s 2ms/step - loss: 2.8069 - binary_accuracy: 0.7928\n",
            "Val Binary Accuracy is: 0.79[\n"
          ]
        }
      ]
    },
    {
      "cell_type": "code",
      "source": [
        "import matplotlib.pyplot as plt\n",
        "loss = history_0.history[\"binary_accuracy\"]\n",
        "val_loss = history_0.history[\"val_binary_accuracy\"]\n",
        "epochs = range(1, len(loss) + 1)\n",
        "plt.figure()\n",
        "plt.plot(epochs, loss, \"bo\", label=\"Training Binary Accuracy\")\n",
        "plt.plot(epochs, val_loss, \"b\", label=\"Validation BA\")\n",
        "plt.title(\"Training and validation BA\")\n",
        "plt.legend()\n",
        "plt.show()"
      ],
      "metadata": {
        "colab": {
          "base_uri": "https://localhost:8080/",
          "height": 281
        },
        "id": "aJf8ydhOYJSD",
        "outputId": "7341aa01-612e-4bce-99e3-fdcc95ac81e4"
      },
      "execution_count": 36,
      "outputs": [
        {
          "output_type": "display_data",
          "data": {
            "text/plain": [
              "<Figure size 432x288 with 1 Axes>"
            ],
            "image/png": "[encoded data removed]"
          },
          "metadata": {
            "needs_background": "light"
          }
        }
      ]
    },
    {
      "cell_type": "code",
      "source": [
        "def plot_evaluation(model, file_name):\n",
        "    '''\n",
        "    Plotting helper function.\n",
        "    Plots the Training and validation accuracy\n",
        "    as well as the training and validation loss\n",
        "    over the number of epochs specified\n",
        "    '''\n",
        "    acc = model.history['binary_accuracy']\n",
        "    val_acc = model.history['val_binary_accuracy']\n",
        "\n",
        "    loss = model.history['loss']\n",
        "    val_loss = model.history['val_loss']\n",
        "\n",
        "    epochs_range = range(1, len(loss) + 1)\n",
        "    \n",
        "    fig, ax = plt.subplots(1, 2, figsize=(24 , 8))\n",
        "    ax[0].plot(epochs_range, acc, 'g-', label='Training Accuracy')\n",
        "    ax[0].plot(epochs_range, val_acc, 'r-', label='Validation Accuracy')\n",
        "    ax[0].legend(loc='lower right')\n",
        "    ax[0].title.set_text('Training and Validation Accuracy')\n",
        "\n",
        "    ax[1].plot(epochs_range, loss, 'g-', label='Training Loss')\n",
        "    ax[1].plot(epochs_range, val_loss, 'r-', label='Validation Loss')\n",
        "    ax[1].legend(loc='upper right')\n",
        "    ax[1].title.set_text('Training and Validation Loss')\n",
        "    fig.patch.set_facecolor('white')\n",
        "    plt.savefig(f'{file_name}')\n",
        "    plt.show()"
      ],
      "metadata": {
        "id": "am32v-f0bRWJ"
      },
      "execution_count": 53,
      "outputs": []
    },
    {
      "cell_type": "markdown",
      "source": [],
      "metadata": {
        "id": "Efitgp0qbhTQ"
      }
    },
    {
      "cell_type": "code",
      "source": [
        "os.chdir('/content/drive/MyDrive/stress-prediction')\n",
        "plot_evaluation(history_0, 'models/evaluate/model_0_evaluation.pdf')"
      ],
      "metadata": {
        "colab": {
          "base_uri": "https://localhost:8080/",
          "height": 317
        },
        "id": "rflOH7tuUkU2",
        "outputId": "7eb6d6cc-01cc-4e29-a3ad-4bd8cf8b6c48"
      },
      "execution_count": 54,
      "outputs": [
        {
          "output_type": "display_data",
          "data": {
            "text/plain": [
              "<Figure size 1728x576 with 2 Axes>"
            ],
            "image/png": "[encoded data removed]"
          },
          "metadata": {}
        }
      ]
    },
    {
      "cell_type": "code",
      "source": [
        "'''\n",
        "Model_1: Simple LSTM Model\n",
        "Timeseries data is a sequence, where causality and sequence matter.\n",
        "'''\n",
        "from keras.callbacks import EarlyStopping, ModelCheckpoint\n",
        "\n",
        "inputs = keras.Input(shape=(sequence_length, train_data_gen[0][0].shape[2]))\n",
        "x = LSTM(batch_size, activation='relu', input_shape=(sequence_length, 1))(inputs)\n",
        "outputs = layers.Dense(1, activation='sigmoid')(x)          \n",
        "model_1 = keras.Model(inputs, outputs)\n",
        "\n",
        "model_1.compile(loss='binary_crossentropy', \n",
        "              optimizer=RMSprop(learning_rate=0.0001), \n",
        "              metrics=['binary_accuracy'])\n",
        "\n",
        "# Train the model using the TimeSeriesGenerator\n",
        "epochs = 10\n",
        "history_1 = model_1.fit(train_data_gen, validation_data=val_data_gen,\n",
        "                        shuffle=False, epochs=epochs, \n",
        "                        callbacks=callbacks('models/model_lstm_1.keras'))"
      ],
      "metadata": {
        "colab": {
          "base_uri": "https://localhost:8080/"
        },
        "id": "S9FE5IG5Uj47",
        "outputId": "a9473db6-6e40-483f-d6fe-56ef5963204e"
      },
      "execution_count": 69,
      "outputs": [
        {
          "output_type": "stream",
          "name": "stderr",
          "text": [
            "WARNING:tensorflow:Layer lstm_9 will not use cuDNN kernels since it doesn't meet the criteria. It will use a generic GPU kernel as fallback when running on GPU.\n"
          ]
        },
        {
          "output_type": "stream",
          "name": "stdout",
          "text": [
            "Epoch 1/10\n",
            "153/153 [==============================] - 49s 309ms/step - loss: 0.6386 - binary_accuracy: 0.8131 - val_loss: 0.5968 - val_binary_accuracy: 0.8138\n",
            "Epoch 2/10\n",
            "153/153 [==============================] - 48s 314ms/step - loss: 0.5199 - binary_accuracy: 0.8142 - val_loss: 0.4805 - val_binary_accuracy: 0.8138\n",
            "Epoch 3/10\n",
            "153/153 [==============================] - 47s 305ms/step - loss: 0.4828 - binary_accuracy: 0.8142 - val_loss: 0.4803 - val_binary_accuracy: 0.8138\n",
            "Epoch 4/10\n",
            "153/153 [==============================] - 47s 304ms/step - loss: 27334222.0000 - binary_accuracy: 0.8142 - val_loss: 43.5362 - val_binary_accuracy: 0.8138\n",
            "Epoch 5/10\n",
            "153/153 [==============================] - 46s 304ms/step - loss: 17203.8926 - binary_accuracy: 0.8142 - val_loss: 0.4810 - val_binary_accuracy: 0.8138\n",
            "Epoch 6/10\n",
            "153/153 [==============================] - ETA: 0s - loss: 0.4839 - binary_accuracy: 0.8142Restoring model weights from the end of the best epoch: 3.\n",
            "153/153 [==============================] - 46s 302ms/step - loss: 0.4839 - binary_accuracy: 0.8142 - val_loss: 0.4809 - val_binary_accuracy: 0.8138\n",
            "Epoch 6: early stopping\n"
          ]
        }
      ]
    },
    {
      "cell_type": "markdown",
      "source": [
        "Binary_accuracy and validation loss is stalling out around epoch 6-8. "
      ],
      "metadata": {
        "id": "TkZNwirfjE_S"
      }
    },
    {
      "cell_type": "code",
      "source": [
        "# Evaluate the model\n",
        "model_1_eval_val = model_1.evaluate(val_data_gen)\n",
        "print(f'Val Binary Accuracy is: {model_1_eval_val[1]:.2f}')\n",
        "model_1_eval_test = model_0.evaluate(test_data_gen)\n",
        "print(f'Val Binary Accuracy is: {model_1_eval_test[1]:.2f}')"
      ],
      "metadata": {
        "colab": {
          "base_uri": "https://localhost:8080/"
        },
        "id": "t2r4vuHoQHyj",
        "outputId": "515651a5-a25b-40ff-bcad-5b23f8880a4e"
      },
      "execution_count": 70,
      "outputs": [
        {
          "output_type": "stream",
          "name": "stdout",
          "text": [
            "46/46 [==============================] - 2s 33ms/step - loss: 0.4803 - binary_accuracy: 0.8138\n",
            "Val Binary Accuracy is: 0.81\n",
            "36/36 [==============================] - 0s 2ms/step - loss: 2.8069 - binary_accuracy: 0.7928\n",
            "Val Binary Accuracy is: 0.79\n"
          ]
        }
      ]
    },
    {
      "cell_type": "code",
      "source": [
        "'''\n",
        "Model 2: Complex LSTM with Dropout\n",
        "'''\n",
        "from keras.models import Sequential\n",
        "from keras.layers import LSTM, Dense, Dropout\n",
        "from tensorflow.keras.optimizers import RMSprop, Adam\n",
        "from keras.callbacks import EarlyStopping, ModelCheckpoint\n",
        "\n",
        "# Define the LSTM model\n",
        "inputs = keras.Input(shape=(sequence_length, train_data_gen[0][0].shape[2]))\n",
        "# Next model add a Dense layer here\n",
        "x = LSTM(batch_size, \n",
        "         activation='relu', \n",
        "         input_shape=(sequence_length, 1),\n",
        "         unroll=True,\n",
        "         recurrent_dropout=0.5)(inputs)\n",
        "#x = Dropout(0.5) # Dropout\n",
        "x = Dense(units=batch_size//2, activation='relu')(x)\n",
        "x = LSTM(batch_size//2, \n",
        "         activation='relu', \n",
        "         input_shape=(sequence_length, 1),\n",
        "         unroll=True,\n",
        "         recurrent_dropout=0.5)(inputs)\n",
        "#x = Dropout(0.5) # Dropout\n",
        "x = Dense(units=batch_size//2//2, activation='relu')(x)\n",
        "outputs = Dense(units=1, activation='sigmoid')(x)\n",
        "model_2 = keras.Model(inputs, outputs)\n",
        "\n",
        "# Compile\n",
        "model_2.compile(loss='binary_crossentropy', \n",
        "              optimizer=RMSprop(learning_rate=0.0001), \n",
        "              metrics=['binary_accuracy'])\n",
        "\n",
        "# Train the model using the TimeSeriesGenerator\n",
        "epochs = 50\n",
        "history_2 = model_2.fit(train_data_gen, validation_data=val_data_gen,\n",
        "                        shuffle=False, epochs=epochs, \n",
        "                        callbacks=callbacks('models/model_lstm_2.keras'))\n"
      ],
      "metadata": {
        "colab": {
          "base_uri": "https://localhost:8080/",
          "height": 1000
        },
        "id": "9D6BD7Zoheo2",
        "outputId": "fe0b7ab6-a528-43b8-f658-bc6c39c35834"
      },
      "execution_count": 79,
      "outputs": [
        {
          "output_type": "stream",
          "name": "stderr",
          "text": [
            "WARNING:tensorflow:Layer lstm_23 will not use cuDNN kernels since it doesn't meet the criteria. It will use a generic GPU kernel as fallback when running on GPU.\n",
            "WARNING:tensorflow:Layer lstm_24 will not use cuDNN kernels since it doesn't meet the criteria. It will use a generic GPU kernel as fallback when running on GPU.\n"
          ]
        },
        {
          "output_type": "stream",
          "name": "stdout",
          "text": [
            "Epoch 1/50\n",
            "153/153 [==============================] - 144s 284ms/step - loss: 0.6520 - binary_accuracy: 0.7738 - val_loss: 0.6108 - val_binary_accuracy: 0.8138\n",
            "Epoch 2/50\n",
            "153/153 [==============================] - 30s 193ms/step - loss: 347945729310041269338112.0000 - binary_accuracy: 0.8142 - val_loss: 0.5746 - val_binary_accuracy: 0.8138\n",
            "Epoch 3/50\n",
            "153/153 [==============================] - 29s 192ms/step - loss: 3984285717042823168.0000 - binary_accuracy: 0.8142 - val_loss: 0.5569 - val_binary_accuracy: 0.8138\n",
            "Epoch 4/50\n",
            "153/153 [==============================] - 29s 193ms/step - loss: 331052114336750239744.0000 - binary_accuracy: 0.8142 - val_loss: 0.5412 - val_binary_accuracy: 0.8138\n",
            "Epoch 5/50\n",
            "153/153 [==============================] - 29s 192ms/step - loss: 371280303328591872.0000 - binary_accuracy: 0.8142 - val_loss: 0.5286 - val_binary_accuracy: 0.8138\n",
            "Epoch 6/50\n",
            "153/153 [==============================] - 30s 194ms/step - loss: 14330651213824.0000 - binary_accuracy: 0.8142 - val_loss: 0.5182 - val_binary_accuracy: 0.8138\n",
            "Epoch 7/50\n",
            "153/153 [==============================] - 29s 192ms/step - loss: 1426399441190912.0000 - binary_accuracy: 0.8142 - val_loss: 0.5093 - val_binary_accuracy: 0.8138\n",
            "Epoch 8/50\n",
            "153/153 [==============================] - 29s 193ms/step - loss: 334962162952830976.0000 - binary_accuracy: 0.8142 - val_loss: 0.5023 - val_binary_accuracy: 0.8138\n",
            "Epoch 9/50\n",
            "153/153 [==============================] - 30s 197ms/step - loss: 570355419321081004032.0000 - binary_accuracy: 0.8142 - val_loss: 0.4962 - val_binary_accuracy: 0.8138\n",
            "Epoch 10/50\n",
            "153/153 [==============================] - 32s 209ms/step - loss: 1489198336.0000 - binary_accuracy: 0.8142 - val_loss: 0.4913 - val_binary_accuracy: 0.8138\n",
            "Epoch 11/50\n",
            "153/153 [==============================] - 32s 207ms/step - loss: 23854087300710400.0000 - binary_accuracy: 0.8142 - val_loss: 0.4877 - val_binary_accuracy: 0.8138\n",
            "Epoch 12/50\n",
            "153/153 [==============================] - 30s 197ms/step - loss: 195695738880000.0000 - binary_accuracy: 0.8142 - val_loss: 0.4851 - val_binary_accuracy: 0.8138\n",
            "Epoch 13/50\n",
            "153/153 [==============================] - 30s 193ms/step - loss: 1114387017345204748288.0000 - binary_accuracy: 0.8142 - val_loss: 0.4834 - val_binary_accuracy: 0.8138\n",
            "Epoch 14/50\n",
            "153/153 [==============================] - 32s 206ms/step - loss: 47245082637631488.0000 - binary_accuracy: 0.8142 - val_loss: 0.4822 - val_binary_accuracy: 0.8138\n",
            "Epoch 15/50\n",
            "153/153 [==============================] - 32s 208ms/step - loss: 14159394194266783744.0000 - binary_accuracy: 0.8142 - val_loss: 0.4815 - val_binary_accuracy: 0.8138\n",
            "Epoch 16/50\n",
            "153/153 [==============================] - 31s 202ms/step - loss: 415311185025798470893568.0000 - binary_accuracy: 0.8142 - val_loss: 0.4810 - val_binary_accuracy: 0.8138\n",
            "Epoch 17/50\n",
            "153/153 [==============================] - 30s 199ms/step - loss: 16696990305878016.0000 - binary_accuracy: 0.8142 - val_loss: 0.4807 - val_binary_accuracy: 0.8138\n",
            "Epoch 18/50\n",
            "153/153 [==============================] - 30s 197ms/step - loss: 57526229321908224.0000 - binary_accuracy: 0.8142 - val_loss: 0.4805 - val_binary_accuracy: 0.8138\n",
            "Epoch 19/50\n",
            "153/153 [==============================] - 30s 199ms/step - loss: 5716561205657600.0000 - binary_accuracy: 0.8142 - val_loss: 0.4803 - val_binary_accuracy: 0.8138\n",
            "Epoch 20/50\n",
            "153/153 [==============================] - 30s 194ms/step - loss: 50135612807708672.0000 - binary_accuracy: 0.8142 - val_loss: 0.4803 - val_binary_accuracy: 0.8138\n",
            "Epoch 21/50\n",
            "153/153 [==============================] - 30s 194ms/step - loss: 1918172374837041745776921804800.0000 - binary_accuracy: 0.8142 - val_loss: 0.4802 - val_binary_accuracy: 0.8138\n",
            "Epoch 22/50\n",
            "153/153 [==============================] - 29s 192ms/step - loss: 12445159909052383232.0000 - binary_accuracy: 0.8141 - val_loss: 0.4802 - val_binary_accuracy: 0.8138\n",
            "Epoch 23/50\n",
            "153/153 [==============================] - 29s 192ms/step - loss: 573977013518336.0000 - binary_accuracy: 0.8141 - val_loss: 0.4801 - val_binary_accuracy: 0.8138\n",
            "Epoch 24/50\n",
            "153/153 [==============================] - 30s 194ms/step - loss: 30602047428912742400.0000 - binary_accuracy: 0.8142 - val_loss: 0.4801 - val_binary_accuracy: 0.8138\n",
            "Epoch 25/50\n",
            "153/153 [==============================] - 29s 192ms/step - loss: 190620006346429955047424.0000 - binary_accuracy: 0.8142 - val_loss: 0.4801 - val_binary_accuracy: 0.8138\n",
            "Epoch 26/50\n",
            "153/153 [==============================] - 30s 193ms/step - loss: 58722641049542093514473472.0000 - binary_accuracy: 0.8142 - val_loss: 0.4801 - val_binary_accuracy: 0.8138\n",
            "Epoch 27/50\n",
            "153/153 [==============================] - 29s 192ms/step - loss: 10290849015398400.0000 - binary_accuracy: 0.8142 - val_loss: 0.4801 - val_binary_accuracy: 0.8138\n",
            "Epoch 28/50\n",
            "153/153 [==============================] - 30s 193ms/step - loss: 49188903231422464.0000 - binary_accuracy: 0.8142 - val_loss: 0.4801 - val_binary_accuracy: 0.8138\n",
            "Epoch 29/50\n",
            "153/153 [==============================] - 30s 193ms/step - loss: 106408058028032.0000 - binary_accuracy: 0.8142 - val_loss: 0.4801 - val_binary_accuracy: 0.8138\n",
            "Epoch 30/50\n",
            "153/153 [==============================] - 29s 192ms/step - loss: 14016345532469870592.0000 - binary_accuracy: 0.8142 - val_loss: 0.4801 - val_binary_accuracy: 0.8138\n",
            "Epoch 31/50\n",
            " 73/153 [=============>................] - ETA: 13s - loss: 73378786107719680.0000 - binary_accuracy: 0.8044"
          ]
        },
        {
          "output_type": "error",
          "ename": "KeyboardInterrupt",
          "evalue": "ignored",
          "traceback": [
            "\u001b[0;31m---------------------------------------------------------------------------\u001b[0m",
            "\u001b[0;31mKeyboardInterrupt\u001b[0m                         Traceback (most recent call last)",
            "\u001b[0;32m<ipython-input-79-21896a8b582b>\u001b[0m in \u001b[0;36m<module>\u001b[0;34m\u001b[0m\n\u001b[1;32m     34\u001b[0m \u001b[0;31m# Train the model using the TimeSeriesGenerator\u001b[0m\u001b[0;34m\u001b[0m\u001b[0;34m\u001b[0m\u001b[0m\n\u001b[1;32m     35\u001b[0m \u001b[0mepochs\u001b[0m \u001b[0;34m=\u001b[0m \u001b[0;36m50\u001b[0m\u001b[0;34m\u001b[0m\u001b[0;34m\u001b[0m\u001b[0m\n\u001b[0;32m---> 36\u001b[0;31m history_2 = model_2.fit(train_data_gen, validation_data=val_data_gen,\n\u001b[0m\u001b[1;32m     37\u001b[0m                         \u001b[0mshuffle\u001b[0m\u001b[0;34m=\u001b[0m\u001b[0;32mFalse\u001b[0m\u001b[0;34m,\u001b[0m \u001b[0mepochs\u001b[0m\u001b[0;34m=\u001b[0m\u001b[0mepochs\u001b[0m\u001b[0;34m,\u001b[0m\u001b[0;34m\u001b[0m\u001b[0;34m\u001b[0m\u001b[0m\n\u001b[1;32m     38\u001b[0m                         callbacks=callbacks('models/model_lstm_2.keras'))\n",
            "\u001b[0;32m/usr/local/lib/python3.9/dist-packages/keras/utils/traceback_utils.py\u001b[0m in \u001b[0;36merror_handler\u001b[0;34m(*args, **kwargs)\u001b[0m\n\u001b[1;32m     63\u001b[0m         \u001b[0mfiltered_tb\u001b[0m \u001b[0;34m=\u001b[0m \u001b[0;32mNone\u001b[0m\u001b[0;34m\u001b[0m\u001b[0;34m\u001b[0m\u001b[0m\n\u001b[1;32m     64\u001b[0m         \u001b[0;32mtry\u001b[0m\u001b[0;34m:\u001b[0m\u001b[0;34m\u001b[0m\u001b[0;34m\u001b[0m\u001b[0m\n\u001b[0;32m---> 65\u001b[0;31m             \u001b[0;32mreturn\u001b[0m \u001b[0mfn\u001b[0m\u001b[0;34m(\u001b[0m\u001b[0;34m*\u001b[0m\u001b[0margs\u001b[0m\u001b[0;34m,\u001b[0m \u001b[0;34m**\u001b[0m\u001b[0mkwargs\u001b[0m\u001b[0;34m)\u001b[0m\u001b[0;34m\u001b[0m\u001b[0;34m\u001b[0m\u001b[0m\n\u001b[0m\u001b[1;32m     66\u001b[0m         \u001b[0;32mexcept\u001b[0m \u001b[0mException\u001b[0m \u001b[0;32mas\u001b[0m \u001b[0me\u001b[0m\u001b[0;34m:\u001b[0m\u001b[0;34m\u001b[0m\u001b[0;34m\u001b[0m\u001b[0m\n\u001b[1;32m     67\u001b[0m             \u001b[0mfiltered_tb\u001b[0m \u001b[0;34m=\u001b[0m \u001b[0m_process_traceback_frames\u001b[0m\u001b[0;34m(\u001b[0m\u001b[0me\u001b[0m\u001b[0;34m.\u001b[0m\u001b[0m__traceback__\u001b[0m\u001b[0;34m)\u001b[0m\u001b[0;34m\u001b[0m\u001b[0;34m\u001b[0m\u001b[0m\n",
            "\u001b[0;32m/usr/local/lib/python3.9/dist-packages/keras/engine/training.py\u001b[0m in \u001b[0;36mfit\u001b[0;34m(self, x, y, batch_size, epochs, verbose, callbacks, validation_split, validation_data, shuffle, class_weight, sample_weight, initial_epoch, steps_per_epoch, validation_steps, validation_batch_size, validation_freq, max_queue_size, workers, use_multiprocessing)\u001b[0m\n\u001b[1;32m   1648\u001b[0m                         ):\n\u001b[1;32m   1649\u001b[0m                             \u001b[0mcallbacks\u001b[0m\u001b[0;34m.\u001b[0m\u001b[0mon_train_batch_begin\u001b[0m\u001b[0;34m(\u001b[0m\u001b[0mstep\u001b[0m\u001b[0;34m)\u001b[0m\u001b[0;34m\u001b[0m\u001b[0;34m\u001b[0m\u001b[0m\n\u001b[0;32m-> 1650\u001b[0;31m                             \u001b[0mtmp_logs\u001b[0m \u001b[0;34m=\u001b[0m \u001b[0mself\u001b[0m\u001b[0;34m.\u001b[0m\u001b[0mtrain_function\u001b[0m\u001b[0;34m(\u001b[0m\u001b[0miterator\u001b[0m\u001b[0;34m)\u001b[0m\u001b[0;34m\u001b[0m\u001b[0;34m\u001b[0m\u001b[0m\n\u001b[0m\u001b[1;32m   1651\u001b[0m                             \u001b[0;32mif\u001b[0m \u001b[0mdata_handler\u001b[0m\u001b[0;34m.\u001b[0m\u001b[0mshould_sync\u001b[0m\u001b[0;34m:\u001b[0m\u001b[0;34m\u001b[0m\u001b[0;34m\u001b[0m\u001b[0m\n\u001b[1;32m   1652\u001b[0m                                 \u001b[0mcontext\u001b[0m\u001b[0;34m.\u001b[0m\u001b[0masync_wait\u001b[0m\u001b[0;34m(\u001b[0m\u001b[0;34m)\u001b[0m\u001b[0;34m\u001b[0m\u001b[0;34m\u001b[0m\u001b[0m\n",
            "\u001b[0;32m/usr/local/lib/python3.9/dist-packages/tensorflow/python/util/traceback_utils.py\u001b[0m in \u001b[0;36merror_handler\u001b[0;34m(*args, **kwargs)\u001b[0m\n\u001b[1;32m    148\u001b[0m     \u001b[0mfiltered_tb\u001b[0m \u001b[0;34m=\u001b[0m \u001b[0;32mNone\u001b[0m\u001b[0;34m\u001b[0m\u001b[0;34m\u001b[0m\u001b[0m\n\u001b[1;32m    149\u001b[0m     \u001b[0;32mtry\u001b[0m\u001b[0;34m:\u001b[0m\u001b[0;34m\u001b[0m\u001b[0;34m\u001b[0m\u001b[0m\n\u001b[0;32m--> 150\u001b[0;31m       \u001b[0;32mreturn\u001b[0m \u001b[0mfn\u001b[0m\u001b[0;34m(\u001b[0m\u001b[0;34m*\u001b[0m\u001b[0margs\u001b[0m\u001b[0;34m,\u001b[0m \u001b[0;34m**\u001b[0m\u001b[0mkwargs\u001b[0m\u001b[0;34m)\u001b[0m\u001b[0;34m\u001b[0m\u001b[0;34m\u001b[0m\u001b[0m\n\u001b[0m\u001b[1;32m    151\u001b[0m     \u001b[0;32mexcept\u001b[0m \u001b[0mException\u001b[0m \u001b[0;32mas\u001b[0m \u001b[0me\u001b[0m\u001b[0;34m:\u001b[0m\u001b[0;34m\u001b[0m\u001b[0;34m\u001b[0m\u001b[0m\n\u001b[1;32m    152\u001b[0m       \u001b[0mfiltered_tb\u001b[0m \u001b[0;34m=\u001b[0m \u001b[0m_process_traceback_frames\u001b[0m\u001b[0;34m(\u001b[0m\u001b[0me\u001b[0m\u001b[0;34m.\u001b[0m\u001b[0m__traceback__\u001b[0m\u001b[0;34m)\u001b[0m\u001b[0;34m\u001b[0m\u001b[0;34m\u001b[0m\u001b[0m\n",
            "\u001b[0;32m/usr/local/lib/python3.9/dist-packages/tensorflow/python/eager/polymorphic_function/polymorphic_function.py\u001b[0m in \u001b[0;36m__call__\u001b[0;34m(self, *args, **kwds)\u001b[0m\n\u001b[1;32m    878\u001b[0m \u001b[0;34m\u001b[0m\u001b[0m\n\u001b[1;32m    879\u001b[0m       \u001b[0;32mwith\u001b[0m \u001b[0mOptionalXlaContext\u001b[0m\u001b[0;34m(\u001b[0m\u001b[0mself\u001b[0m\u001b[0;34m.\u001b[0m\u001b[0m_jit_compile\u001b[0m\u001b[0;34m)\u001b[0m\u001b[0;34m:\u001b[0m\u001b[0;34m\u001b[0m\u001b[0;34m\u001b[0m\u001b[0m\n\u001b[0;32m--> 880\u001b[0;31m         \u001b[0mresult\u001b[0m \u001b[0;34m=\u001b[0m \u001b[0mself\u001b[0m\u001b[0;34m.\u001b[0m\u001b[0m_call\u001b[0m\u001b[0;34m(\u001b[0m\u001b[0;34m*\u001b[0m\u001b[0margs\u001b[0m\u001b[0;34m,\u001b[0m \u001b[0;34m**\u001b[0m\u001b[0mkwds\u001b[0m\u001b[0;34m)\u001b[0m\u001b[0;34m\u001b[0m\u001b[0;34m\u001b[0m\u001b[0m\n\u001b[0m\u001b[1;32m    881\u001b[0m \u001b[0;34m\u001b[0m\u001b[0m\n\u001b[1;32m    882\u001b[0m       \u001b[0mnew_tracing_count\u001b[0m \u001b[0;34m=\u001b[0m \u001b[0mself\u001b[0m\u001b[0;34m.\u001b[0m\u001b[0mexperimental_get_tracing_count\u001b[0m\u001b[0;34m(\u001b[0m\u001b[0;34m)\u001b[0m\u001b[0;34m\u001b[0m\u001b[0;34m\u001b[0m\u001b[0m\n",
            "\u001b[0;32m/usr/local/lib/python3.9/dist-packages/tensorflow/python/eager/polymorphic_function/polymorphic_function.py\u001b[0m in \u001b[0;36m_call\u001b[0;34m(self, *args, **kwds)\u001b[0m\n\u001b[1;32m    910\u001b[0m       \u001b[0;31m# In this case we have created variables on the first call, so we run the\u001b[0m\u001b[0;34m\u001b[0m\u001b[0;34m\u001b[0m\u001b[0m\n\u001b[1;32m    911\u001b[0m       \u001b[0;31m# defunned version which is guaranteed to never create variables.\u001b[0m\u001b[0;34m\u001b[0m\u001b[0;34m\u001b[0m\u001b[0m\n\u001b[0;32m--> 912\u001b[0;31m       \u001b[0;32mreturn\u001b[0m \u001b[0mself\u001b[0m\u001b[0;34m.\u001b[0m\u001b[0m_no_variable_creation_fn\u001b[0m\u001b[0;34m(\u001b[0m\u001b[0;34m*\u001b[0m\u001b[0margs\u001b[0m\u001b[0;34m,\u001b[0m \u001b[0;34m**\u001b[0m\u001b[0mkwds\u001b[0m\u001b[0;34m)\u001b[0m  \u001b[0;31m# pylint: disable=not-callable\u001b[0m\u001b[0;34m\u001b[0m\u001b[0;34m\u001b[0m\u001b[0m\n\u001b[0m\u001b[1;32m    913\u001b[0m     \u001b[0;32melif\u001b[0m \u001b[0mself\u001b[0m\u001b[0;34m.\u001b[0m\u001b[0m_variable_creation_fn\u001b[0m \u001b[0;32mis\u001b[0m \u001b[0;32mnot\u001b[0m \u001b[0;32mNone\u001b[0m\u001b[0;34m:\u001b[0m\u001b[0;34m\u001b[0m\u001b[0;34m\u001b[0m\u001b[0m\n\u001b[1;32m    914\u001b[0m       \u001b[0;31m# Release the lock early so that multiple threads can perform the call\u001b[0m\u001b[0;34m\u001b[0m\u001b[0;34m\u001b[0m\u001b[0m\n",
            "\u001b[0;32m/usr/local/lib/python3.9/dist-packages/tensorflow/python/eager/polymorphic_function/tracing_compiler.py\u001b[0m in \u001b[0;36m__call__\u001b[0;34m(self, *args, **kwargs)\u001b[0m\n\u001b[1;32m    132\u001b[0m       (concrete_function,\n\u001b[1;32m    133\u001b[0m        filtered_flat_args) = self._maybe_define_function(args, kwargs)\n\u001b[0;32m--> 134\u001b[0;31m     return concrete_function._call_flat(\n\u001b[0m\u001b[1;32m    135\u001b[0m         filtered_flat_args, captured_inputs=concrete_function.captured_inputs)  # pylint: disable=protected-access\n\u001b[1;32m    136\u001b[0m \u001b[0;34m\u001b[0m\u001b[0m\n",
            "\u001b[0;32m/usr/local/lib/python3.9/dist-packages/tensorflow/python/eager/polymorphic_function/monomorphic_function.py\u001b[0m in \u001b[0;36m_call_flat\u001b[0;34m(self, args, captured_inputs, cancellation_manager)\u001b[0m\n\u001b[1;32m   1743\u001b[0m         and executing_eagerly):\n\u001b[1;32m   1744\u001b[0m       \u001b[0;31m# No tape is watching; skip to running the function.\u001b[0m\u001b[0;34m\u001b[0m\u001b[0;34m\u001b[0m\u001b[0m\n\u001b[0;32m-> 1745\u001b[0;31m       return self._build_call_outputs(self._inference_function.call(\n\u001b[0m\u001b[1;32m   1746\u001b[0m           ctx, args, cancellation_manager=cancellation_manager))\n\u001b[1;32m   1747\u001b[0m     forward_backward = self._select_forward_and_backward_functions(\n",
            "\u001b[0;32m/usr/local/lib/python3.9/dist-packages/tensorflow/python/eager/polymorphic_function/monomorphic_function.py\u001b[0m in \u001b[0;36mcall\u001b[0;34m(self, ctx, args, cancellation_manager)\u001b[0m\n\u001b[1;32m    376\u001b[0m       \u001b[0;32mwith\u001b[0m \u001b[0m_InterpolateFunctionError\u001b[0m\u001b[0;34m(\u001b[0m\u001b[0mself\u001b[0m\u001b[0;34m)\u001b[0m\u001b[0;34m:\u001b[0m\u001b[0;34m\u001b[0m\u001b[0;34m\u001b[0m\u001b[0m\n\u001b[1;32m    377\u001b[0m         \u001b[0;32mif\u001b[0m \u001b[0mcancellation_manager\u001b[0m \u001b[0;32mis\u001b[0m \u001b[0;32mNone\u001b[0m\u001b[0;34m:\u001b[0m\u001b[0;34m\u001b[0m\u001b[0;34m\u001b[0m\u001b[0m\n\u001b[0;32m--> 378\u001b[0;31m           outputs = execute.execute(\n\u001b[0m\u001b[1;32m    379\u001b[0m               \u001b[0mstr\u001b[0m\u001b[0;34m(\u001b[0m\u001b[0mself\u001b[0m\u001b[0;34m.\u001b[0m\u001b[0msignature\u001b[0m\u001b[0;34m.\u001b[0m\u001b[0mname\u001b[0m\u001b[0;34m)\u001b[0m\u001b[0;34m,\u001b[0m\u001b[0;34m\u001b[0m\u001b[0;34m\u001b[0m\u001b[0m\n\u001b[1;32m    380\u001b[0m               \u001b[0mnum_outputs\u001b[0m\u001b[0;34m=\u001b[0m\u001b[0mself\u001b[0m\u001b[0;34m.\u001b[0m\u001b[0m_num_outputs\u001b[0m\u001b[0;34m,\u001b[0m\u001b[0;34m\u001b[0m\u001b[0;34m\u001b[0m\u001b[0m\n",
            "\u001b[0;32m/usr/local/lib/python3.9/dist-packages/tensorflow/python/eager/execute.py\u001b[0m in \u001b[0;36mquick_execute\u001b[0;34m(op_name, num_outputs, inputs, attrs, ctx, name)\u001b[0m\n\u001b[1;32m     50\u001b[0m   \u001b[0;32mtry\u001b[0m\u001b[0;34m:\u001b[0m\u001b[0;34m\u001b[0m\u001b[0;34m\u001b[0m\u001b[0m\n\u001b[1;32m     51\u001b[0m     \u001b[0mctx\u001b[0m\u001b[0;34m.\u001b[0m\u001b[0mensure_initialized\u001b[0m\u001b[0;34m(\u001b[0m\u001b[0;34m)\u001b[0m\u001b[0;34m\u001b[0m\u001b[0;34m\u001b[0m\u001b[0m\n\u001b[0;32m---> 52\u001b[0;31m     tensors = pywrap_tfe.TFE_Py_Execute(ctx._handle, device_name, op_name,\n\u001b[0m\u001b[1;32m     53\u001b[0m                                         inputs, attrs, num_outputs)\n\u001b[1;32m     54\u001b[0m   \u001b[0;32mexcept\u001b[0m \u001b[0mcore\u001b[0m\u001b[0;34m.\u001b[0m\u001b[0m_NotOkStatusException\u001b[0m \u001b[0;32mas\u001b[0m \u001b[0me\u001b[0m\u001b[0;34m:\u001b[0m\u001b[0;34m\u001b[0m\u001b[0;34m\u001b[0m\u001b[0m\n",
            "\u001b[0;31mKeyboardInterrupt\u001b[0m: "
          ]
        }
      ]
    },
    {
      "cell_type": "code",
      "source": [
        "''''\n",
        "Model 3: Bidirectional LSTM\n",
        "'''\n",
        "\n",
        "# Define the LSTM model\n",
        "inputs = keras.Input(shape=(sequence_length, train_data_gen[0][0].shape[2]))\n",
        "# Next model add a Dense layer here\n",
        "x = Dense(units=batch_size, activation='relu')(inputs)\n",
        "x = layers.Bidirectional(LSTM(batch_size, \n",
        "                          activation='relu', \n",
        "                          input_shape=(sequence_length, 1),\n",
        "                          unroll=True,\n",
        "                          recurrent_dropout=0.5))(x)\n",
        "x = Dense(units=batch_size//2, activation='relu')(x)\n",
        "outputs = Dense(units=1, activation='sigmoid')(x)\n",
        "model_3 = keras.Model(inputs, outputs)\n",
        "\n",
        "# Compile\n",
        "model_3.compile(loss='binary_crossentropy', \n",
        "              optimizer=Adam(learning_rate=0.00001), \n",
        "              metrics=['binary_accuracy'])"
      ],
      "metadata": {
        "colab": {
          "base_uri": "https://localhost:8080/"
        },
        "id": "WaMLOKHyr8GR",
        "outputId": "cbef1240-66a1-4545-8314-e1311f9c0597"
      },
      "execution_count": 88,
      "outputs": [
        {
          "output_type": "stream",
          "name": "stderr",
          "text": [
            "WARNING:tensorflow:Layer lstm_28 will not use cuDNN kernels since it doesn't meet the criteria. It will use a generic GPU kernel as fallback when running on GPU.\n",
            "WARNING:tensorflow:Layer lstm_28 will not use cuDNN kernels since it doesn't meet the criteria. It will use a generic GPU kernel as fallback when running on GPU.\n",
            "WARNING:tensorflow:Layer lstm_28 will not use cuDNN kernels since it doesn't meet the criteria. It will use a generic GPU kernel as fallback when running on GPU.\n"
          ]
        }
      ]
    },
    {
      "cell_type": "code",
      "source": [
        "# Train the model using the TimeSeriesGenerator\n",
        "epochs = 50\n",
        "history_3 = model_3.fit(train_data_gen, validation_data=val_data_gen,\n",
        "                        shuffle=False, epochs=epochs, \n",
        "                        callbacks=callbacks('models/model_lstm_3.keras'))"
      ],
      "metadata": {
        "colab": {
          "base_uri": "https://localhost:8080/"
        },
        "id": "hQcBf0pZul4L",
        "outputId": "bf9806d2-b4cd-4fc9-927a-295402978ca5"
      },
      "execution_count": 89,
      "outputs": [
        {
          "output_type": "stream",
          "name": "stdout",
          "text": [
            "Epoch 1/50\n",
            "153/153 [==============================] - 351s 607ms/step - loss: 0.6978 - binary_accuracy: 0.4295 - val_loss: 0.6780 - val_binary_accuracy: 0.8066\n",
            "Epoch 2/50\n",
            "153/153 [==============================] - 63s 411ms/step - loss: 0.6562 - binary_accuracy: 0.8123 - val_loss: 0.6374 - val_binary_accuracy: 0.8138\n",
            "Epoch 3/50\n",
            "153/153 [==============================] - 63s 412ms/step - loss: 0.7278 - binary_accuracy: 0.8142 - val_loss: 0.5990 - val_binary_accuracy: 0.8138\n",
            "Epoch 4/50\n",
            "153/153 [==============================] - 63s 413ms/step - loss: 590928.1250 - binary_accuracy: 0.8142 - val_loss: 0.5789 - val_binary_accuracy: 0.8138\n",
            "Epoch 5/50\n",
            "153/153 [==============================] - 63s 413ms/step - loss: 114.6105 - binary_accuracy: 0.8140 - val_loss: 0.5736 - val_binary_accuracy: 0.8138\n",
            "Epoch 6/50\n",
            "153/153 [==============================] - 63s 412ms/step - loss: 429775872.0000 - binary_accuracy: 0.8142 - val_loss: 0.5698 - val_binary_accuracy: 0.8138\n",
            "Epoch 7/50\n",
            "153/153 [==============================] - 63s 412ms/step - loss: 0.5698 - binary_accuracy: 0.8142 - val_loss: 0.5632 - val_binary_accuracy: 0.8138\n",
            "Epoch 8/50\n",
            "153/153 [==============================] - 64s 416ms/step - loss: 3944.2529 - binary_accuracy: 0.8142 - val_loss: 0.5561 - val_binary_accuracy: 0.8138\n",
            "Epoch 9/50\n",
            "153/153 [==============================] - 62s 404ms/step - loss: 367539.9375 - binary_accuracy: 0.8142 - val_loss: 0.5532 - val_binary_accuracy: 0.8138\n",
            "Epoch 10/50\n",
            "153/153 [==============================] - 62s 406ms/step - loss: 150.5522 - binary_accuracy: 0.8142 - val_loss: 0.5500 - val_binary_accuracy: 0.8138\n",
            "Epoch 11/50\n",
            "153/153 [==============================] - 62s 406ms/step - loss: 163.4266 - binary_accuracy: 0.8142 - val_loss: 0.5481 - val_binary_accuracy: 0.8138\n",
            "Epoch 12/50\n",
            "153/153 [==============================] - 62s 405ms/step - loss: 172419072.0000 - binary_accuracy: 0.8141 - val_loss: 0.5445 - val_binary_accuracy: 0.8138\n",
            "Epoch 13/50\n",
            "153/153 [==============================] - 63s 414ms/step - loss: nan - binary_accuracy: 0.8142 - val_loss: nan - val_binary_accuracy: 0.8138\n",
            "Epoch 14/50\n",
            "153/153 [==============================] - 62s 404ms/step - loss: nan - binary_accuracy: 0.8142 - val_loss: nan - val_binary_accuracy: 0.8138\n",
            "Epoch 15/50\n",
            "153/153 [==============================] - ETA: 0s - loss: nan - binary_accuracy: 0.8142Restoring model weights from the end of the best epoch: 12.\n",
            "153/153 [==============================] - 62s 402ms/step - loss: nan - binary_accuracy: 0.8142 - val_loss: nan - val_binary_accuracy: 0.8138\n",
            "Epoch 15: early stopping\n"
          ]
        }
      ]
    },
    {
      "cell_type": "code",
      "source": [
        "# Evaluate the model\n",
        "model_3_eval_val = model_1.evaluate(val_data_gen)\n",
        "print(f'Val Binary Accuracy is: {model_3_eval_val[1]:.2f}')\n",
        "model_3_eval_test = model_0.evaluate(test_data_gen)\n",
        "print(f'Val Binary Accuracy is: {model_3_eval_test[1]:.2f}')"
      ],
      "metadata": {
        "colab": {
          "base_uri": "https://localhost:8080/"
        },
        "id": "7T24McaT2y_E",
        "outputId": "9ad26460-5986-4171-f1e4-b92a0a841b24"
      },
      "execution_count": 90,
      "outputs": [
        {
          "output_type": "stream",
          "name": "stdout",
          "text": [
            "46/46 [==============================] - 2s 33ms/step - loss: 0.4802 - binary_accuracy: 0.8138\n",
            "Val Binary Accuracy is: 0.81\n",
            "36/36 [==============================] - 0s 2ms/step - loss: 2.8069 - binary_accuracy: 0.7928\n",
            "Val Binary Accuracy is: 0.79\n"
          ]
        }
      ]
    },
    {
      "cell_type": "code",
      "source": [],
      "metadata": {
        "id": "t4llTR3FvAwS"
      },
      "execution_count": null,
      "outputs": []
    }
  ]
}