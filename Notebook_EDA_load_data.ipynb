{
 "cells": [
  {
   "cell_type": "code",
   "execution_count": 1,
   "id": "5b368f99",
   "metadata": {},
   "outputs": [],
   "source": [
    "# Exploratory data analysis of dataset\n",
    "\n",
    "import matplotlib.pyplot as plt # plotting\n",
    "import numpy as np # linear algebra\n",
    "import os # accessing directory structure\n",
    "import pandas as pd # data processing, CSV file I/O (e.g. pd.read_csv)\n",
    "import glob"
   ]
  },
  {
   "cell_type": "code",
   "execution_count": 4,
   "id": "4bc5a0d3",
   "metadata": {},
   "outputs": [],
   "source": [
    "# os.getcwd() # working directory\n",
    "# absolute path of data directory\n",
    "PATH = os.path.join(os.path.abspath(os.getcwd()), 'data')\n",
    "\n",
    "# Processed data directory\n",
    "#interim_dir = os.path.join(PATH, '0. interim')\n",
    "process_dir = os.path.join(PATH, '1. processed')"
   ]
  },
  {
   "cell_type": "code",
   "execution_count": 5,
   "id": "82e55a05",
   "metadata": {},
   "outputs": [],
   "source": [
    "# Data set directory for processed HRV and EDA data\n",
    "#interim_wesad_dir = os.path.join(interim_dir, 'wesad')\n",
    "#interim_eda_dir = os.path.join(interim_dir, 'eda')\n",
    "process_hrv_dir = os.path.join(process_dir, 'hrv')\n",
    "process_eda_dir = os.path.join(process_dir, 'eda')\n",
    "process_hrv_swell_dir = os.path.join(process_hrv_dir, 'swell')\n",
    "proces_hrv_wesad_dir = os.path.join(process_hrv_dir ,'wesad')\n",
    "process_eda_swell_dir = os.path.join(process_eda_dir, 'swell')\n",
    "process_eda_wesad_dir = os.path.join(process_eda_dir, 'wesad')"
   ]
  },
  {
   "cell_type": "code",
   "execution_count": 67,
   "id": "6ed12b10",
   "metadata": {},
   "outputs": [],
   "source": [
    "# import all EDA data into dataframes\n",
    "process_eda_swell_files = glob.glob(os.path.join(process_eda_swell_dir, \"*.xlsx\"))\n",
    "process_eda_wesad_files = glob.glob(os.path.join(process_eda_wesad_dir, \"*.xlsx\"))\n",
    "\n",
    "def process_files(f):\n",
    "    #for f in process_eda_swell_files:\n",
    "    # read the txt file\n",
    "    df = pd.read_excel(f, index_col=None, header=0)\n",
    "    #df.head()\n",
    "    df['file_name'] = f\n",
    "    #li.append(df)\n",
    "    # print the location and filename\n",
    "    #print('File:', f)\n",
    "    return df\n",
    "\n",
    "# Create list of dataframes that hold each file's contents\n",
    "eda_swell_li = [ process_files(f) for f in process_eda_swell_files ]\n",
    "eda_wesad_li = [ process_files(f) for f in process_eda_wesad_files ]"
   ]
  },
  {
   "cell_type": "code",
   "execution_count": 68,
   "id": "54d5cf65",
   "metadata": {},
   "outputs": [
    {
     "name": "stdout",
     "output_type": "stream",
     "text": [
      "SWELL EDA Data:\n",
      "<class 'list'>\n",
      "22\n",
      "WESAD EDA Data\n",
      "<class 'list'>\n",
      "15\n"
     ]
    }
   ],
   "source": [
    "# View information of each \n",
    "print('SWELL EDA Data:')\n",
    "print(type(eda_swell_li))\n",
    "print(len(eda_swell_li))\n",
    "\n",
    "print('WESAD EDA Data')\n",
    "print(type(eda_wesad_li))\n",
    "print(len(eda_wesad_li))"
   ]
  },
  {
   "cell_type": "code",
   "execution_count": 69,
   "id": "2ff76d30",
   "metadata": {},
   "outputs": [
    {
     "name": "stdout",
     "output_type": "stream",
     "text": [
      "Total SWELL EDA Data: 104053\n",
      "Total WESAD EDA Data: 45677\n"
     ]
    }
   ],
   "source": [
    "eda_swell_df = pd.concat(eda_swell_li)\n",
    "print(f'Total SWELL EDA Data: {len(eda_swell_df)}')\n",
    "eda_wesad_df = pd.concat(eda_wesad_li)\n",
    "print(f'Total WESAD EDA Data: {len(eda_wesad_df)}')"
   ]
  },
  {
   "cell_type": "code",
   "execution_count": 71,
   "id": "49a3f573",
   "metadata": {},
   "outputs": [
    {
     "name": "stdout",
     "output_type": "stream",
     "text": [
      "Total SWELL HRV Data: 104053\n",
      "Total WESAD HRV Data: 45677\n"
     ]
    }
   ],
   "source": [
    "# HRV data\n",
    "process_hrv_swell_files = glob.glob(os.path.join(process_eda_swell_dir, \"*.xlsx\"))\n",
    "process_hrv_wesad_files = glob.glob(os.path.join(process_eda_wesad_dir, \"*.xlsx\"))\n",
    "\n",
    "hrv_swell_li = [ process_files(f) for f in process_hrv_swell_files ]\n",
    "hrv_wesad_li = [ process_files(f) for f in process_hrv_wesad_files ]\n",
    "\n",
    "hrv_swell_df = pd.concat(hrv_swell_li)\n",
    "print(f'Total SWELL HRV Data: {len(hrv_swell_df)}')\n",
    "hrv_wesad_df = pd.concat(hrv_wesad_li)\n",
    "print(f'Total WESAD HRV Data: {len(hrv_wesad_df)}')"
   ]
  },
  {
   "cell_type": "code",
   "execution_count": null,
   "id": "7fec3fd1",
   "metadata": {},
   "outputs": [],
   "source": [
    "eda_swell_df"
   ]
  }
 ],
 "metadata": {
  "kernelspec": {
   "display_name": "learn-env",
   "language": "python",
   "name": "learn-env"
  },
  "language_info": {
   "codemirror_mode": {
    "name": "ipython",
    "version": 3
   },
   "file_extension": ".py",
   "mimetype": "text/x-python",
   "name": "python",
   "nbconvert_exporter": "python",
   "pygments_lexer": "ipython3",
   "version": "3.9.7"
  }
 },
 "nbformat": 4,
 "nbformat_minor": 5
}
