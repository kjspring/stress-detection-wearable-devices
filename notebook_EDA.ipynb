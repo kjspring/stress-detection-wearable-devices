{
 "cells": [
  {
   "cell_type": "code",
   "execution_count": 3,
   "id": "23a5f556",
   "metadata": {},
   "outputs": [],
   "source": [
    "# \n",
    "#\n",
    "# \n",
    "import pandas as pd\n",
    "import os # accessing directory structure"
   ]
  },
  {
   "cell_type": "code",
   "execution_count": 4,
   "id": "2d6e3669",
   "metadata": {},
   "outputs": [],
   "source": [
    "\n",
    "# absolute path of data directory\n",
    "PATH = os.path.join(os.path.abspath(os.getcwd()), 'data')\n",
    "pickle_dir = os.path.join(PATH, 'pickle')\n",
    "\n",
    "# Open Pickled Data and save into pandas dataframe\n",
    "eda_swell_df = pd.read_pickle(f'{pickle_dir}\\\\eda_well_df.pkl')\n",
    "eda_wesad_df = pd.read_pickle(f'{pickle_dir}\\\\eda_wesad_df.pkl')\n",
    "hrv_swell_df = pd.read_pickle(f'{pickle_dir}\\\\hrv_well_df.pkl')\n",
    "hrv_wesad_df = pd.read_pickle(f'{pickle_dir}\\\\hrv_wesad_df.pkl')"
   ]
  },
  {
   "cell_type": "code",
   "execution_count": 5,
   "id": "5dcab1ea",
   "metadata": {},
   "outputs": [
    {
     "name": "stdout",
     "output_type": "stream",
     "text": [
      "<class 'pandas.core.frame.DataFrame'>\n",
      "Int64Index: 45677 entries, 0 to 3079\n",
      "Data columns (total 49 columns):\n",
      " #   Column                    Non-Null Count  Dtype  \n",
      "---  ------                    --------------  -----  \n",
      " 0   Time                      45677 non-null  float64\n",
      " 1   MEAN                      45677 non-null  float64\n",
      " 2   MAX                       45677 non-null  float64\n",
      " 3   MIN                       45677 non-null  float64\n",
      " 4   RANGE                     45677 non-null  float64\n",
      " 5   KURT                      45677 non-null  float64\n",
      " 6   SKEW                      45677 non-null  float64\n",
      " 7   MEAN_1ST_GRAD             45677 non-null  float64\n",
      " 8   STD_1ST_GRAD              45677 non-null  float64\n",
      " 9   MEAN_2ND_GRAD             45677 non-null  float64\n",
      " 10  STD_2ND_GRAD              45677 non-null  float64\n",
      " 11  ALSC                      45677 non-null  float64\n",
      " 12  INSC                      45677 non-null  float64\n",
      " 13  APSC                      45677 non-null  float64\n",
      " 14  RMSC                      45677 non-null  float64\n",
      " 15  subject id                45677 non-null  int64  \n",
      " 16  MEAN_LOG                  45677 non-null  float64\n",
      " 17  INSC_LOG                  45677 non-null  float64\n",
      " 18  APSC_LOG                  45677 non-null  float64\n",
      " 19  RMSC_LOG                  45677 non-null  float64\n",
      " 20  RANGE_LOG                 45677 non-null  float64\n",
      " 21  ALSC_LOG                  45677 non-null  float64\n",
      " 22  MIN_LOG                   45677 non-null  float64\n",
      " 23  MEAN_1ST_GRAD_LOG         45677 non-null  float64\n",
      " 24  MEAN_2ND_GRAD_LOG         45677 non-null  float64\n",
      " 25  MIN_LOG_LOG               45677 non-null  float64\n",
      " 26  MEAN_1ST_GRAD_LOG_LOG     45677 non-null  float64\n",
      " 27  MEAN_2ND_GRAD_LOG_LOG     45677 non-null  float64\n",
      " 28  APSC_LOG_LOG              45677 non-null  float64\n",
      " 29  ALSC_LOG_LOG              45677 non-null  float64\n",
      " 30  APSC_BOXCOX               45677 non-null  float64\n",
      " 31  RMSC_BOXCOX               45677 non-null  float64\n",
      " 32  RANGE_BOXCOX              45677 non-null  float64\n",
      " 33  MEAN_YEO_JONSON           45677 non-null  float64\n",
      " 34  SKEW_YEO_JONSON           45677 non-null  float64\n",
      " 35  KURT_YEO_JONSON           45677 non-null  float64\n",
      " 36  APSC_YEO_JONSON           45677 non-null  float64\n",
      " 37  MIN_YEO_JONSON            45677 non-null  float64\n",
      " 38  MAX_YEO_JONSON            45677 non-null  float64\n",
      " 39  MEAN_1ST_GRAD_YEO_JONSON  45677 non-null  float64\n",
      " 40  RMSC_YEO_JONSON           45677 non-null  float64\n",
      " 41  STD_1ST_GRAD_YEO_JONSON   45677 non-null  float64\n",
      " 42  RANGE_SQRT                45677 non-null  float64\n",
      " 43  RMSC_SQUARED              45677 non-null  float64\n",
      " 44  MEAN_2ND_GRAD_CUBE        45677 non-null  float64\n",
      " 45  INSC_APSC                 45677 non-null  float64\n",
      " 46  condition                 45677 non-null  object \n",
      " 47  SSSQ                      45677 non-null  int64  \n",
      " 48  file_name                 45677 non-null  object \n",
      "dtypes: float64(45), int64(2), object(2)\n",
      "memory usage: 17.4+ MB\n"
     ]
    }
   ],
   "source": [
    "hrv_wesad_df.info()"
   ]
  },
  {
   "cell_type": "code",
   "execution_count": null,
   "id": "fb0a3c7c",
   "metadata": {},
   "outputs": [],
   "source": [
    "# y-value is 'condition'\n",
    "# Keep file_name, subject_id, and columns 1-6\n",
    "hrv_wesad_df"
   ]
  },
  {
   "cell_type": "code",
   "execution_count": 10,
   "id": "5831dce2",
   "metadata": {},
   "outputs": [
    {
     "data": {
      "text/plain": [
       "array([10, 11, 13, 14, 15, 16, 17,  2,  3,  4,  5,  6,  7,  8,  9],\n",
       "      dtype=int64)"
      ]
     },
     "execution_count": 10,
     "metadata": {},
     "output_type": "execute_result"
    }
   ],
   "source": [
    "hrv_wesad_df['subject id'].unique()"
   ]
  },
  {
   "cell_type": "code",
   "execution_count": null,
   "id": "1ddab8f4",
   "metadata": {},
   "outputs": [],
   "source": []
  }
 ],
 "metadata": {
  "kernelspec": {
   "display_name": "learn-env",
   "language": "python",
   "name": "learn-env"
  },
  "language_info": {
   "codemirror_mode": {
    "name": "ipython",
    "version": 3
   },
   "file_extension": ".py",
   "mimetype": "text/x-python",
   "name": "python",
   "nbconvert_exporter": "python",
   "pygments_lexer": "ipython3",
   "version": "3.9.7"
  }
 },
 "nbformat": 4,
 "nbformat_minor": 5
}
