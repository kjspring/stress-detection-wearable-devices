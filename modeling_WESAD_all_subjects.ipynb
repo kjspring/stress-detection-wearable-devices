{
  "nbformat": 4,
  "nbformat_minor": 0,
  "metadata": {
    "colab": {
      "provenance": [],
      "machine_shape": "hm",
      "include_colab_link": true
    },
    "kernelspec": {
      "name": "python3",
      "display_name": "Python 3"
    },
    "language_info": {
      "name": "python"
    },
    "gpuClass": "standard",
    "accelerator": "GPU"
  },
  "cells": [
    {
      "cell_type": "markdown",
      "metadata": {
        "id": "view-in-github",
        "colab_type": "text"
      },
      "source": [
        "<a href=\"https://colab.research.google.com/github/kjspring/stress-detection-wearable-devices/blob/main/modeling_WESAD_all_subjects.ipynb\" target=\"_parent\"><img src=\"https://colab.research.google.com/assets/colab-badge.svg\" alt=\"Open In Colab\"/></a>"
      ]
    },
    {
      "cell_type": "code",
      "execution_count": null,
      "metadata": {
        "colab": {
          "base_uri": "https://localhost:8080/"
        },
        "id": "gtX5TSM8gfZB",
        "outputId": "0a7056ba-41e8-4227-992a-d27c83859b00"
      },
      "outputs": [
        {
          "output_type": "stream",
          "name": "stdout",
          "text": [
            "Mounted at /content/drive\n"
          ]
        }
      ],
      "source": [
        "# Load pickled data\n",
        "\n",
        "# Mount Google Drive\n",
        "from google.colab import drive\n",
        "drive.mount('/content/drive', force_remount=True)\n",
        "\n",
        "import os\n",
        "import pickle\n",
        "\n",
        "#! cd /content/drive/MyDrive/stress-prediction/ # Main file directory for this notebook on Google Drive\n",
        "os.chdir('/content/drive/MyDrive/stress-prediction')\n",
        "# absolute path of data directory\n",
        "PATH = os.path.join(os.path.abspath(os.getcwd()), 'data') # Path of data folder on Google Drive\n",
        "\n",
        "import joblib\n",
        "data = joblib.load(f\"{PATH}/pickle/WESAD_data_model.pickle\") # read pickle file\n",
        "labels = joblib.load(f\"{PATH}/pickle/WESAD_labels_model.pickle\") # read pickle file"
      ]
    },
    {
      "cell_type": "code",
      "source": [
        "import numpy as np\n",
        "\n",
        "# Subsample the data and features\n",
        "Hz_chest = 700\n",
        "Hz_EDA = 4\n",
        "subsample_rate = int(Hz_chest / Hz_EDA)  # subsample rate, e.g. to reduce from 700Hz to 4Hz\n",
        "duration = 5 # how many minutes in the future the target after the end of the sequence\n",
        "sequence_length = Hz_EDA * 60 * duration # observations will go back duration minutues\n",
        "\n",
        "# Subsample data\n",
        "subsampled_data = data[::subsample_rate]\n",
        "subsampled_labels = labels[::subsample_rate]\n",
        "\n",
        "# Compute the delay\n",
        "delay = duration * Hz_EDA\n",
        "\n",
        "# Shift the label array by the computed number of indices\n",
        "delayed_labels = np.roll(subsampled_labels, -delay)\n",
        "\n",
        "# Trim the feature data and label data to have the same length\n",
        "n = len(subsampled_data) - sequence_length\n",
        "delayed_labels = delayed_labels[:n]\n",
        "subsampled_data = subsampled_data[:n]\n",
        "\n",
        "print(len(data))  # 2742499\n",
        "print(len(subsampled_data))  # 14472\n",
        "print(len(delayed_labels))  # 14472"
      ],
      "metadata": {
        "colab": {
          "base_uri": "https://localhost:8080/"
        },
        "id": "Bx2IGBv1yaQ7",
        "outputId": "fa49f84f-91f7-4217-854e-6b964d7ff6d7"
      },
      "execution_count": null,
      "outputs": [
        {
          "output_type": "stream",
          "name": "stdout",
          "text": [
            "2742499\n",
            "14472\n",
            "14472\n"
          ]
        }
      ]
    },
    {
      "cell_type": "code",
      "source": [
        "# Check for NaN values\n",
        "subsampled_data.isnull().values.any()"
      ],
      "metadata": {
        "colab": {
          "base_uri": "https://localhost:8080/"
        },
        "id": "zdxsD6VuL2pJ",
        "outputId": "6f4dbd76-d8fb-4c04-a7b9-7cf4aa725e3d"
      },
      "execution_count": null,
      "outputs": [
        {
          "output_type": "execute_result",
          "data": {
            "text/plain": [
              "False"
            ]
          },
          "metadata": {},
          "execution_count": 3
        }
      ]
    },
    {
      "cell_type": "code",
      "source": [
        "# Try with a Datagenerator to reduce the RAM use\n",
        "from keras.preprocessing.sequence import TimeseriesGenerator\n",
        "\n",
        "\n",
        "# Define the batch size\n",
        "batch_size = 64\n",
        "# Define the number of features and targets\n",
        "num_features = 1\n",
        "num_targets = 1\n",
        "\n",
        "random_state = 42\n",
        "\n",
        "# Train Test Split\n",
        "from sklearn.model_selection import train_test_split\n",
        "\n",
        "X_dat, X_val, y_dat, y_val = train_test_split(subsampled_data, delayed_labels, \n",
        "                                                 test_size = 0.2,\n",
        "                                                 random_state=random_state)\n",
        "\n",
        "X_train, X_test, y_train, y_test = train_test_split(X_dat, y_dat,\n",
        "                                                    test_size = 0.2,\n",
        "                                                    random_state = random_state)\n",
        "\n",
        "\n",
        "# Normalize the data\n",
        "from sklearn.preprocessing import StandardScaler\n",
        "# create the StandardScaler object\n",
        "scaler = StandardScaler()\n",
        "# fit the scaler on the training data\n",
        "X_train_scaled = scaler.fit_transform(X_train.values.reshape(-1,1))\n",
        "# transform the validation data\n",
        "X_val_scaled = scaler.transform(X_val.values.reshape(-1,1))\n",
        "# transform the test data\n",
        "X_test_scaled = scaler.transform(X_test.values.reshape(-1,1))\n",
        "\n",
        "# TimeSeriesGenerator parameters\n",
        "shuffle = True\n",
        "\n",
        "\n",
        "# Data Generator\n",
        "train_data_gen = TimeseriesGenerator(X_train_scaled, y_train, \n",
        "                                     length=sequence_length, \n",
        "                                     batch_size=batch_size)\n",
        "val_data_gen = TimeseriesGenerator(X_val_scaled, y_val, \n",
        "                                   length=sequence_length, \n",
        "                                   batch_size=batch_size)\n",
        "test_data_gen = TimeseriesGenerator(X_test_scaled, y_test, \n",
        "                                    length=sequence_length, \n",
        "                                    batch_size=batch_size)"
      ],
      "metadata": {
        "id": "3xkosnn-j7z6"
      },
      "execution_count": null,
      "outputs": []
    },
    {
      "cell_type": "code",
      "source": [
        "print(train_data_gen[0][0].shape) # prints the batch size of the first entry\n",
        "'''\n",
        "A tensor of shape (32, 1200, 1) means that it is a 3-dimensional tensor with 32 \n",
        "rows, 1200 columns and 1 channel. In this specific case, it could represent a \n",
        "batch of 32 time series samples, each with 1200 time steps and 1 feature/channel.\n",
        "\n",
        "The first dimension (32) represents the batch size, which is the number of \n",
        "samples that are processed at once during training. The second dimension (1200) \n",
        "represents the time steps or the sequence length of each sample, and the third \n",
        "dimension (1) represents the number of features or channels in each sample.\n",
        "'''"
      ],
      "metadata": {
        "colab": {
          "base_uri": "https://localhost:8080/",
          "height": 114
        },
        "id": "JNkaqD_bTfRB",
        "outputId": "48727e5d-a940-461e-9c4a-bcfff36646f5"
      },
      "execution_count": null,
      "outputs": [
        {
          "output_type": "stream",
          "name": "stdout",
          "text": [
            "(64, 1200, 1)\n"
          ]
        },
        {
          "output_type": "execute_result",
          "data": {
            "text/plain": [
              "'\\nA tensor of shape (32, 1200, 1) means that it is a 3-dimensional tensor with 32 \\nrows, 1200 columns and 1 channel. In this specific case, it could represent a \\nbatch of 32 time series samples, each with 1200 time steps and 1 feature/channel.\\n\\nThe first dimension (32) represents the batch size, which is the number of \\nsamples that are processed at once during training. The second dimension (1200) \\nrepresents the time steps or the sequence length of each sample, and the third \\ndimension (1) represents the number of features or channels in each sample.\\n'"
            ],
            "application/vnd.google.colaboratory.intrinsic+json": {
              "type": "string"
            }
          },
          "metadata": {},
          "execution_count": 7
        }
      ]
    },
    {
      "cell_type": "code",
      "source": [
        "train_iterator = iter(train_data_gen)\n",
        "x_batch, y_batch = next(train_iterator)\n",
        "print(x_batch.shape)\n",
        "print(y_batch.shape)\n",
        "\n",
        "# Validation Data\n",
        "val_iterator = iter(val_data_gen)\n",
        "x_batch, y_batch = next(val_iterator)\n",
        "print(x_batch.shape)\n",
        "print(y_batch.shape)"
      ],
      "metadata": {
        "colab": {
          "base_uri": "https://localhost:8080/"
        },
        "id": "If_KuXvFhdsN",
        "outputId": "791dfca1-b0ee-479a-9131-12653fc05459"
      },
      "execution_count": null,
      "outputs": [
        {
          "output_type": "stream",
          "name": "stdout",
          "text": [
            "(64, 1200, 1)\n",
            "(64,)\n",
            "(64, 1200, 1)\n",
            "(64,)\n"
          ]
        }
      ]
    },
    {
      "cell_type": "code",
      "source": [
        "# Naive Model\n",
        "def evaluate_naive_method(dataset):\n",
        "  '''\n",
        "  This method uses a common-sense approach to predict that the subject will be\n",
        "  in the same state 5 minutes from now as they are in now.\n",
        "  '''\n",
        "  "
      ],
      "metadata": {
        "id": "ft6yb8UANWLq"
      },
      "execution_count": null,
      "outputs": []
    },
    {
      "cell_type": "code",
      "source": [
        "type(train_data_gen[0][0].shape[2])\n",
        "print(sequence_length)"
      ],
      "metadata": {
        "colab": {
          "base_uri": "https://localhost:8080/"
        },
        "id": "jknJuAXwWhLq",
        "outputId": "6b043439-2a35-4777-c2d1-9a2133eb8d69"
      },
      "execution_count": null,
      "outputs": [
        {
          "output_type": "stream",
          "name": "stdout",
          "text": [
            "1200\n"
          ]
        }
      ]
    },
    {
      "cell_type": "code",
      "source": [
        "# Callbacks Function\n",
        "def callbacks(checkpoint_file, patience=3):\n",
        "\n",
        "  # import necessary libraries\n",
        "  from keras.callbacks import EarlyStopping, ModelCheckpoint, TensorBoard\n",
        "\n",
        "  # Callback and Early Stopping\n",
        "  callbacks = [EarlyStopping(monitor='val_loss', \n",
        "                             verbose=1, \n",
        "                             patience=patience,\n",
        "                             restore_best_weights=True,\n",
        "                             mode='min'\n",
        "                             ),\n",
        "              ModelCheckpoint(checkpoint_file, \n",
        "                              save_best_only=True,\n",
        "                              verbose=0\n",
        "                              ),\n",
        "              TensorBoard(log_dir='./logs', histogram_freq=1, \n",
        "                          embeddings_freq=1, \n",
        "                          update_freq='epoch')\n",
        "  ]\n",
        "  return callbacks"
      ],
      "metadata": {
        "id": "wLJO3UWrtX16"
      },
      "execution_count": null,
      "outputs": []
    },
    {
      "cell_type": "code",
      "source": [
        "def plot_evaluation(model, file_name):\n",
        "    '''\n",
        "    Plotting helper function.\n",
        "    Plots the Training and validation accuracy\n",
        "    as well as the training and validation loss\n",
        "    over the number of epochs specified\n",
        "    '''\n",
        "    # Import libraries\n",
        "    import matplotlib.pyplot as plt\n",
        "    \n",
        "    acc = model.history['binary_accuracy']\n",
        "    val_acc = model.history['val_binary_accuracy']\n",
        "\n",
        "    loss = model.history['loss']\n",
        "    val_loss = model.history['val_loss']\n",
        "\n",
        "    epochs_range = range(1, len(loss) + 1)\n",
        "    \n",
        "    fig, ax = plt.subplots(1, 2, figsize=(24 , 8))\n",
        "    ax[0].plot(epochs_range, acc, 'g-', label='Training Accuracy')\n",
        "    ax[0].plot(epochs_range, val_acc, 'r-', label='Validation Accuracy')\n",
        "    ax[0].legend(loc='lower right')\n",
        "    ax[0].title.set_text('Training and Validation Accuracy')\n",
        "\n",
        "    ax[1].plot(epochs_range, loss, 'g-', label='Training Loss')\n",
        "    ax[1].plot(epochs_range, val_loss, 'r-', label='Validation Loss')\n",
        "    ax[1].legend(loc='upper right')\n",
        "    ax[1].title.set_text('Training and Validation Loss')\n",
        "    fig.patch.set_facecolor('white')\n",
        "    plt.savefig(f'{file_name}')\n",
        "    plt.show()"
      ],
      "metadata": {
        "id": "am32v-f0bRWJ"
      },
      "execution_count": null,
      "outputs": []
    },
    {
      "cell_type": "code",
      "source": [
        "def evaluate_model(model_filepath, history_filepath, val_data, test_data, save_plot_path):\n",
        "  '''\n",
        "  What does this function do?\n",
        "  val_data: validation data generator\n",
        "  test_data: testing data generator\n",
        "  '''\n",
        "  # Evaluate the model\n",
        "  from tensorflow.keras.models import load_model\n",
        "  import joblib\n",
        "\n",
        "  # Load the model\n",
        "  model = load_model(model_filepath)\n",
        "  model_eval_val = model.evaluate(val_data,\n",
        "                                  use_multiprocessing=True,\n",
        "                                  batch_size=batch_size)\n",
        "  \n",
        "  # Load the training fit history\n",
        "  fit_history = joblib.load(history_filepath) # read pickle file\n",
        "\n",
        "  # Make Plot of Training Fit\n",
        "  plot_evaluation(fit_history, save_plot_path)\n",
        "\n",
        "  # Print validation and testing metrics\n",
        "  print(f'Validation Binary Accuracy is: {model_eval_val[1]:.2f}')\n",
        "  model_eval_test = model.evaluate(test_data,\n",
        "                                  use_multiprocessing=True,\n",
        "                                  batch_size=batch_size)\n",
        "  print(f'Testing Binary Accuracy is: {model_eval_test[1]:.2f}')\n",
        "  return model, fit_history"
      ],
      "metadata": {
        "id": "CmXUCNCKu30M"
      },
      "execution_count": null,
      "outputs": []
    },
    {
      "cell_type": "code",
      "source": [
        "'''\n",
        "Model_0: Densely Connected Network\n",
        "This neural network starts by flattening the data dn then runs it through two \n",
        "Dense layers.\n",
        "\n",
        "This is a simple and cheap model to test the data generator and the metrics\n",
        "being used to evaluate.\n",
        "'''\n",
        "\n",
        "from tensorflow import keras\n",
        "from tensorflow.keras.optimizers import RMSprop\n",
        "from keras.layers import Dense, Flatten\n",
        "\n",
        "# Build Model 0\n",
        "inputs = keras.Input(shape=(sequence_length, train_data_gen[0][0].shape[2]))\n",
        "x = Flatten()(inputs)\n",
        "x = Dense(16, activation='relu')(x)\n",
        "outputs = Dense(1)(x)\n",
        "model_0 = keras.Model(inputs, outputs, name='model_0')\n",
        "\n",
        "# Compile Model 0\n",
        "model_0.compile(loss='binary_crossentropy', \n",
        "              optimizer=RMSprop(learning_rate=0.001), \n",
        "              metrics=['binary_accuracy'])\n",
        "\n",
        "\n",
        "model_0.summary()"
      ],
      "metadata": {
        "colab": {
          "base_uri": "https://localhost:8080/"
        },
        "id": "BqTmajNgSTY_",
        "outputId": "2610ce68-ca3d-4b33-87f8-3ffff1f07aaf"
      },
      "execution_count": null,
      "outputs": [
        {
          "output_type": "stream",
          "name": "stdout",
          "text": [
            "Model: \"model_0\"\n",
            "_________________________________________________________________\n",
            " Layer (type)                Output Shape              Param #   \n",
            "=================================================================\n",
            " input_1 (InputLayer)        [(None, 1200, 1)]         0         \n",
            "                                                                 \n",
            " flatten (Flatten)           (None, 1200)              0         \n",
            "                                                                 \n",
            " dense (Dense)               (None, 16)                19216     \n",
            "                                                                 \n",
            " dense_1 (Dense)             (None, 1)                 17        \n",
            "                                                                 \n",
            "=================================================================\n",
            "Total params: 19,233\n",
            "Trainable params: 19,233\n",
            "Non-trainable params: 0\n",
            "_________________________________________________________________\n"
          ]
        }
      ]
    },
    {
      "cell_type": "code",
      "source": [
        "# Parameters for fitting and saving model training data\n",
        "epochs = 200\n",
        "model_0_filepath = 'models/model_dense.keras'\n",
        "history_0_filepath = 'models/trainHistoryDict/model_0_dense_history.pkl'"
      ],
      "metadata": {
        "id": "3zcGOs2g_U6b"
      },
      "execution_count": null,
      "outputs": []
    },
    {
      "cell_type": "code",
      "source": [
        "# Fit the model to the training data\n",
        "history_0 = model_0.fit(train_data_gen, validation_data=val_data_gen,\n",
        "                        shuffle=False, epochs=epochs, \n",
        "                        callbacks=callbacks(model_0_filepath,\n",
        "                                            patience=10))\n",
        "\n",
        "# Pickle the Traning Fit History\n",
        "with open(history_0_filepath, 'wb') as file_pi:\n",
        "    pickle.dump(history_0, file_pi)"
      ],
      "metadata": {
        "colab": {
          "base_uri": "https://localhost:8080/"
        },
        "id": "Su4RSKkG-lek",
        "outputId": "66d1542c-4f0b-46d6-8750-c21151b8f0b5"
      },
      "execution_count": null,
      "outputs": [
        {
          "output_type": "stream",
          "name": "stdout",
          "text": [
            "Epoch 1/200\n",
            "126/126 [==============================] - 7s 20ms/step - loss: 3.2041 - binary_accuracy: 0.7494 - val_loss: 2.7532 - val_binary_accuracy: 0.7935\n",
            "Epoch 2/200\n",
            "126/126 [==============================] - 1s 9ms/step - loss: 2.9418 - binary_accuracy: 0.7863 - val_loss: 2.7157 - val_binary_accuracy: 0.8071\n",
            "Epoch 3/200\n",
            "126/126 [==============================] - 1s 9ms/step - loss: 2.8432 - binary_accuracy: 0.8035 - val_loss: 2.6680 - val_binary_accuracy: 0.8106\n",
            "Epoch 4/200\n",
            "126/126 [==============================] - 1s 8ms/step - loss: 2.7855 - binary_accuracy: 0.8128 - val_loss: 2.6845 - val_binary_accuracy: 0.8083\n",
            "Epoch 5/200\n",
            "126/126 [==============================] - 1s 9ms/step - loss: 2.7303 - binary_accuracy: 0.8184 - val_loss: 2.7350 - val_binary_accuracy: 0.8000\n",
            "Epoch 6/200\n",
            "126/126 [==============================] - 1s 9ms/step - loss: 2.6833 - binary_accuracy: 0.8201 - val_loss: 2.7251 - val_binary_accuracy: 0.8006\n",
            "Epoch 7/200\n",
            "126/126 [==============================] - 1s 9ms/step - loss: 2.6393 - binary_accuracy: 0.8247 - val_loss: 2.6919 - val_binary_accuracy: 0.8006\n",
            "Epoch 8/200\n",
            "126/126 [==============================] - 1s 9ms/step - loss: 2.6086 - binary_accuracy: 0.8278 - val_loss: 2.7258 - val_binary_accuracy: 0.7941\n",
            "Epoch 9/200\n",
            "126/126 [==============================] - 1s 8ms/step - loss: 2.5639 - binary_accuracy: 0.8269 - val_loss: 3.0098 - val_binary_accuracy: 0.7658\n",
            "Epoch 10/200\n",
            "126/126 [==============================] - 1s 9ms/step - loss: 2.5412 - binary_accuracy: 0.8308 - val_loss: 2.9966 - val_binary_accuracy: 0.7687\n",
            "Epoch 11/200\n",
            "126/126 [==============================] - 1s 9ms/step - loss: 2.5236 - binary_accuracy: 0.8338 - val_loss: 2.9664 - val_binary_accuracy: 0.7752\n",
            "Epoch 12/200\n",
            "126/126 [==============================] - 1s 9ms/step - loss: 2.5138 - binary_accuracy: 0.8312 - val_loss: 3.2309 - val_binary_accuracy: 0.7463\n",
            "Epoch 13/200\n",
            "117/126 [==========================>...] - ETA: 0s - loss: 2.5336 - binary_accuracy: 0.8291Restoring model weights from the end of the best epoch: 3.\n",
            "126/126 [==============================] - 1s 9ms/step - loss: 2.4781 - binary_accuracy: 0.8315 - val_loss: 3.3084 - val_binary_accuracy: 0.7422\n",
            "Epoch 13: early stopping\n",
            "Keras weights file (<HDF5 file \"variables.h5\" (mode r+)>) saving:\n",
            "...layers\n",
            "......dense\n",
            ".........vars\n",
            "............0\n",
            "............1\n",
            "......dense_1\n",
            ".........vars\n",
            "............0\n",
            "............1\n",
            "......flatten\n",
            ".........vars\n",
            "......input_layer\n",
            ".........vars\n",
            "...metrics\n",
            "......mean\n",
            ".........vars\n",
            "............0\n",
            "............1\n",
            "......mean_metric_wrapper\n",
            ".........vars\n",
            "............0\n",
            "............1\n",
            "...optimizer\n",
            "......vars\n",
            ".........0\n",
            ".........1\n",
            ".........2\n",
            ".........3\n",
            ".........4\n",
            "...vars\n",
            "Keras model archive saving:\n",
            "File Name                                             Modified             Size\n",
            "metadata.json                                  2023-03-25 22:34:20           64\n",
            "config.json                                    2023-03-25 22:34:20         2262\n",
            "variables.h5                                   2023-03-25 22:34:20       176872\n"
          ]
        }
      ]
    },
    {
      "cell_type": "code",
      "source": [
        "# Load and Evaluate Model\n",
        "model_0, history_0 = evaluate_model(model_0_filepath, \n",
        "                         history_0_filepath,\n",
        "                         val_data_gen, \n",
        "                         test_data_gen,\n",
        "                         'models/evaluate/model_0_evaluation.pdf')"
      ],
      "metadata": {
        "colab": {
          "base_uri": "https://localhost:8080/",
          "height": 1000
        },
        "id": "rSCtPyyU_FoP",
        "outputId": "1f6e5c42-2112-4438-a422-c6fb62d1f467"
      },
      "execution_count": null,
      "outputs": [
        {
          "output_type": "stream",
          "name": "stdout",
          "text": [
            "27/27 [==============================] - 0s 10ms/step - loss: 2.6680 - binary_accuracy: 0.8106\n",
            "Keras model archive loading:\n",
            "File Name                                             Modified             Size\n",
            "metadata.json                                  2023-03-25 22:34:20           64\n",
            "config.json                                    2023-03-25 22:34:20         2262\n",
            "variables.h5                                   2023-03-25 22:34:20       176872\n",
            "Keras weights file (<HDF5 file \"variables.h5\" (mode r)>) loading:\n",
            "...layers\n",
            "......dense\n",
            ".........vars\n",
            "............0\n",
            "............1\n",
            "......dense_1\n",
            ".........vars\n",
            "............0\n",
            "............1\n",
            "......flatten\n",
            ".........vars\n",
            "......input_layer\n",
            ".........vars\n",
            "...metrics\n",
            "......mean\n",
            ".........vars\n",
            "............0\n",
            "............1\n",
            "......mean_metric_wrapper\n",
            ".........vars\n",
            "............0\n",
            "............1\n",
            "...optimizer\n",
            "......vars\n",
            ".........0\n",
            ".........1\n",
            ".........2\n",
            ".........3\n",
            ".........4\n",
            "...vars\n"
          ]
        },
        {
          "output_type": "display_data",
          "data": {
            "text/plain": [
              "<Figure size 1728x576 with 2 Axes>"
            ],
            "image/png": "[encoded data removed]"
          },
          "metadata": {}
        },
        {
          "output_type": "stream",
          "name": "stdout",
          "text": [
            "Validation Binary Accuracy is: 0.81\n",
            "18/18 [==============================] - 0s 12ms/step - loss: 2.9644 - binary_accuracy: 0.7778\n",
            "Testing Binary Accuracy is: 0.78\n"
          ]
        }
      ]
    },
    {
      "cell_type": "markdown",
      "source": [],
      "metadata": {
        "id": "Efitgp0qbhTQ"
      }
    },
    {
      "cell_type": "code",
      "source": [
        "'''\n",
        "Model_1: Simple LSTM Model\n",
        "Timeseries data is a sequence, where causality and sequence matter.\n",
        "'''\n",
        "from keras.callbacks import EarlyStopping, ModelCheckpoint\n",
        "from keras.layers import Dense, LSTM\n",
        "from tensorflow.keras.optimizers import Adam\n",
        "\n",
        "inputs = keras.Input(shape=(sequence_length, train_data_gen[0][0].shape[2]))\n",
        "x = LSTM(batch_size, activation='relu', input_shape=(sequence_length, 1))(inputs)\n",
        "outputs = Dense(1, activation='sigmoid')(x)          \n",
        "model_1 = keras.Model(inputs, outputs, name='model_1')\n",
        "\n",
        "model_1.compile(loss='binary_crossentropy', \n",
        "              optimizer=Adam(learning_rate=0.0001), \n",
        "              metrics=['binary_accuracy'])\n",
        "\n",
        "# View model summary\n",
        "model_1.summary()"
      ],
      "metadata": {
        "colab": {
          "base_uri": "https://localhost:8080/"
        },
        "id": "S9FE5IG5Uj47",
        "outputId": "aff9d780-217e-464b-9943-59d4f15685f1"
      },
      "execution_count": null,
      "outputs": [
        {
          "output_type": "stream",
          "name": "stderr",
          "text": [
            "WARNING:tensorflow:Layer lstm_13 will not use cuDNN kernels since it doesn't meet the criteria. It will use a generic GPU kernel as fallback when running on GPU.\n"
          ]
        },
        {
          "output_type": "stream",
          "name": "stdout",
          "text": [
            "Model: \"model_1\"\n",
            "_________________________________________________________________\n",
            " Layer (type)                Output Shape              Param #   \n",
            "=================================================================\n",
            " input_15 (InputLayer)       [(None, 1200, 1)]         0         \n",
            "                                                                 \n",
            " lstm_13 (LSTM)              (None, 64)                16896     \n",
            "                                                                 \n",
            " dense_14 (Dense)            (None, 1)                 65        \n",
            "                                                                 \n",
            "=================================================================\n",
            "Total params: 16,961\n",
            "Trainable params: 16,961\n",
            "Non-trainable params: 0\n",
            "_________________________________________________________________\n"
          ]
        }
      ]
    },
    {
      "cell_type": "code",
      "source": [
        "# Parameters for fitting and saving model training data\n",
        "epochs = 200\n",
        "model_1_filepath = 'models/model_1_lstm.keras'\n",
        "history_1_filepath = 'models/trainHistoryDict/model_1_lstm_history.pkl'"
      ],
      "metadata": {
        "id": "34yu6iffAE19"
      },
      "execution_count": null,
      "outputs": []
    },
    {
      "cell_type": "code",
      "source": [
        "# Fit the model to the training data\n",
        "history_1 = model_1.fit(train_data_gen, validation_data=val_data_gen,\n",
        "                        shuffle=False, epochs=epochs, \n",
        "                        callbacks=callbacks(model_1_filepath,\n",
        "                                            patience=5))\n",
        "\n",
        "# Pickle the Traning Fit History\n",
        "with open(history_1_filepath, 'wb') as file_pi:\n",
        "    pickle.dump(history_1, file_pi)"
      ],
      "metadata": {
        "colab": {
          "base_uri": "https://localhost:8080/",
          "height": 540
        },
        "id": "LTE2TEcq__S7",
        "outputId": "db811a4d-f11c-4526-ff58-b92819235caa"
      },
      "execution_count": null,
      "outputs": [
        {
          "output_type": "stream",
          "name": "stdout",
          "text": [
            "Epoch 1/200\n",
            "126/126 [==============================] - 168s 1s/step - loss: 0.6523 - binary_accuracy: 0.7884 - val_loss: 0.5960 - val_binary_accuracy: 0.8195\n",
            "Epoch 2/200\n",
            "126/126 [==============================] - 166s 1s/step - loss: nan - binary_accuracy: 0.7933 - val_loss: nan - val_binary_accuracy: 0.8195\n",
            "Epoch 3/200\n",
            "126/126 [==============================] - 165s 1s/step - loss: nan - binary_accuracy: 0.7933 - val_loss: nan - val_binary_accuracy: 0.8195\n",
            "Epoch 4/200\n",
            "  3/126 [..............................] - ETA: 2:32 - loss: nan - binary_accuracy: 0.7865"
          ]
        },
        {
          "output_type": "error",
          "ename": "KeyboardInterrupt",
          "evalue": "ignored",
          "traceback": [
            "\u001b[0;31m---------------------------------------------------------------------------\u001b[0m",
            "\u001b[0;31mKeyboardInterrupt\u001b[0m                         Traceback (most recent call last)",
            "\u001b[0;32m<ipython-input-45-d91026210b43>\u001b[0m in \u001b[0;36m<module>\u001b[0;34m\u001b[0m\n\u001b[1;32m      1\u001b[0m \u001b[0;31m# Fit the model to the training data\u001b[0m\u001b[0;34m\u001b[0m\u001b[0;34m\u001b[0m\u001b[0m\n\u001b[0;32m----> 2\u001b[0;31m history_1 = model_1.fit(train_data_gen, validation_data=val_data_gen,\n\u001b[0m\u001b[1;32m      3\u001b[0m                         \u001b[0mshuffle\u001b[0m\u001b[0;34m=\u001b[0m\u001b[0;32mFalse\u001b[0m\u001b[0;34m,\u001b[0m \u001b[0mepochs\u001b[0m\u001b[0;34m=\u001b[0m\u001b[0mepochs\u001b[0m\u001b[0;34m,\u001b[0m\u001b[0;34m\u001b[0m\u001b[0;34m\u001b[0m\u001b[0m\n\u001b[1;32m      4\u001b[0m                         callbacks=callbacks(model_1_filepath,\n\u001b[1;32m      5\u001b[0m                                             patience=5))\n",
            "\u001b[0;32m/usr/local/lib/python3.9/dist-packages/keras/utils/traceback_utils.py\u001b[0m in \u001b[0;36merror_handler\u001b[0;34m(*args, **kwargs)\u001b[0m\n\u001b[1;32m     63\u001b[0m         \u001b[0mfiltered_tb\u001b[0m \u001b[0;34m=\u001b[0m \u001b[0;32mNone\u001b[0m\u001b[0;34m\u001b[0m\u001b[0;34m\u001b[0m\u001b[0m\n\u001b[1;32m     64\u001b[0m         \u001b[0;32mtry\u001b[0m\u001b[0;34m:\u001b[0m\u001b[0;34m\u001b[0m\u001b[0;34m\u001b[0m\u001b[0m\n\u001b[0;32m---> 65\u001b[0;31m             \u001b[0;32mreturn\u001b[0m \u001b[0mfn\u001b[0m\u001b[0;34m(\u001b[0m\u001b[0;34m*\u001b[0m\u001b[0margs\u001b[0m\u001b[0;34m,\u001b[0m \u001b[0;34m**\u001b[0m\u001b[0mkwargs\u001b[0m\u001b[0;34m)\u001b[0m\u001b[0;34m\u001b[0m\u001b[0;34m\u001b[0m\u001b[0m\n\u001b[0m\u001b[1;32m     66\u001b[0m         \u001b[0;32mexcept\u001b[0m \u001b[0mException\u001b[0m \u001b[0;32mas\u001b[0m \u001b[0me\u001b[0m\u001b[0;34m:\u001b[0m\u001b[0;34m\u001b[0m\u001b[0;34m\u001b[0m\u001b[0m\n\u001b[1;32m     67\u001b[0m             \u001b[0mfiltered_tb\u001b[0m \u001b[0;34m=\u001b[0m \u001b[0m_process_traceback_frames\u001b[0m\u001b[0;34m(\u001b[0m\u001b[0me\u001b[0m\u001b[0;34m.\u001b[0m\u001b[0m__traceback__\u001b[0m\u001b[0;34m)\u001b[0m\u001b[0;34m\u001b[0m\u001b[0;34m\u001b[0m\u001b[0m\n",
            "\u001b[0;32m/usr/local/lib/python3.9/dist-packages/keras/engine/training.py\u001b[0m in \u001b[0;36mfit\u001b[0;34m(self, x, y, batch_size, epochs, verbose, callbacks, validation_split, validation_data, shuffle, class_weight, sample_weight, initial_epoch, steps_per_epoch, validation_steps, validation_batch_size, validation_freq, max_queue_size, workers, use_multiprocessing)\u001b[0m\n\u001b[1;32m   1648\u001b[0m                         ):\n\u001b[1;32m   1649\u001b[0m                             \u001b[0mcallbacks\u001b[0m\u001b[0;34m.\u001b[0m\u001b[0mon_train_batch_begin\u001b[0m\u001b[0;34m(\u001b[0m\u001b[0mstep\u001b[0m\u001b[0;34m)\u001b[0m\u001b[0;34m\u001b[0m\u001b[0;34m\u001b[0m\u001b[0m\n\u001b[0;32m-> 1650\u001b[0;31m                             \u001b[0mtmp_logs\u001b[0m \u001b[0;34m=\u001b[0m \u001b[0mself\u001b[0m\u001b[0;34m.\u001b[0m\u001b[0mtrain_function\u001b[0m\u001b[0;34m(\u001b[0m\u001b[0miterator\u001b[0m\u001b[0;34m)\u001b[0m\u001b[0;34m\u001b[0m\u001b[0;34m\u001b[0m\u001b[0m\n\u001b[0m\u001b[1;32m   1651\u001b[0m                             \u001b[0;32mif\u001b[0m \u001b[0mdata_handler\u001b[0m\u001b[0;34m.\u001b[0m\u001b[0mshould_sync\u001b[0m\u001b[0;34m:\u001b[0m\u001b[0;34m\u001b[0m\u001b[0;34m\u001b[0m\u001b[0m\n\u001b[1;32m   1652\u001b[0m                                 \u001b[0mcontext\u001b[0m\u001b[0;34m.\u001b[0m\u001b[0masync_wait\u001b[0m\u001b[0;34m(\u001b[0m\u001b[0;34m)\u001b[0m\u001b[0;34m\u001b[0m\u001b[0;34m\u001b[0m\u001b[0m\n",
            "\u001b[0;32m/usr/local/lib/python3.9/dist-packages/tensorflow/python/util/traceback_utils.py\u001b[0m in \u001b[0;36merror_handler\u001b[0;34m(*args, **kwargs)\u001b[0m\n\u001b[1;32m    148\u001b[0m     \u001b[0mfiltered_tb\u001b[0m \u001b[0;34m=\u001b[0m \u001b[0;32mNone\u001b[0m\u001b[0;34m\u001b[0m\u001b[0;34m\u001b[0m\u001b[0m\n\u001b[1;32m    149\u001b[0m     \u001b[0;32mtry\u001b[0m\u001b[0;34m:\u001b[0m\u001b[0;34m\u001b[0m\u001b[0;34m\u001b[0m\u001b[0m\n\u001b[0;32m--> 150\u001b[0;31m       \u001b[0;32mreturn\u001b[0m \u001b[0mfn\u001b[0m\u001b[0;34m(\u001b[0m\u001b[0;34m*\u001b[0m\u001b[0margs\u001b[0m\u001b[0;34m,\u001b[0m \u001b[0;34m**\u001b[0m\u001b[0mkwargs\u001b[0m\u001b[0;34m)\u001b[0m\u001b[0;34m\u001b[0m\u001b[0;34m\u001b[0m\u001b[0m\n\u001b[0m\u001b[1;32m    151\u001b[0m     \u001b[0;32mexcept\u001b[0m \u001b[0mException\u001b[0m \u001b[0;32mas\u001b[0m \u001b[0me\u001b[0m\u001b[0;34m:\u001b[0m\u001b[0;34m\u001b[0m\u001b[0;34m\u001b[0m\u001b[0m\n\u001b[1;32m    152\u001b[0m       \u001b[0mfiltered_tb\u001b[0m \u001b[0;34m=\u001b[0m \u001b[0m_process_traceback_frames\u001b[0m\u001b[0;34m(\u001b[0m\u001b[0me\u001b[0m\u001b[0;34m.\u001b[0m\u001b[0m__traceback__\u001b[0m\u001b[0;34m)\u001b[0m\u001b[0;34m\u001b[0m\u001b[0;34m\u001b[0m\u001b[0m\n",
            "\u001b[0;32m/usr/local/lib/python3.9/dist-packages/tensorflow/python/eager/polymorphic_function/polymorphic_function.py\u001b[0m in \u001b[0;36m__call__\u001b[0;34m(self, *args, **kwds)\u001b[0m\n\u001b[1;32m    878\u001b[0m \u001b[0;34m\u001b[0m\u001b[0m\n\u001b[1;32m    879\u001b[0m       \u001b[0;32mwith\u001b[0m \u001b[0mOptionalXlaContext\u001b[0m\u001b[0;34m(\u001b[0m\u001b[0mself\u001b[0m\u001b[0;34m.\u001b[0m\u001b[0m_jit_compile\u001b[0m\u001b[0;34m)\u001b[0m\u001b[0;34m:\u001b[0m\u001b[0;34m\u001b[0m\u001b[0;34m\u001b[0m\u001b[0m\n\u001b[0;32m--> 880\u001b[0;31m         \u001b[0mresult\u001b[0m \u001b[0;34m=\u001b[0m \u001b[0mself\u001b[0m\u001b[0;34m.\u001b[0m\u001b[0m_call\u001b[0m\u001b[0;34m(\u001b[0m\u001b[0;34m*\u001b[0m\u001b[0margs\u001b[0m\u001b[0;34m,\u001b[0m \u001b[0;34m**\u001b[0m\u001b[0mkwds\u001b[0m\u001b[0;34m)\u001b[0m\u001b[0;34m\u001b[0m\u001b[0;34m\u001b[0m\u001b[0m\n\u001b[0m\u001b[1;32m    881\u001b[0m \u001b[0;34m\u001b[0m\u001b[0m\n\u001b[1;32m    882\u001b[0m       \u001b[0mnew_tracing_count\u001b[0m \u001b[0;34m=\u001b[0m \u001b[0mself\u001b[0m\u001b[0;34m.\u001b[0m\u001b[0mexperimental_get_tracing_count\u001b[0m\u001b[0;34m(\u001b[0m\u001b[0;34m)\u001b[0m\u001b[0;34m\u001b[0m\u001b[0;34m\u001b[0m\u001b[0m\n",
            "\u001b[0;32m/usr/local/lib/python3.9/dist-packages/tensorflow/python/eager/polymorphic_function/polymorphic_function.py\u001b[0m in \u001b[0;36m_call\u001b[0;34m(self, *args, **kwds)\u001b[0m\n\u001b[1;32m    910\u001b[0m       \u001b[0;31m# In this case we have created variables on the first call, so we run the\u001b[0m\u001b[0;34m\u001b[0m\u001b[0;34m\u001b[0m\u001b[0m\n\u001b[1;32m    911\u001b[0m       \u001b[0;31m# defunned version which is guaranteed to never create variables.\u001b[0m\u001b[0;34m\u001b[0m\u001b[0;34m\u001b[0m\u001b[0m\n\u001b[0;32m--> 912\u001b[0;31m       \u001b[0;32mreturn\u001b[0m \u001b[0mself\u001b[0m\u001b[0;34m.\u001b[0m\u001b[0m_no_variable_creation_fn\u001b[0m\u001b[0;34m(\u001b[0m\u001b[0;34m*\u001b[0m\u001b[0margs\u001b[0m\u001b[0;34m,\u001b[0m \u001b[0;34m**\u001b[0m\u001b[0mkwds\u001b[0m\u001b[0;34m)\u001b[0m  \u001b[0;31m# pylint: disable=not-callable\u001b[0m\u001b[0;34m\u001b[0m\u001b[0;34m\u001b[0m\u001b[0m\n\u001b[0m\u001b[1;32m    913\u001b[0m     \u001b[0;32melif\u001b[0m \u001b[0mself\u001b[0m\u001b[0;34m.\u001b[0m\u001b[0m_variable_creation_fn\u001b[0m \u001b[0;32mis\u001b[0m \u001b[0;32mnot\u001b[0m \u001b[0;32mNone\u001b[0m\u001b[0;34m:\u001b[0m\u001b[0;34m\u001b[0m\u001b[0;34m\u001b[0m\u001b[0m\n\u001b[1;32m    914\u001b[0m       \u001b[0;31m# Release the lock early so that multiple threads can perform the call\u001b[0m\u001b[0;34m\u001b[0m\u001b[0;34m\u001b[0m\u001b[0m\n",
            "\u001b[0;32m/usr/local/lib/python3.9/dist-packages/tensorflow/python/eager/polymorphic_function/tracing_compiler.py\u001b[0m in \u001b[0;36m__call__\u001b[0;34m(self, *args, **kwargs)\u001b[0m\n\u001b[1;32m    132\u001b[0m       (concrete_function,\n\u001b[1;32m    133\u001b[0m        filtered_flat_args) = self._maybe_define_function(args, kwargs)\n\u001b[0;32m--> 134\u001b[0;31m     return concrete_function._call_flat(\n\u001b[0m\u001b[1;32m    135\u001b[0m         filtered_flat_args, captured_inputs=concrete_function.captured_inputs)  # pylint: disable=protected-access\n\u001b[1;32m    136\u001b[0m \u001b[0;34m\u001b[0m\u001b[0m\n",
            "\u001b[0;32m/usr/local/lib/python3.9/dist-packages/tensorflow/python/eager/polymorphic_function/monomorphic_function.py\u001b[0m in \u001b[0;36m_call_flat\u001b[0;34m(self, args, captured_inputs, cancellation_manager)\u001b[0m\n\u001b[1;32m   1743\u001b[0m         and executing_eagerly):\n\u001b[1;32m   1744\u001b[0m       \u001b[0;31m# No tape is watching; skip to running the function.\u001b[0m\u001b[0;34m\u001b[0m\u001b[0;34m\u001b[0m\u001b[0m\n\u001b[0;32m-> 1745\u001b[0;31m       return self._build_call_outputs(self._inference_function.call(\n\u001b[0m\u001b[1;32m   1746\u001b[0m           ctx, args, cancellation_manager=cancellation_manager))\n\u001b[1;32m   1747\u001b[0m     forward_backward = self._select_forward_and_backward_functions(\n",
            "\u001b[0;32m/usr/local/lib/python3.9/dist-packages/tensorflow/python/eager/polymorphic_function/monomorphic_function.py\u001b[0m in \u001b[0;36mcall\u001b[0;34m(self, ctx, args, cancellation_manager)\u001b[0m\n\u001b[1;32m    376\u001b[0m       \u001b[0;32mwith\u001b[0m \u001b[0m_InterpolateFunctionError\u001b[0m\u001b[0;34m(\u001b[0m\u001b[0mself\u001b[0m\u001b[0;34m)\u001b[0m\u001b[0;34m:\u001b[0m\u001b[0;34m\u001b[0m\u001b[0;34m\u001b[0m\u001b[0m\n\u001b[1;32m    377\u001b[0m         \u001b[0;32mif\u001b[0m \u001b[0mcancellation_manager\u001b[0m \u001b[0;32mis\u001b[0m \u001b[0;32mNone\u001b[0m\u001b[0;34m:\u001b[0m\u001b[0;34m\u001b[0m\u001b[0;34m\u001b[0m\u001b[0m\n\u001b[0;32m--> 378\u001b[0;31m           outputs = execute.execute(\n\u001b[0m\u001b[1;32m    379\u001b[0m               \u001b[0mstr\u001b[0m\u001b[0;34m(\u001b[0m\u001b[0mself\u001b[0m\u001b[0;34m.\u001b[0m\u001b[0msignature\u001b[0m\u001b[0;34m.\u001b[0m\u001b[0mname\u001b[0m\u001b[0;34m)\u001b[0m\u001b[0;34m,\u001b[0m\u001b[0;34m\u001b[0m\u001b[0;34m\u001b[0m\u001b[0m\n\u001b[1;32m    380\u001b[0m               \u001b[0mnum_outputs\u001b[0m\u001b[0;34m=\u001b[0m\u001b[0mself\u001b[0m\u001b[0;34m.\u001b[0m\u001b[0m_num_outputs\u001b[0m\u001b[0;34m,\u001b[0m\u001b[0;34m\u001b[0m\u001b[0;34m\u001b[0m\u001b[0m\n",
            "\u001b[0;32m/usr/local/lib/python3.9/dist-packages/tensorflow/python/eager/execute.py\u001b[0m in \u001b[0;36mquick_execute\u001b[0;34m(op_name, num_outputs, inputs, attrs, ctx, name)\u001b[0m\n\u001b[1;32m     50\u001b[0m   \u001b[0;32mtry\u001b[0m\u001b[0;34m:\u001b[0m\u001b[0;34m\u001b[0m\u001b[0;34m\u001b[0m\u001b[0m\n\u001b[1;32m     51\u001b[0m     \u001b[0mctx\u001b[0m\u001b[0;34m.\u001b[0m\u001b[0mensure_initialized\u001b[0m\u001b[0;34m(\u001b[0m\u001b[0;34m)\u001b[0m\u001b[0;34m\u001b[0m\u001b[0;34m\u001b[0m\u001b[0m\n\u001b[0;32m---> 52\u001b[0;31m     tensors = pywrap_tfe.TFE_Py_Execute(ctx._handle, device_name, op_name,\n\u001b[0m\u001b[1;32m     53\u001b[0m                                         inputs, attrs, num_outputs)\n\u001b[1;32m     54\u001b[0m   \u001b[0;32mexcept\u001b[0m \u001b[0mcore\u001b[0m\u001b[0;34m.\u001b[0m\u001b[0m_NotOkStatusException\u001b[0m \u001b[0;32mas\u001b[0m \u001b[0me\u001b[0m\u001b[0;34m:\u001b[0m\u001b[0;34m\u001b[0m\u001b[0;34m\u001b[0m\u001b[0m\n",
            "\u001b[0;31mKeyboardInterrupt\u001b[0m: "
          ]
        }
      ]
    },
    {
      "cell_type": "code",
      "source": [
        "# Load and Evaluate Model\n",
        "model_1, history_1 = evaluate_model(model_1_filepath, \n",
        "                         history_1_filepath,\n",
        "                         val_data_gen, \n",
        "                         test_data_gen,\n",
        "                         'models/evaluate/model_0_evaluation.pdf')"
      ],
      "metadata": {
        "colab": {
          "base_uri": "https://localhost:8080/",
          "height": 1000
        },
        "id": "t2r4vuHoQHyj",
        "outputId": "03576ff5-1bf8-4e13-e98d-a6b7589d4c01"
      },
      "execution_count": null,
      "outputs": [
        {
          "output_type": "stream",
          "name": "stderr",
          "text": [
            "WARNING:tensorflow:Layer lstm will not use cuDNN kernels since it doesn't meet the criteria. It will use a generic GPU kernel as fallback when running on GPU.\n"
          ]
        },
        {
          "output_type": "stream",
          "name": "stdout",
          "text": [
            "27/27 [==============================] - 4s 147ms/step - loss: 0.6299 - binary_accuracy: 0.8195\n",
            "Keras model archive loading:\n",
            "File Name                                             Modified             Size\n",
            "metadata.json                                  2023-03-25 21:53:00           64\n",
            "config.json                                    2023-03-25 21:53:00         2583\n",
            "variables.h5                                   2023-03-25 21:53:00       159224\n"
          ]
        },
        {
          "output_type": "stream",
          "name": "stderr",
          "text": [
            "WARNING:tensorflow:Layer lstm will not use cuDNN kernels since it doesn't meet the criteria. It will use a generic GPU kernel as fallback when running on GPU.\n"
          ]
        },
        {
          "output_type": "stream",
          "name": "stdout",
          "text": [
            "Keras weights file (<HDF5 file \"variables.h5\" (mode r)>) loading:\n",
            "...layers\n",
            "......dense\n",
            ".........vars\n",
            "............0\n",
            "............1\n",
            "......input_layer\n",
            ".........vars\n",
            "......lstm\n",
            ".........cell\n",
            "............vars\n",
            "...............0\n",
            "...............1\n",
            "...............2\n",
            ".........vars\n",
            "...metrics\n",
            "......mean\n",
            ".........vars\n",
            "............0\n",
            "............1\n",
            "......mean_metric_wrapper\n",
            ".........vars\n",
            "............0\n",
            "............1\n",
            "...optimizer\n",
            "......vars\n",
            ".........0\n",
            ".........1\n",
            ".........2\n",
            ".........3\n",
            ".........4\n",
            ".........5\n",
            "...vars\n"
          ]
        },
        {
          "output_type": "display_data",
          "data": {
            "text/plain": [
              "<Figure size 1728x576 with 2 Axes>"
            ],
            "image/png": "[encoded data removed]"
          },
          "metadata": {}
        },
        {
          "output_type": "stream",
          "name": "stdout",
          "text": [
            "Validation Binary Accuracy is: 0.82\n",
            "18/18 [==============================] - 3s 144ms/step - loss: 0.6297 - binary_accuracy: 0.8082\n",
            "Testing Binary Accuracy is: 0.81\n"
          ]
        }
      ]
    },
    {
      "cell_type": "markdown",
      "source": [
        "Binary_accuracy and validation loss is stalling out around epoch 6-8. "
      ],
      "metadata": {
        "id": "TkZNwirfjE_S"
      }
    },
    {
      "cell_type": "code",
      "source": [
        "'''\n",
        "Model 2: Complex LSTM with Dropout\n",
        "'''\n",
        "from keras.layers import LSTM, Dense, Dropout, Reshape, RepeatVector, TimeDistributed\n",
        "from tensorflow.keras.optimizers import RMSprop, Adam\n",
        "\n",
        "# Build the model\n",
        "inputs = keras.Input(shape=(sequence_length, train_data_gen[0][0].shape[2]))\n",
        "\n",
        "# LSTM layer\n",
        "x = LSTM(batch_size, \n",
        "         activation='relu', \n",
        "         input_shape=(sequence_length, 1),\n",
        "         return_sequences = True,\n",
        "         unroll=True,\n",
        "         recurrent_dropout=0.5)(inputs) # Dropout\n",
        "#x = Dense(units=batch_size//2, activation='relu')(x)\n",
        "\n",
        "# Reshape the output of the last dense layer to match the desired shape\n",
        "#x = Reshape((batch_size, 1))(x)\n",
        "\n",
        "# Repeat the output across the sequence_length dimension\n",
        "#x = RepeatVector((sequence_length))(x)\n",
        "\n",
        "# Second LSTM Layer\n",
        "x = LSTM(batch_size//2, \n",
        "         activation='relu', \n",
        "         return_sequences = True,\n",
        "         unroll=True,\n",
        "         recurrent_dropout=0.5)(x) # Dropout\n",
        "#UseTimeDistributed to apply the same Dense layer independently to each \n",
        "# Dense layer\n",
        "x = TimeDistributed(Dense(1, activation='sigmoid'))(x)\n",
        "outputs = Flatten()(x)\n",
        "\n",
        "model_2 = keras.Model(inputs, outputs, name='model_2')\n",
        "\n",
        "# Compile\n",
        "model_2.compile(loss='binary_crossentropy', \n",
        "              optimizer=RMSprop(learning_rate=0.0001), \n",
        "              metrics=['binary_accuracy'])\n",
        "\n",
        "model_2.summary()"
      ],
      "metadata": {
        "colab": {
          "base_uri": "https://localhost:8080/"
        },
        "id": "9D6BD7Zoheo2",
        "outputId": "2f2dab7f-691b-423d-adce-ee9e93a63758"
      },
      "execution_count": null,
      "outputs": [
        {
          "output_type": "stream",
          "name": "stderr",
          "text": [
            "WARNING:tensorflow:Layer lstm_3 will not use cuDNN kernels since it doesn't meet the criteria. It will use a generic GPU kernel as fallback when running on GPU.\n",
            "WARNING:tensorflow:Layer lstm_4 will not use cuDNN kernels since it doesn't meet the criteria. It will use a generic GPU kernel as fallback when running on GPU.\n"
          ]
        },
        {
          "output_type": "stream",
          "name": "stdout",
          "text": [
            "Model: \"model_2\"\n",
            "_________________________________________________________________\n",
            " Layer (type)                Output Shape              Param #   \n",
            "=================================================================\n",
            " input_7 (InputLayer)        [(None, 1200, 1)]         0         \n",
            "                                                                 \n",
            " lstm_3 (LSTM)               (None, 1200, 64)          16896     \n",
            "                                                                 \n",
            " lstm_4 (LSTM)               (None, 1200, 32)          12416     \n",
            "                                                                 \n",
            " time_distributed_1 (TimeDis  (None, 1200, 1)          33        \n",
            " tributed)                                                       \n",
            "                                                                 \n",
            " flatten_4 (Flatten)         (None, 1200)              0         \n",
            "                                                                 \n",
            "=================================================================\n",
            "Total params: 29,345\n",
            "Trainable params: 29,345\n",
            "Non-trainable params: 0\n",
            "_________________________________________________________________\n"
          ]
        }
      ]
    },
    {
      "cell_type": "code",
      "source": [
        "# Parameters for fitting and saving model training data\n",
        "epochs = 200\n",
        "model_2_filepath = 'models/model_2_multiLSTM.keras'\n",
        "history_2_filepath = 'models/trainHistoryDict/model_2_dense_history.pkl'"
      ],
      "metadata": {
        "id": "y_2qrwJMDyUc"
      },
      "execution_count": null,
      "outputs": []
    },
    {
      "cell_type": "code",
      "source": [
        "# Fit the model to the training data\n",
        "history_2 = model_2.fit(train_data_gen, validation_data=val_data_gen,\n",
        "                        shuffle=False, epochs=epochs, \n",
        "                        callbacks=callbacks(model_2_filepath,\n",
        "                                            patience=3))\n",
        "\n",
        "# Pickle the Traning Fit History\n",
        "with open(history_2_filepath, 'wb') as file_pi:\n",
        "    pickle.dump(history_2, file_pi)"
      ],
      "metadata": {
        "colab": {
          "base_uri": "https://localhost:8080/"
        },
        "id": "oWoWk_MjDtMR",
        "outputId": "caa79de0-0d17-48fa-b82b-84c68a7fa296"
      },
      "execution_count": null,
      "outputs": [
        {
          "output_type": "stream",
          "name": "stdout",
          "text": [
            "Epoch 1/200\n"
          ]
        }
      ]
    },
    {
      "cell_type": "code",
      "source": [
        "# Load and Evaluate Model\n",
        "model_2, history_2 = evaluate_model(model_2_filepath, \n",
        "                         history_2_filepath,\n",
        "                         val_data_gen, \n",
        "                         test_data_gen,\n",
        "                         'models/evaluate/model_2_evaluation.pdf')"
      ],
      "metadata": {
        "id": "wqZrvGuOET-1"
      },
      "execution_count": null,
      "outputs": []
    },
    {
      "cell_type": "code",
      "source": [
        "''''\n",
        "Model 3: Bidirectional LSTM\n",
        "'''\n",
        "\n",
        "# Define the LSTM model\n",
        "inputs = keras.Input(shape=(sequence_length, train_data_gen[0][0].shape[2]))\n",
        "# Next model add a Dense layer here\n",
        "x = Dense(units=batch_size, activation='relu')(inputs)\n",
        "x = layers.Bidirectional(LSTM(batch_size, \n",
        "                          activation='relu', \n",
        "                          input_shape=(sequence_length, 1),\n",
        "                          unroll=True,\n",
        "                          recurrent_dropout=0.5))(x)\n",
        "x = Dense(units=batch_size//2, activation='relu')(x)\n",
        "outputs = Dense(units=1, activation='sigmoid')(x)\n",
        "model_3 = keras.Model(inputs, outputs)\n",
        "\n",
        "# Compile\n",
        "model_3.compile(loss='binary_crossentropy', \n",
        "              optimizer=Adam(learning_rate=0.00001), \n",
        "              metrics=['binary_accuracy'])\n",
        "model_3.summary()"
      ],
      "metadata": {
        "id": "WaMLOKHyr8GR"
      },
      "execution_count": null,
      "outputs": []
    },
    {
      "cell_type": "code",
      "source": [
        "# Parameters for fitting and saving model training data\n",
        "epochs = 200\n",
        "model_3_filepath = 'models/model_3_bidirLSTM.keras'\n",
        "history_3_filepath = 'models/trainHistoryDict/model_3_bidirLSTM_history.pkl'"
      ],
      "metadata": {
        "id": "hQcBf0pZul4L"
      },
      "execution_count": null,
      "outputs": []
    },
    {
      "cell_type": "code",
      "source": [
        "# Fit the model to the training data\n",
        "history_3 = model_3.fit(train_data_gen, validation_data=val_data_gen,\n",
        "                        shuffle=False, epochs=epochs, \n",
        "                        callbacks=callbacks(model_3_filepath,\n",
        "                                            patience=5))\n",
        "\n",
        "# Pickle the Traning Fit History\n",
        "with open(history_3_filepath, 'wb') as file_pi:\n",
        "    pickle.dump(history_3, file_pi)"
      ],
      "metadata": {
        "id": "7T24McaT2y_E"
      },
      "execution_count": null,
      "outputs": []
    },
    {
      "cell_type": "code",
      "source": [
        "\n",
        "# Load and Evaluate Model\n",
        "model_3, history_3 = evaluate_model(model_0_filepath, \n",
        "                         history_3_filepath,\n",
        "                         val_data_gen, \n",
        "                         test_data_gen,\n",
        "                         'models/evaluate/model_3_evaluation.pdf')"
      ],
      "metadata": {
        "id": "qGk4xXzoE2lu"
      },
      "execution_count": null,
      "outputs": []
    },
    {
      "cell_type": "code",
      "source": [
        "'''\n",
        "Model_4: Timeseries classification with a transformer model\n",
        "Attention is all you need.\n",
        "'''\n",
        "from tensorflow import keras\n",
        "from tensorflow.keras import layers\n",
        "from keras.models import Sequential\n",
        "from keras.layers import LSTM, Dense, Dropout\n",
        "from tensorflow.keras.optimizers import RMSprop, Adam\n",
        "from keras.callbacks import EarlyStopping, ModelCheckpoint\n",
        "\n",
        "# Transformer\n",
        "def transformer_encoder(inputs, head_size, num_heads, ff_dim, dropout=0):\n",
        "    # Normalization and Attention\n",
        "    x = layers.LayerNormalization(epsilon=1e-6)(inputs)\n",
        "    x = layers.MultiHeadAttention(\n",
        "        key_dim=head_size, num_heads=num_heads, dropout=dropout\n",
        "    )(x, x)\n",
        "    x = layers.Dropout(dropout)(x)\n",
        "    res = x + inputs\n",
        "\n",
        "    # Feed Forward Part\n",
        "    x = layers.LayerNormalization(epsilon=1e-6)(res)\n",
        "    x = layers.Conv1D(filters=ff_dim, kernel_size=1, activation=\"relu\")(x)\n",
        "    x = layers.Dropout(dropout)(x)\n",
        "    x = layers.Conv1D(filters=inputs.shape[-1], kernel_size=1)(x)\n",
        "    return x + res\n",
        "\n",
        "def build_transformer_model(\n",
        "    input_shape,\n",
        "    n_classes,\n",
        "    head_size,\n",
        "    num_heads,\n",
        "    ff_dim,\n",
        "    num_transformer_blocks,\n",
        "    mlp_units,\n",
        "    dropout=0,\n",
        "    mlp_dropout=0,\n",
        "):\n",
        "    inputs = keras.Input(shape=(sequence_length, train_data_gen[0][0].shape[2]))\n",
        "    #inputs = keras.Input(shape=input_shape)\n",
        "    x = inputs\n",
        "    for _ in range(num_transformer_blocks):\n",
        "        x = transformer_encoder(x, head_size, num_heads, ff_dim, dropout)\n",
        "\n",
        "    x = layers.GlobalAveragePooling1D(data_format=\"channels_first\")(x)\n",
        "    for dim in mlp_units:\n",
        "        x = layers.Dense(dim, activation=\"relu\")(x)\n",
        "        x = layers.Dropout(mlp_dropout)(x)\n",
        "    outputs = layers.Dense(n_classes, activation=\"sigmoid\")(x)\n",
        "    return keras.Model(inputs, outputs)\n",
        "\n",
        "# Build model\n",
        "model_4 = build_transformer_model(\n",
        "                sequence_length,\n",
        "                n_classes=1,\n",
        "                head_size=256,\n",
        "                num_heads=4, # Number of Transformer repeats\n",
        "                ff_dim=4,\n",
        "                num_transformer_blocks=4,\n",
        "                mlp_units=[128],\n",
        "                mlp_dropout=0.4,\n",
        "                dropout=0.25,\n",
        ")\n",
        "\n",
        "# Compile Model\n",
        "model_4.compile(\n",
        "    loss=\"binary_crossentropy\",\n",
        "    optimizer=Adam(learning_rate=1e-4),\n",
        "    metrics=[\"binary_accuracy\"],\n",
        ")\n",
        "model_4.summary()"
      ],
      "metadata": {
        "id": "t4llTR3FvAwS"
      },
      "execution_count": null,
      "outputs": []
    },
    {
      "cell_type": "code",
      "source": [
        "# Parameters for fitting and saving model training data\n",
        "epochs = 200\n",
        "model_4_filepath = 'models/model_4_transformer.keras'\n",
        "history_4_filepath = 'models/trainHistoryDict/model_4_transformer_history.pkl'"
      ],
      "metadata": {
        "id": "QG6NPQ_hFHXx"
      },
      "execution_count": null,
      "outputs": []
    },
    {
      "cell_type": "code",
      "source": [
        "# Fit the model to the training data\n",
        "history_4 = model_4.fit(train_data_gen, validation_data=val_data_gen,\n",
        "                        shuffle=False, epochs=epochs, \n",
        "                        callbacks=callbacks(model_4_filepath,\n",
        "                                            patience=5))\n",
        "\n",
        "# Pickle the Traning Fit History\n",
        "with open(history_4_filepath, 'wb') as file_pi:\n",
        "    pickle.dump(history_4, file_pi)"
      ],
      "metadata": {
        "id": "kP-O7jFoAcvy"
      },
      "execution_count": null,
      "outputs": []
    },
    {
      "cell_type": "code",
      "source": [
        "# Load and Evaluate Model\n",
        "model_4, history_4 = evaluate_model(model_4_filepath, \n",
        "                         history_4_filepath,\n",
        "                         val_data_gen, \n",
        "                         test_data_gen,\n",
        "                         'models/evaluate/model_4_evaluation.pdf')"
      ],
      "metadata": {
        "id": "WKXPZeb_0PDC"
      },
      "execution_count": null,
      "outputs": []
    }
  ]
}