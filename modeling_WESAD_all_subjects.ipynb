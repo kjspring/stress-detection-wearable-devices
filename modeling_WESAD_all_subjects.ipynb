{
  "cells": [
    {
      "cell_type": "markdown",
      "metadata": {
        "id": "view-in-github",
        "colab_type": "text"
      },
      "source": [
        "<a href=\"https://colab.research.google.com/github/kjspring/stress-detection-wearable-devices/blob/main/modeling_WESAD_all_subjects.ipynb\" target=\"_parent\"><img src=\"https://colab.research.google.com/assets/colab-badge.svg\" alt=\"Open In Colab\"/></a>"
      ]
    },
    {
      "cell_type": "code",
      "execution_count": null,
      "metadata": {
        "colab": {
          "base_uri": "https://localhost:8080/"
        },
        "id": "gtX5TSM8gfZB",
        "outputId": "e3e53194-a906-41d2-bd52-04f4439ae8b3"
      },
      "outputs": [
        {
          "name": "stdout",
          "output_type": "stream",
          "text": [
            "Mounted at /content/drive\n"
          ]
        }
      ],
      "source": [
        "\n",
        "\n",
        "# Load pickled data\n",
        "\n",
        "# Mount Google Drive\n",
        "from google.colab import drive\n",
        "drive.mount('/content/drive', force_remount=True)\n",
        "\n",
        "import os\n",
        "import pickle\n",
        "import pandas as pd\n",
        "import numpy as np\n",
        "\n",
        "#! cd /content/drive/MyDrive/stress-prediction/ # Main file directory for this notebook on Google Drive\n",
        "os.chdir('/content/drive/MyDrive/stress-prediction')\n",
        "# absolute path of data directory\n",
        "PATH = os.path.join(os.path.abspath(os.getcwd()), 'data') # Path of data folder on Google Drive\n",
        "\n",
        "import joblib\n",
        "data = joblib.load(f\"{PATH}/pickle/WESAD_model_data.pickle\") # read pickle file\n",
        "#labels = joblib.load(f\"{PATH}/pickle/WESAD_labels_model.pickle\") # read pickle file"
      ]
    },
    {
      "cell_type": "code",
      "execution_count": null,
      "metadata": {
        "id": "am32v-f0bRWJ"
      },
      "outputs": [],
      "source": [
        "def plot_evaluation(model, file_name):\n",
        "    '''\n",
        "    Plotting helper function.\n",
        "    Plots the Training and validation accuracy\n",
        "    as well as the training and validation loss\n",
        "    over the number of epochs specified\n",
        "    '''\n",
        "    # Import libraries\n",
        "    import matplotlib.pyplot as plt\n",
        "    \n",
        "    acc = model['binary_accuracy']\n",
        "    val_acc = model['val_binary_accuracy']\n",
        "\n",
        "    loss = model['loss']\n",
        "    val_loss = model['val_loss']\n",
        "\n",
        "    epochs_range = range(1, len(loss) + 1)\n",
        "    \n",
        "    fig, ax = plt.subplots(1, 2, figsize=(24 , 8))\n",
        "    ax[0].plot(epochs_range, acc, 'g-', label='Training Accuracy')\n",
        "    ax[0].plot(epochs_range, val_acc, 'r-', label='Validation Accuracy')\n",
        "    ax[0].legend(loc='lower right')\n",
        "    ax[0].title.set_text('Training and Validation Accuracy')\n",
        "\n",
        "    ax[1].plot(epochs_range, loss, 'g-', label='Training Loss')\n",
        "    ax[1].plot(epochs_range, val_loss, 'r-', label='Validation Loss')\n",
        "    ax[1].legend(loc='upper right')\n",
        "    ax[1].title.set_text('Training and Validation Loss')\n",
        "    fig.patch.set_facecolor('white')\n",
        "    plt.savefig(f'{file_name}')\n",
        "    plt.show()"
      ]
    },
    {
      "cell_type": "code",
      "execution_count": null,
      "metadata": {
        "id": "CmXUCNCKu30M"
      },
      "outputs": [],
      "source": [
        "def evaluate_model(model_filepath, history_filepath, val_data, test_data, save_plot_path):\n",
        "  '''\n",
        "  What does this function do?\n",
        "  val_data: validation data generator\n",
        "  test_data: testing data generator\n",
        "  '''\n",
        "  # Evaluate the model\n",
        "  from tensorflow.keras.models import load_model\n",
        "  import joblib\n",
        "\n",
        "  # Load the model\n",
        "  model = load_model(model_filepath)\n",
        "  model_eval_val = model.evaluate(val_data,\n",
        "                                  use_multiprocessing=True,\n",
        "                                  batch_size=batch_size)\n",
        "  \n",
        "  # Load the training fit history\n",
        "  fit_history = joblib.load(history_filepath) # read pickle file\n",
        "\n",
        "  # Make Plot of Training Fit\n",
        "  plot_evaluation(fit_history, save_plot_path)\n",
        "\n",
        "  # Print validation and testing metrics\n",
        "  print(f'Validation Binary Accuracy is: {model_eval_val[1]:.2f}')\n",
        "  model_eval_test = model.evaluate(test_data,\n",
        "                                  use_multiprocessing=True,\n",
        "                                  batch_size=batch_size)\n",
        "  print(f'Testing Binary Accuracy is: {model_eval_test[1]:.2f}')\n",
        "  return model, fit_history"
      ]
    },
    {
      "cell_type": "code",
      "execution_count": null,
      "metadata": {
        "id": "erALsADwRLX0"
      },
      "outputs": [],
      "source": [
        "'''\n",
        "engineer features that capture the patterns in your data that are relevant to \n",
        "predicting stress, you can compute statistics over different time intervals.\n",
        "function compute_features that computes the mean and standard deviation of EDA \n",
        "over different time intervals using the rolling function. We then apply this \n",
        "function to each dataframe in the list using a list comprehension.\n",
        "'''\n",
        "# Define a function to compute features\n",
        "def compute_features(df):\n",
        "    # Compute the mean and standard deviation of EDA over different time intervals\n",
        "    df['eda_phasic_mean_5min'] = df['EDA_Phasic'].rolling(window=5*60*700).mean()\n",
        "    df['eda_phasic_std_5min'] = df['EDA_Phasic'].rolling(window=5*60*700).std()\n",
        "    df['eda_phasic_mean_10min'] = df['EDA_Phasic'].rolling(window=10*60*700).mean()\n",
        "    df['eda_phasic_std_10min'] = df['EDA_Phasic'].rolling(window=10*60*700).std()\n",
        "    #df['eda_phasic_mean_30min'] = df['EDA_Phasic'].rolling(window=30*60*700).mean()\n",
        "    #df['eda_phasic_std_30min'] = df['EDA_Phasic'].rolling(window=30*60*700).std()\n",
        "\n",
        "    # Drop rows with missing values\n",
        "    df.dropna(inplace=True)\n",
        "\n",
        "    return df\n",
        "\n",
        "# Apply the function to each dataframe in the list\n",
        "data_frames_list = [compute_features(df) for df in data]\n"
      ]
    },
    {
      "cell_type": "code",
      "execution_count": null,
      "metadata": {
        "id": "I0yh5qim0fN5"
      },
      "outputs": [],
      "source": [
        "# Standardize using MinMaxScaler\n",
        "\n",
        "from sklearn.preprocessing import MinMaxScaler\n",
        "\n",
        "# Apply MinMaxScaler to each feature\n",
        "scaler = MinMaxScaler()\n",
        "for i, df in enumerate(data_frames_list):\n",
        "    data_frames_list[i][['eda_phasic_mean_5min', \n",
        "                         'eda_phasic_std_5min',\n",
        "                         'eda_phasic_mean_10min', \n",
        "                         'eda_phasic_std_10min']] = scaler.fit_transform(df[[\n",
        "                             'eda_phasic_mean_5min', \n",
        "                             'eda_phasic_std_5min',\n",
        "                             'eda_phasic_mean_10min', \n",
        "                             'eda_phasic_std_10min']])\n",
        "# 'eda_phasic_mean_30min', 'eda_phasic_std_30min'  'eda_phasic_mean_30min', 'eda_phasic_std_30min'\n",
        "                         \n",
        "                         "
      ]
    },
    {
      "cell_type": "code",
      "execution_count": null,
      "metadata": {
        "id": "9sXrrhr9T9ts"
      },
      "outputs": [],
      "source": [
        "# Train Test Split and downsampling\n",
        "import pandas as pd\n",
        "from sklearn.model_selection import train_test_split\n",
        "\n",
        "for i, df in enumerate(data_frames_list):\n",
        "    df['subject'] = i\n",
        "\n",
        "# Concatenate the dataframes together\n",
        "df = pd.concat(data_frames_list)\n",
        "\n",
        "# Downsample the dataframe\n",
        "target_hz = 4\n",
        "resample_factor = int(700 / target_hz)\n",
        "df = df.iloc[::resample_factor, :]\n",
        "\n",
        "# Split the data into training, testing, and validation sets by subject\n",
        "train_dfs = []\n",
        "test_dfs = []\n",
        "val_dfs = []\n",
        "\n",
        "for i, group in df.groupby('subject'):\n",
        "    train, test = train_test_split(group, test_size=0.2, random_state=42)\n",
        "    train, val = train_test_split(train, test_size=0.25, random_state=42)\n",
        "    \n",
        "    train_dfs.append(train)\n",
        "    test_dfs.append(test)\n",
        "    val_dfs.append(val)\n",
        "\n",
        "train_df = pd.concat(train_dfs)\n",
        "test_df = pd.concat(test_dfs)\n",
        "val_df = pd.concat(val_dfs)"
      ]
    },
    {
      "cell_type": "code",
      "execution_count": null,
      "metadata": {
        "colab": {
          "base_uri": "https://localhost:8080/",
          "height": 151
        },
        "id": "ap9Sx_ouwaQG",
        "outputId": "423a4973-adae-4213-b714-9436deb98608"
      },
      "outputs": [
        {
          "data": {
            "application/vnd.google.colaboratory.intrinsic+json": {
              "type": "string"
            },
            "text/plain": [
              "\"\\nval_labels_padded = pad_sequences([[label] for label in val_df['labels'].tolist()], \\n                                  maxlen=seq_length, \\n                                  dtype='int32', padding='post', \\n                                  truncating='post')\\n\\ntest_labels_padded = pad_sequences([[label] for label in test_df['labels'].tolist()], \\n                                   maxlen=seq_length, \\n                                   dtype='int32', padding='post', \\n                                   truncating='post')\\n\""
            ]
          },
          "execution_count": 7,
          "metadata": {},
          "output_type": "execute_result"
        }
      ],
      "source": [
        "from tensorflow.keras.preprocessing.sequence import TimeseriesGenerator\n",
        "from tensorflow.keras.preprocessing.sequence import pad_sequences\n",
        "\n",
        "# Define batch size and sequence length\n",
        "hz_eda = 4\n",
        "duration = 5\n",
        "batch_size = 64\n",
        "seq_length = hz_eda * 60* duration\n",
        "\n",
        "# Extract values from DataFrame\n",
        "train_data = train_df.values\n",
        "val_data = val_df.values\n",
        "test_data = test_df.values\n",
        "\n",
        "'''\n",
        "# Pad sequences to make them all the same length\n",
        "train_data_padded = pad_sequences(train_data, maxlen=seq_length, \n",
        "                                  dtype='float32', padding='post',\n",
        "                                  truncating='post')\n",
        "\n",
        "val_data_padded = pad_sequences(val_data, maxlen=seq_length, \n",
        "                                dtype='float32', padding='post',\n",
        "                                truncating='post')\n",
        "\n",
        "test_data_padded = pad_sequences(test_data, maxlen=seq_length, \n",
        "                                 dtype='float32', padding='post',\n",
        "                                 truncating='post')\n",
        "'''\n",
        "\n",
        "# Create training data generator\n",
        "train_gen = TimeseriesGenerator(train_data, train_df['labels'].values, \n",
        "                                length=seq_length, batch_size=batch_size)\n",
        "\n",
        "val_gen = TimeseriesGenerator(val_data, val_df['labels'].values, \n",
        "                              length=seq_length, batch_size=batch_size)\n",
        "\n",
        "test_gen = TimeseriesGenerator(test_data, test_df['labels'].values, \n",
        "                               length=seq_length, batch_size=batch_size)\n",
        "\n",
        "'''\n",
        "val_labels_padded = pad_sequences([[label] for label in val_df['labels'].tolist()], \n",
        "                                  maxlen=seq_length, \n",
        "                                  dtype='int32', padding='post', \n",
        "                                  truncating='post')\n",
        "\n",
        "test_labels_padded = pad_sequences([[label] for label in test_df['labels'].tolist()], \n",
        "                                   maxlen=seq_length, \n",
        "                                   dtype='int32', padding='post', \n",
        "                                   truncating='post')\n",
        "'''"
      ]
    },
    {
      "cell_type": "code",
      "execution_count": null,
      "metadata": {
        "colab": {
          "base_uri": "https://localhost:8080/"
        },
        "id": "7djDLi7e1qjN",
        "outputId": "2c5a0f1b-4939-4774-9be8-abbfce86ab64"
      },
      "outputs": [
        {
          "name": "stdout",
          "output_type": "stream",
          "text": [
            "(64, 1200, 7)\n"
          ]
        }
      ],
      "source": [
        "# get the first batch of data\n",
        "x_batch, y_batch = test_gen[0]\n",
        "\n",
        "# check the shape of the input batch\n",
        "print(x_batch.shape)"
      ]
    },
    {
      "cell_type": "code",
      "execution_count": null,
      "metadata": {
        "id": "wLJO3UWrtX16"
      },
      "outputs": [],
      "source": [
        "# Callbacks Function\n",
        "def callbacks(checkpoint_file, patience=3):\n",
        "\n",
        "  # import necessary libraries\n",
        "  from keras.callbacks import EarlyStopping, ModelCheckpoint, TensorBoard\n",
        "\n",
        "  # Callback and Early Stopping\n",
        "  callbacks = [EarlyStopping(monitor='val_loss', \n",
        "                             verbose=1, \n",
        "                             patience=patience,\n",
        "                             restore_best_weights=True,\n",
        "                             mode='min'\n",
        "                             ),\n",
        "              ModelCheckpoint(checkpoint_file, \n",
        "                              save_best_only=True,\n",
        "                              verbose=0\n",
        "                              ),\n",
        "              TensorBoard(log_dir='./logs', histogram_freq=1, \n",
        "                          embeddings_freq=1, \n",
        "                          update_freq='epoch')\n",
        "  ]\n",
        "  return callbacks"
      ]
    },
    {
      "cell_type": "code",
      "execution_count": null,
      "metadata": {
        "colab": {
          "base_uri": "https://localhost:8080/"
        },
        "id": "BqTmajNgSTY_",
        "outputId": "eacf35ad-6e19-4479-b5d8-20266c82e6ce"
      },
      "outputs": [
        {
          "name": "stdout",
          "output_type": "stream",
          "text": [
            "Model: \"model_0\"\n",
            "_________________________________________________________________\n",
            " Layer (type)                Output Shape              Param #   \n",
            "=================================================================\n",
            " input_3 (InputLayer)        [(None, 1200, 7)]         0         \n",
            "                                                                 \n",
            " flatten_2 (Flatten)         (None, 8400)              0         \n",
            "                                                                 \n",
            " dense_4 (Dense)             (None, 64)                537664    \n",
            "                                                                 \n",
            " dense_5 (Dense)             (None, 1)                 65        \n",
            "                                                                 \n",
            "=================================================================\n",
            "Total params: 537,729\n",
            "Trainable params: 537,729\n",
            "Non-trainable params: 0\n",
            "_________________________________________________________________\n"
          ]
        }
      ],
      "source": [
        "'''\n",
        "Model_0: Densely Connected Network\n",
        "This neural network starts by flattening the data dn then runs it through two \n",
        "Dense layers.\n",
        "\n",
        "This is a simple and cheap model to test the data generator and the metrics\n",
        "being used to evaluate.\n",
        "'''\n",
        "\n",
        "from tensorflow import keras\n",
        "from tensorflow.keras.optimizers import RMSprop\n",
        "from keras.layers import Dense, Flatten\n",
        "\n",
        "# Build Model 0\n",
        "inputs = keras.Input(shape=(seq_length, train_gen[0][0].shape[2]))\n",
        "x = Flatten()(inputs)\n",
        "x = Dense(64, activation='relu')(x)\n",
        "outputs = Dense(1)(x)\n",
        "model_0 = keras.Model(inputs, outputs, name='model_0')\n",
        "\n",
        "# Compile Model 0\n",
        "model_0.compile(loss='binary_crossentropy', \n",
        "              optimizer=RMSprop(learning_rate=0.001), \n",
        "              metrics=['binary_accuracy'])\n",
        "\n",
        "\n",
        "model_0.summary()"
      ]
    },
    {
      "cell_type": "code",
      "execution_count": null,
      "metadata": {
        "id": "3zcGOs2g_U6b"
      },
      "outputs": [],
      "source": [
        "# Parameters for fitting and saving model training data\n",
        "#import datetime as dt\n",
        "#now = dt.datetime.now()\n",
        "epochs = 200\n",
        "model_0_filepath = 'models/model_dense.keras'\n",
        "history_0_filepath = 'models/trainHistoryDict/model_0_dense_history.pkl'"
      ]
    },
    {
      "cell_type": "code",
      "execution_count": null,
      "metadata": {
        "colab": {
          "base_uri": "https://localhost:8080/"
        },
        "id": "Su4RSKkG-lek",
        "outputId": "a1e54a4e-3a9d-4d70-be41-e7ca7a9847b4"
      },
      "outputs": [
        {
          "name": "stdout",
          "output_type": "stream",
          "text": [
            "Epoch 1/200\n",
            "2901/2901 [==============================] - 26s 9ms/step - loss: 1.9798 - binary_accuracy: 0.8715 - val_loss: 1.9666 - val_binary_accuracy: 0.8725\n",
            "Epoch 2/200\n",
            "2901/2901 [==============================] - 20s 7ms/step - loss: 1.9649 - binary_accuracy: 0.8726 - val_loss: 1.9666 - val_binary_accuracy: 0.8725\n",
            "Epoch 3/200\n",
            "2901/2901 [==============================] - 20s 7ms/step - loss: 1.9654 - binary_accuracy: 0.8726 - val_loss: 1.9666 - val_binary_accuracy: 0.8725\n",
            "Epoch 4/200\n",
            "2896/2901 [============================>.] - ETA: 0s - loss: 1.9652 - binary_accuracy: 0.8726Restoring model weights from the end of the best epoch: 1.\n",
            "2901/2901 [==============================] - 20s 7ms/step - loss: 1.9645 - binary_accuracy: 0.8726 - val_loss: 1.9666 - val_binary_accuracy: 0.8725\n",
            "Epoch 4: early stopping\n"
          ]
        }
      ],
      "source": [
        "# Fit the model to the training data\n",
        "history_0 = model_0.fit(train_gen, validation_data=val_gen,\n",
        "                        shuffle=True, epochs=epochs, \n",
        "                        callbacks=callbacks(model_0_filepath,\n",
        "                                            patience=3),\n",
        "                        # remove the last batch because not even\n",
        "                        steps_per_epoch=len(train_gen)-1)\n",
        "\n",
        "# Pickle the Traning Fit History\n",
        "with open(history_0_filepath, 'wb') as file_pi:\n",
        "    pickle.dump(history_0.history, file_pi)"
      ]
    },
    {
      "cell_type": "code",
      "execution_count": null,
      "metadata": {
        "colab": {
          "base_uri": "https://localhost:8080/",
          "height": 331
        },
        "id": "rSCtPyyU_FoP",
        "outputId": "0111baff-e25f-438b-b202-0b265dd37d8d"
      },
      "outputs": [
        {
          "name": "stdout",
          "output_type": "stream",
          "text": [
            "955/955 [==============================] - 10s 10ms/step - loss: 1.9666 - binary_accuracy: 0.8725\n"
          ]
        },
        {
          "data": {
            "image/png": "[encoded data removed]",
            "text/plain": [
              "<Figure size 2400x800 with 2 Axes>"
            ]
          },
          "metadata": {},
          "output_type": "display_data"
        },
        {
          "name": "stdout",
          "output_type": "stream",
          "text": [
            "Validation Binary Accuracy is: 0.87\n",
            "955/955 [==============================] - 10s 10ms/step - loss: 1.9956 - binary_accuracy: 0.8706\n",
            "Testing Binary Accuracy is: 0.87\n"
          ]
        }
      ],
      "source": [
        "# Load and Evaluate Model\n",
        "model_0, history_0 = evaluate_model(model_0_filepath, \n",
        "                         history_0_filepath,\n",
        "                         val_gen, \n",
        "                         test_gen,\n",
        "                         'models/evaluate/model_0_evaluation.pdf')"
      ]
    },
    {
      "cell_type": "code",
      "execution_count": null,
      "metadata": {
        "colab": {
          "base_uri": "https://localhost:8080/",
          "height": 151
        },
        "id": "JNkaqD_bTfRB",
        "outputId": "b03f6ee3-f77b-40e9-9a43-5f76d10ab839"
      },
      "outputs": [
        {
          "name": "stdout",
          "output_type": "stream",
          "text": [
            "(64, 1200, 9)\n"
          ]
        },
        {
          "data": {
            "application/vnd.google.colaboratory.intrinsic+json": {
              "type": "string"
            },
            "text/plain": [
              "'\\nA tensor of shape (64, 1200, 9) means that it is a 3-dimensional tensor with 32 \\nrows, 1200 columns and 1 channel. In this specific case, it could represent a \\nbatch of 32 time series samples, each with 1200 time steps and 1 feature/channel.\\n\\nThe first dimension (64) represents the batch size, which is the number of \\nsamples that are processed at once during training. The second dimension (1200) \\nrepresents the time steps or the sequence length of each sample, and the third \\ndimension (9) represents the number of features or channels in each sample, \\n8 for the features and 1 for the label.\\n'"
            ]
          },
          "execution_count": 15,
          "metadata": {},
          "output_type": "execute_result"
        }
      ],
      "source": [
        "print(train_gen[0][0].shape) # prints the batch size of the first entry\n",
        "'''\n",
        "A tensor of shape (64, 1200, 9) means that it is a 3-dimensional tensor with 32 \n",
        "rows, 1200 columns and 1 channel. In this specific case, it could represent a \n",
        "batch of 32 time series samples, each with 1200 time steps and 1 feature/channel.\n",
        "\n",
        "The first dimension (64) represents the batch size, which is the number of \n",
        "samples that are processed at once during training. The second dimension (1200) \n",
        "represents the time steps or the sequence length of each sample, and the third \n",
        "dimension (9) represents the number of features or channels in each sample, \n",
        "8 for the features and 1 for the label.\n",
        "'''"
      ]
    },
    {
      "cell_type": "code",
      "execution_count": null,
      "metadata": {
        "id": "ft6yb8UANWLq"
      },
      "outputs": [],
      "source": [
        "# Naive Model\n",
        "def evaluate_naive_method(dataset):\n",
        "  '''\n",
        "  This method uses a common-sense approach to predict that the subject will be\n",
        "  in the same state 5 minutes from now as they are in now.\n",
        "  '''\n",
        "  "
      ]
    },
    {
      "cell_type": "markdown",
      "metadata": {
        "id": "Efitgp0qbhTQ"
      },
      "source": []
    },
    {
      "cell_type": "code",
      "execution_count": null,
      "metadata": {
        "colab": {
          "base_uri": "https://localhost:8080/"
        },
        "id": "S9FE5IG5Uj47",
        "outputId": "b23fe4eb-14f3-47f8-bd99-a6424c3200b9"
      },
      "outputs": [
        {
          "name": "stdout",
          "output_type": "stream",
          "text": [
            "Model: \"model_1\"\n",
            "_________________________________________________________________\n",
            " Layer (type)                Output Shape              Param #   \n",
            "=================================================================\n",
            " input_7 (InputLayer)        [(None, 1200, 7)]         0         \n",
            "                                                                 \n",
            " lstm_6 (LSTM)               (None, 128)               69632     \n",
            "                                                                 \n",
            " dense_6 (Dense)             (None, 1)                 129       \n",
            "                                                                 \n",
            "=================================================================\n",
            "Total params: 69,761\n",
            "Trainable params: 69,761\n",
            "Non-trainable params: 0\n",
            "_________________________________________________________________\n"
          ]
        }
      ],
      "source": [
        "'''\n",
        "Model_1: Simple LSTM Model\n",
        "Timeseries data is a sequence, where causality and sequence matter.\n",
        "'''\n",
        "import keras\n",
        "from keras.callbacks import EarlyStopping, ModelCheckpoint\n",
        "from keras.layers import Dense, LSTM\n",
        "from tensorflow.keras.optimizers import Adam\n",
        "\n",
        "lstm_units = 128\n",
        "\n",
        "inputs = keras.Input(shape=(seq_length, train_gen[0][0].shape[2]))\n",
        "#x = LSTM(batch_size, activation='relu', input_shape=(seq_length, train_gen[0][0].shape[2]))(inputs)\n",
        "x = LSTM(units=lstm_units, activation='relu', recurrent_dropout=0.5)(inputs) # Dropout)(inputs)\n",
        "outputs = Dense(1, activation='sigmoid')(x)          \n",
        "model_1 = keras.Model(inputs, outputs, name='model_1')\n",
        "\n",
        "model_1.compile(loss='binary_crossentropy', \n",
        "              optimizer=Adam(learning_rate=0.000001), \n",
        "              metrics=['binary_accuracy'])\n",
        "\n",
        "# View model summary\n",
        "model_1.summary()"
      ]
    },
    {
      "cell_type": "code",
      "execution_count": null,
      "metadata": {
        "id": "34yu6iffAE19"
      },
      "outputs": [],
      "source": [
        "# Parameters for fitting and saving model training data\n",
        "epochs = 200\n",
        "model_1_filepath = 'models/model_1_lstm.keras'\n",
        "history_1_filepath = 'models/trainHistoryDict/model_1_lstm_history.pkl'"
      ]
    },
    {
      "cell_type": "code",
      "execution_count": null,
      "metadata": {
        "colab": {
          "background_save": true,
          "base_uri": "https://localhost:8080/"
        },
        "id": "LTE2TEcq__S7",
        "outputId": "ad1b9d61-0dec-49a1-b61a-e69dcdcb5308"
      },
      "outputs": [
        {
          "name": "stdout",
          "output_type": "stream",
          "text": [
            "Epoch 1/200\n",
            "2902/2902 [==============================] - 2901s 998ms/step - loss: 0.4726 - binary_accuracy: 0.8419 - val_loss: nan - val_binary_accuracy: 0.8551\n",
            "Epoch 2/200\n",
            "2902/2902 [==============================] - 2889s 995ms/step - loss: 0.4723 - binary_accuracy: 0.8538 - val_loss: nan - val_binary_accuracy: 0.8724\n",
            "Epoch 3/200\n",
            "2902/2902 [==============================] - 2893s 997ms/step - loss: 0.4624 - binary_accuracy: 0.8718 - val_loss: nan - val_binary_accuracy: 0.8721\n",
            "Epoch 4/200\n",
            "2902/2902 [==============================] - 2897s 998ms/step - loss: 0.4537 - binary_accuracy: 0.8722 - val_loss: nan - val_binary_accuracy: 0.8714\n",
            "Epoch 5/200\n",
            "2902/2902 [==============================] - 2907s 1s/step - loss: 0.4460 - binary_accuracy: 0.8722 - val_loss: 30946022684204296882669957939200.0000 - val_binary_accuracy: 0.8655\n",
            "Epoch 6/200\n",
            "2902/2902 [==============================] - 2865s 987ms/step - loss: 0.4390 - binary_accuracy: 0.8724 - val_loss: 384394766217434433060864.0000 - val_binary_accuracy: 0.8686\n",
            "Epoch 7/200\n",
            "2902/2902 [==============================] - 2863s 987ms/step - loss: 0.4331 - binary_accuracy: 0.8724 - val_loss: 30183151806401238205296770285568.0000 - val_binary_accuracy: 0.8690\n",
            "Epoch 8/200\n",
            "2902/2902 [==============================] - 2865s 987ms/step - loss: 0.4284 - binary_accuracy: 0.8725 - val_loss: 0.4408 - val_binary_accuracy: 0.8725\n",
            "Epoch 9/200\n",
            "2902/2902 [==============================] - 2866s 988ms/step - loss: 0.4245 - binary_accuracy: 0.8725 - val_loss: 0.4374 - val_binary_accuracy: 0.8725\n",
            "Epoch 10/200\n",
            "2902/2902 [==============================] - ETA: 0s - loss: 0.4206 - binary_accuracy: 0.8725"
          ]
        },
        {
          "name": "stderr",
          "output_type": "stream",
          "text": [
            "ERROR:root:Internal Python error in the inspect module.\n",
            "Below is the traceback from this internal error.\n",
            "\n",
            "ERROR:root:Internal Python error in the inspect module.\n",
            "Below is the traceback from this internal error.\n",
            "\n",
            "ERROR:root:Internal Python error in the inspect module.\n",
            "Below is the traceback from this internal error.\n",
            "\n"
          ]
        },
        {
          "name": "stdout",
          "output_type": "stream",
          "text": [
            "Traceback (most recent call last):\n",
            "  File \"/usr/local/lib/python3.9/dist-packages/IPython/core/interactiveshell.py\", line 3553, in run_code\n",
            "    exec(code_obj, self.user_global_ns, self.user_ns)\n",
            "  File \"<ipython-input-28-753aed368ff5>\", line 2, in <cell line: 2>\n",
            "    history_1 = model_1.fit(train_gen, validation_data=val_gen,\n",
            "  File \"/usr/local/lib/python3.9/dist-packages/keras/utils/traceback_utils.py\", line 70, in error_handler\n",
            "    raise e.with_traceback(filtered_tb) from None\n",
            "  File \"/usr/local/lib/python3.9/dist-packages/tensorboard/plugins/scalar/summary_v2.py\", line 89, in scalar\n",
            "    return tf.summary.write(\n",
            "tensorflow.python.framework.errors_impl.FailedPreconditionError: {{function_node __wrapped__WriteSummary_device_/job:localhost/replica:0/task:0/device:CPU:0}} logs/validation/events.out.tfevents.1681526356.8fed471e7a2c.4345.5.v2; Transport endpoint is not connected\n",
            "\tFailed to flush 1 events to ./logs/validation/events.out.tfevents.1681526356.8fed471e7a2c.4345.5.v2\n",
            "\tCould not flush events file. [Op:WriteSummary]\n",
            "\n",
            "During handling of the above exception, another exception occurred:\n",
            "\n",
            "Traceback (most recent call last):\n",
            "  File \"/usr/local/lib/python3.9/dist-packages/IPython/core/interactiveshell.py\", line 2099, in showtraceback\n",
            "    stb = value._render_traceback_()\n",
            "AttributeError: 'FailedPreconditionError' object has no attribute '_render_traceback_'\n",
            "\n",
            "During handling of the above exception, another exception occurred:\n",
            "\n",
            "Traceback (most recent call last):\n",
            "  File \"/usr/local/lib/python3.9/dist-packages/IPython/core/ultratb.py\", line 1101, in get_records\n",
            "    return _fixed_getinnerframes(etb, number_of_lines_of_context, tb_offset)\n",
            "  File \"/usr/local/lib/python3.9/dist-packages/IPython/core/ultratb.py\", line 248, in wrapped\n",
            "    return f(*args, **kwargs)\n",
            "  File \"/usr/local/lib/python3.9/dist-packages/IPython/core/ultratb.py\", line 281, in _fixed_getinnerframes\n",
            "    records = fix_frame_records_filenames(inspect.getinnerframes(etb, context))\n",
            "  File \"/usr/lib/python3.9/inspect.py\", line 1543, in getinnerframes\n",
            "    frameinfo = (tb.tb_frame,) + getframeinfo(tb, context)\n",
            "  File \"/usr/lib/python3.9/inspect.py\", line 1501, in getframeinfo\n",
            "    filename = getsourcefile(frame) or getfile(frame)\n",
            "  File \"/usr/lib/python3.9/inspect.py\", line 709, in getsourcefile\n",
            "    if getattr(getmodule(object, filename), '__loader__', None) is not None:\n",
            "  File \"/usr/lib/python3.9/inspect.py\", line 738, in getmodule\n",
            "    file = getabsfile(object, _filename)\n",
            "  File \"/usr/lib/python3.9/inspect.py\", line 722, in getabsfile\n",
            "    return os.path.normcase(os.path.abspath(_filename))\n",
            "  File \"/usr/lib/python3.9/posixpath.py\", line 380, in abspath\n",
            "    cwd = os.getcwd()\n",
            "OSError: [Errno 107] Transport endpoint is not connected\n",
            "Traceback (most recent call last):\n",
            "  File \"/usr/local/lib/python3.9/dist-packages/IPython/core/interactiveshell.py\", line 3553, in run_code\n",
            "    exec(code_obj, self.user_global_ns, self.user_ns)\n",
            "  File \"<ipython-input-28-753aed368ff5>\", line 2, in <cell line: 2>\n",
            "    history_1 = model_1.fit(train_gen, validation_data=val_gen,\n",
            "  File \"/usr/local/lib/python3.9/dist-packages/keras/utils/traceback_utils.py\", line 70, in error_handler\n",
            "    raise e.with_traceback(filtered_tb) from None\n",
            "  File \"/usr/local/lib/python3.9/dist-packages/tensorboard/plugins/scalar/summary_v2.py\", line 89, in scalar\n",
            "    return tf.summary.write(\n",
            "tensorflow.python.framework.errors_impl.FailedPreconditionError: {{function_node __wrapped__WriteSummary_device_/job:localhost/replica:0/task:0/device:CPU:0}} logs/validation/events.out.tfevents.1681526356.8fed471e7a2c.4345.5.v2; Transport endpoint is not connected\n",
            "\tFailed to flush 1 events to ./logs/validation/events.out.tfevents.1681526356.8fed471e7a2c.4345.5.v2\n",
            "\tCould not flush events file. [Op:WriteSummary]\n",
            "\n",
            "During handling of the above exception, another exception occurred:\n",
            "\n",
            "Traceback (most recent call last):\n",
            "  File \"/usr/local/lib/python3.9/dist-packages/IPython/core/interactiveshell.py\", line 2099, in showtraceback\n",
            "    stb = value._render_traceback_()\n",
            "AttributeError: 'FailedPreconditionError' object has no attribute '_render_traceback_'\n",
            "\n",
            "During handling of the above exception, another exception occurred:\n",
            "\n",
            "Traceback (most recent call last):\n",
            "  File \"/usr/local/lib/python3.9/dist-packages/IPython/core/interactiveshell.py\", line 3473, in run_ast_nodes\n",
            "    if (await self.run_code(code, result,  async_=asy)):\n",
            "  File \"/usr/local/lib/python3.9/dist-packages/IPython/core/interactiveshell.py\", line 3575, in run_code\n",
            "    self.showtraceback(running_compiled_code=True)\n",
            "  File \"/usr/local/lib/python3.9/dist-packages/IPython/core/interactiveshell.py\", line 2101, in showtraceback\n",
            "    stb = self.InteractiveTB.structured_traceback(etype,\n",
            "  File \"/usr/local/lib/python3.9/dist-packages/IPython/core/ultratb.py\", line 1367, in structured_traceback\n",
            "    return FormattedTB.structured_traceback(\n",
            "  File \"/usr/local/lib/python3.9/dist-packages/IPython/core/ultratb.py\", line 1267, in structured_traceback\n",
            "    return VerboseTB.structured_traceback(\n",
            "  File \"/usr/local/lib/python3.9/dist-packages/IPython/core/ultratb.py\", line 1124, in structured_traceback\n",
            "    formatted_exception = self.format_exception_as_a_whole(etype, evalue, etb, number_of_lines_of_context,\n",
            "  File \"/usr/local/lib/python3.9/dist-packages/IPython/core/ultratb.py\", line 1082, in format_exception_as_a_whole\n",
            "    last_unique, recursion_repeat = find_recursion(orig_etype, evalue, records)\n",
            "  File \"/usr/local/lib/python3.9/dist-packages/IPython/core/ultratb.py\", line 382, in find_recursion\n",
            "    return len(records), 0\n",
            "TypeError: object of type 'NoneType' has no len()\n",
            "\n",
            "During handling of the above exception, another exception occurred:\n",
            "\n",
            "Traceback (most recent call last):\n",
            "  File \"/usr/local/lib/python3.9/dist-packages/IPython/core/interactiveshell.py\", line 2099, in showtraceback\n",
            "    stb = value._render_traceback_()\n",
            "AttributeError: 'TypeError' object has no attribute '_render_traceback_'\n",
            "\n",
            "During handling of the above exception, another exception occurred:\n",
            "\n",
            "Traceback (most recent call last):\n",
            "  File \"/usr/local/lib/python3.9/dist-packages/IPython/core/ultratb.py\", line 1101, in get_records\n",
            "    return _fixed_getinnerframes(etb, number_of_lines_of_context, tb_offset)\n",
            "  File \"/usr/local/lib/python3.9/dist-packages/IPython/core/ultratb.py\", line 248, in wrapped\n",
            "    return f(*args, **kwargs)\n",
            "  File \"/usr/local/lib/python3.9/dist-packages/IPython/core/ultratb.py\", line 281, in _fixed_getinnerframes\n",
            "    records = fix_frame_records_filenames(inspect.getinnerframes(etb, context))\n",
            "  File \"/usr/lib/python3.9/inspect.py\", line 1543, in getinnerframes\n",
            "    frameinfo = (tb.tb_frame,) + getframeinfo(tb, context)\n",
            "  File \"/usr/lib/python3.9/inspect.py\", line 1501, in getframeinfo\n",
            "    filename = getsourcefile(frame) or getfile(frame)\n",
            "  File \"/usr/lib/python3.9/inspect.py\", line 709, in getsourcefile\n",
            "    if getattr(getmodule(object, filename), '__loader__', None) is not None:\n",
            "  File \"/usr/lib/python3.9/inspect.py\", line 738, in getmodule\n",
            "    file = getabsfile(object, _filename)\n",
            "  File \"/usr/lib/python3.9/inspect.py\", line 722, in getabsfile\n",
            "    return os.path.normcase(os.path.abspath(_filename))\n",
            "  File \"/usr/lib/python3.9/posixpath.py\", line 380, in abspath\n",
            "    cwd = os.getcwd()\n",
            "OSError: [Errno 107] Transport endpoint is not connected\n",
            "Traceback (most recent call last):\n",
            "  File \"/usr/local/lib/python3.9/dist-packages/IPython/core/interactiveshell.py\", line 3553, in run_code\n",
            "    exec(code_obj, self.user_global_ns, self.user_ns)\n",
            "  File \"<ipython-input-28-753aed368ff5>\", line 2, in <cell line: 2>\n",
            "    history_1 = model_1.fit(train_gen, validation_data=val_gen,\n",
            "  File \"/usr/local/lib/python3.9/dist-packages/keras/utils/traceback_utils.py\", line 70, in error_handler\n",
            "    raise e.with_traceback(filtered_tb) from None\n",
            "  File \"/usr/local/lib/python3.9/dist-packages/tensorboard/plugins/scalar/summary_v2.py\", line 89, in scalar\n",
            "    return tf.summary.write(\n",
            "tensorflow.python.framework.errors_impl.FailedPreconditionError: {{function_node __wrapped__WriteSummary_device_/job:localhost/replica:0/task:0/device:CPU:0}} logs/validation/events.out.tfevents.1681526356.8fed471e7a2c.4345.5.v2; Transport endpoint is not connected\n",
            "\tFailed to flush 1 events to ./logs/validation/events.out.tfevents.1681526356.8fed471e7a2c.4345.5.v2\n",
            "\tCould not flush events file. [Op:WriteSummary]\n",
            "\n",
            "During handling of the above exception, another exception occurred:\n",
            "\n",
            "Traceback (most recent call last):\n",
            "  File \"/usr/local/lib/python3.9/dist-packages/IPython/core/interactiveshell.py\", line 2099, in showtraceback\n",
            "    stb = value._render_traceback_()\n",
            "AttributeError: 'FailedPreconditionError' object has no attribute '_render_traceback_'\n",
            "\n",
            "During handling of the above exception, another exception occurred:\n",
            "\n",
            "Traceback (most recent call last):\n",
            "  File \"/usr/local/lib/python3.9/dist-packages/IPython/core/interactiveshell.py\", line 3473, in run_ast_nodes\n",
            "    if (await self.run_code(code, result,  async_=asy)):\n",
            "  File \"/usr/local/lib/python3.9/dist-packages/IPython/core/interactiveshell.py\", line 3575, in run_code\n",
            "    self.showtraceback(running_compiled_code=True)\n",
            "  File \"/usr/local/lib/python3.9/dist-packages/IPython/core/interactiveshell.py\", line 2101, in showtraceback\n",
            "    stb = self.InteractiveTB.structured_traceback(etype,\n",
            "  File \"/usr/local/lib/python3.9/dist-packages/IPython/core/ultratb.py\", line 1367, in structured_traceback\n",
            "    return FormattedTB.structured_traceback(\n",
            "  File \"/usr/local/lib/python3.9/dist-packages/IPython/core/ultratb.py\", line 1267, in structured_traceback\n",
            "    return VerboseTB.structured_traceback(\n",
            "  File \"/usr/local/lib/python3.9/dist-packages/IPython/core/ultratb.py\", line 1124, in structured_traceback\n",
            "    formatted_exception = self.format_exception_as_a_whole(etype, evalue, etb, number_of_lines_of_context,\n",
            "  File \"/usr/local/lib/python3.9/dist-packages/IPython/core/ultratb.py\", line 1082, in format_exception_as_a_whole\n",
            "    last_unique, recursion_repeat = find_recursion(orig_etype, evalue, records)\n",
            "  File \"/usr/local/lib/python3.9/dist-packages/IPython/core/ultratb.py\", line 382, in find_recursion\n",
            "    return len(records), 0\n",
            "TypeError: object of type 'NoneType' has no len()\n",
            "\n",
            "During handling of the above exception, another exception occurred:\n",
            "\n",
            "Traceback (most recent call last):\n",
            "  File \"/usr/local/lib/python3.9/dist-packages/IPython/core/interactiveshell.py\", line 2099, in showtraceback\n",
            "    stb = value._render_traceback_()\n",
            "AttributeError: 'TypeError' object has no attribute '_render_traceback_'\n",
            "\n",
            "During handling of the above exception, another exception occurred:\n",
            "\n",
            "Traceback (most recent call last):\n",
            "  File \"/usr/local/lib/python3.9/dist-packages/IPython/core/interactiveshell.py\", line 3030, in _run_cell\n",
            "    return runner(coro)\n",
            "  File \"/usr/local/lib/python3.9/dist-packages/IPython/core/async_helpers.py\", line 78, in _pseudo_sync_runner\n",
            "    coro.send(None)\n",
            "  File \"/usr/local/lib/python3.9/dist-packages/IPython/core/interactiveshell.py\", line 3257, in run_cell_async\n",
            "    has_raised = await self.run_ast_nodes(code_ast.body, cell_name,\n",
            "  File \"/usr/local/lib/python3.9/dist-packages/IPython/core/interactiveshell.py\", line 3492, in run_ast_nodes\n",
            "    self.showtraceback()\n",
            "  File \"/usr/local/lib/python3.9/dist-packages/IPython/core/interactiveshell.py\", line 2101, in showtraceback\n",
            "    stb = self.InteractiveTB.structured_traceback(etype,\n",
            "  File \"/usr/local/lib/python3.9/dist-packages/IPython/core/ultratb.py\", line 1367, in structured_traceback\n",
            "    return FormattedTB.structured_traceback(\n",
            "  File \"/usr/local/lib/python3.9/dist-packages/IPython/core/ultratb.py\", line 1267, in structured_traceback\n",
            "    return VerboseTB.structured_traceback(\n",
            "  File \"/usr/local/lib/python3.9/dist-packages/IPython/core/ultratb.py\", line 1142, in structured_traceback\n",
            "    formatted_exceptions += self.format_exception_as_a_whole(etype, evalue, etb, lines_of_context,\n",
            "  File \"/usr/local/lib/python3.9/dist-packages/IPython/core/ultratb.py\", line 1082, in format_exception_as_a_whole\n",
            "    last_unique, recursion_repeat = find_recursion(orig_etype, evalue, records)\n",
            "  File \"/usr/local/lib/python3.9/dist-packages/IPython/core/ultratb.py\", line 382, in find_recursion\n",
            "    return len(records), 0\n",
            "TypeError: object of type 'NoneType' has no len()\n",
            "\n",
            "During handling of the above exception, another exception occurred:\n",
            "\n",
            "Traceback (most recent call last):\n",
            "  File \"/usr/local/lib/python3.9/dist-packages/IPython/core/interactiveshell.py\", line 2099, in showtraceback\n",
            "    stb = value._render_traceback_()\n",
            "AttributeError: 'TypeError' object has no attribute '_render_traceback_'\n",
            "\n",
            "During handling of the above exception, another exception occurred:\n",
            "\n",
            "Traceback (most recent call last):\n",
            "  File \"/usr/local/lib/python3.9/dist-packages/IPython/core/ultratb.py\", line 1101, in get_records\n",
            "    return _fixed_getinnerframes(etb, number_of_lines_of_context, tb_offset)\n",
            "  File \"/usr/local/lib/python3.9/dist-packages/IPython/core/ultratb.py\", line 248, in wrapped\n",
            "    return f(*args, **kwargs)\n",
            "  File \"/usr/local/lib/python3.9/dist-packages/IPython/core/ultratb.py\", line 281, in _fixed_getinnerframes\n",
            "    records = fix_frame_records_filenames(inspect.getinnerframes(etb, context))\n",
            "  File \"/usr/lib/python3.9/inspect.py\", line 1543, in getinnerframes\n",
            "    frameinfo = (tb.tb_frame,) + getframeinfo(tb, context)\n",
            "  File \"/usr/lib/python3.9/inspect.py\", line 1501, in getframeinfo\n",
            "    filename = getsourcefile(frame) or getfile(frame)\n",
            "  File \"/usr/lib/python3.9/inspect.py\", line 709, in getsourcefile\n",
            "    if getattr(getmodule(object, filename), '__loader__', None) is not None:\n",
            "  File \"/usr/lib/python3.9/inspect.py\", line 738, in getmodule\n",
            "    file = getabsfile(object, _filename)\n",
            "  File \"/usr/lib/python3.9/inspect.py\", line 722, in getabsfile\n",
            "    return os.path.normcase(os.path.abspath(_filename))\n",
            "  File \"/usr/lib/python3.9/posixpath.py\", line 380, in abspath\n",
            "    cwd = os.getcwd()\n",
            "OSError: [Errno 107] Transport endpoint is not connected\n"
          ]
        }
      ],
      "source": [
        "# Fit the model to the training data\n",
        "history_1 = model_1.fit(train_gen, validation_data=val_gen,\n",
        "                        shuffle=False, epochs=epochs, \n",
        "                        callbacks=callbacks(model_1_filepath,\n",
        "                                            patience=5))\n",
        "\n",
        "# Pickle the Traning Fit History\n",
        "with open(history_1_filepath, 'wb') as file_pi:\n",
        "    pickle.dump(history_1, file_pi)"
      ]
    },
    {
      "cell_type": "code",
      "execution_count": null,
      "metadata": {
        "colab": {
          "base_uri": "https://localhost:8080/",
          "height": 1000
        },
        "id": "t2r4vuHoQHyj",
        "outputId": "20e3a592-8c4c-4f92-fd1d-829b2d6c75b5"
      },
      "outputs": [
        {
          "ename": "InvalidArgumentError",
          "evalue": "ignored",
          "output_type": "error",
          "traceback": [
            "\u001b[0;31m---------------------------------------------------------------------------\u001b[0m",
            "\u001b[0;31mInvalidArgumentError\u001b[0m                      Traceback (most recent call last)",
            "\u001b[0;32m<ipython-input-11-f286bf5da204>\u001b[0m in \u001b[0;36m<cell line: 2>\u001b[0;34m()\u001b[0m\n\u001b[1;32m      1\u001b[0m \u001b[0;31m# Load and Evaluate Model\u001b[0m\u001b[0;34m\u001b[0m\u001b[0;34m\u001b[0m\u001b[0m\n\u001b[0;32m----> 2\u001b[0;31m model_1, history_1 = evaluate_model(model_1_filepath, \n\u001b[0m\u001b[1;32m      3\u001b[0m                          \u001b[0mhistory_1_filepath\u001b[0m\u001b[0;34m,\u001b[0m\u001b[0;34m\u001b[0m\u001b[0;34m\u001b[0m\u001b[0m\n\u001b[1;32m      4\u001b[0m                          \u001b[0mval_gen\u001b[0m\u001b[0;34m,\u001b[0m\u001b[0;34m\u001b[0m\u001b[0;34m\u001b[0m\u001b[0m\n\u001b[1;32m      5\u001b[0m                          \u001b[0mtest_gen\u001b[0m\u001b[0;34m,\u001b[0m\u001b[0;34m\u001b[0m\u001b[0;34m\u001b[0m\u001b[0m\n",
            "\u001b[0;32m<ipython-input-3-449b1ff2fb6e>\u001b[0m in \u001b[0;36mevaluate_model\u001b[0;34m(model_filepath, history_filepath, val_data, test_data, save_plot_path)\u001b[0m\n\u001b[1;32m     11\u001b[0m   \u001b[0;31m# Load the model\u001b[0m\u001b[0;34m\u001b[0m\u001b[0;34m\u001b[0m\u001b[0m\n\u001b[1;32m     12\u001b[0m   \u001b[0mmodel\u001b[0m \u001b[0;34m=\u001b[0m \u001b[0mload_model\u001b[0m\u001b[0;34m(\u001b[0m\u001b[0mmodel_filepath\u001b[0m\u001b[0;34m)\u001b[0m\u001b[0;34m\u001b[0m\u001b[0;34m\u001b[0m\u001b[0m\n\u001b[0;32m---> 13\u001b[0;31m   model_eval_val = model.evaluate(val_data,\n\u001b[0m\u001b[1;32m     14\u001b[0m                                   \u001b[0muse_multiprocessing\u001b[0m\u001b[0;34m=\u001b[0m\u001b[0;32mTrue\u001b[0m\u001b[0;34m,\u001b[0m\u001b[0;34m\u001b[0m\u001b[0;34m\u001b[0m\u001b[0m\n\u001b[1;32m     15\u001b[0m                                   batch_size=batch_size)\n",
            "\u001b[0;32m/usr/local/lib/python3.9/dist-packages/keras/utils/traceback_utils.py\u001b[0m in \u001b[0;36merror_handler\u001b[0;34m(*args, **kwargs)\u001b[0m\n\u001b[1;32m     68\u001b[0m             \u001b[0;31m# To get the full stack trace, call:\u001b[0m\u001b[0;34m\u001b[0m\u001b[0;34m\u001b[0m\u001b[0m\n\u001b[1;32m     69\u001b[0m             \u001b[0;31m# `tf.debugging.disable_traceback_filtering()`\u001b[0m\u001b[0;34m\u001b[0m\u001b[0;34m\u001b[0m\u001b[0m\n\u001b[0;32m---> 70\u001b[0;31m             \u001b[0;32mraise\u001b[0m \u001b[0me\u001b[0m\u001b[0;34m.\u001b[0m\u001b[0mwith_traceback\u001b[0m\u001b[0;34m(\u001b[0m\u001b[0mfiltered_tb\u001b[0m\u001b[0;34m)\u001b[0m \u001b[0;32mfrom\u001b[0m \u001b[0;32mNone\u001b[0m\u001b[0;34m\u001b[0m\u001b[0;34m\u001b[0m\u001b[0m\n\u001b[0m\u001b[1;32m     71\u001b[0m         \u001b[0;32mfinally\u001b[0m\u001b[0;34m:\u001b[0m\u001b[0;34m\u001b[0m\u001b[0;34m\u001b[0m\u001b[0m\n\u001b[1;32m     72\u001b[0m             \u001b[0;32mdel\u001b[0m \u001b[0mfiltered_tb\u001b[0m\u001b[0;34m\u001b[0m\u001b[0;34m\u001b[0m\u001b[0m\n",
            "\u001b[0;32m/usr/local/lib/python3.9/dist-packages/tensorflow/python/eager/execute.py\u001b[0m in \u001b[0;36mquick_execute\u001b[0;34m(op_name, num_outputs, inputs, attrs, ctx, name)\u001b[0m\n\u001b[1;32m     50\u001b[0m   \u001b[0;32mtry\u001b[0m\u001b[0;34m:\u001b[0m\u001b[0;34m\u001b[0m\u001b[0;34m\u001b[0m\u001b[0m\n\u001b[1;32m     51\u001b[0m     \u001b[0mctx\u001b[0m\u001b[0;34m.\u001b[0m\u001b[0mensure_initialized\u001b[0m\u001b[0;34m(\u001b[0m\u001b[0;34m)\u001b[0m\u001b[0;34m\u001b[0m\u001b[0;34m\u001b[0m\u001b[0m\n\u001b[0;32m---> 52\u001b[0;31m     tensors = pywrap_tfe.TFE_Py_Execute(ctx._handle, device_name, op_name,\n\u001b[0m\u001b[1;32m     53\u001b[0m                                         inputs, attrs, num_outputs)\n\u001b[1;32m     54\u001b[0m   \u001b[0;32mexcept\u001b[0m \u001b[0mcore\u001b[0m\u001b[0;34m.\u001b[0m\u001b[0m_NotOkStatusException\u001b[0m \u001b[0;32mas\u001b[0m \u001b[0me\u001b[0m\u001b[0;34m:\u001b[0m\u001b[0;34m\u001b[0m\u001b[0;34m\u001b[0m\u001b[0m\n",
            "\u001b[0;31mInvalidArgumentError\u001b[0m: Graph execution error:\n\nDetected at node 'model_1/lstm_13/while/lstm_cell/MatMul' defined at (most recent call last):\n    File \"/usr/lib/python3.9/runpy.py\", line 197, in _run_module_as_main\n      return _run_code(code, main_globals, None,\n    File \"/usr/lib/python3.9/runpy.py\", line 87, in _run_code\n      exec(code, run_globals)\n    File \"/usr/local/lib/python3.9/dist-packages/ipykernel_launcher.py\", line 16, in <module>\n      app.launch_new_instance()\n    File \"/usr/local/lib/python3.9/dist-packages/traitlets/config/application.py\", line 992, in launch_instance\n      app.start()\n    File \"/usr/local/lib/python3.9/dist-packages/ipykernel/kernelapp.py\", line 619, in start\n      self.io_loop.start()\n    File \"/usr/local/lib/python3.9/dist-packages/tornado/platform/asyncio.py\", line 215, in start\n      self.asyncio_loop.run_forever()\n    File \"/usr/lib/python3.9/asyncio/base_events.py\", line 601, in run_forever\n      self._run_once()\n    File \"/usr/lib/python3.9/asyncio/base_events.py\", line 1905, in _run_once\n      handle._run()\n    File \"/usr/lib/python3.9/asyncio/events.py\", line 80, in _run\n      self._context.run(self._callback, *self._args)\n    File \"/usr/local/lib/python3.9/dist-packages/tornado/ioloop.py\", line 687, in <lambda>\n      lambda f: self._run_callback(functools.partial(callback, future))\n    File \"/usr/local/lib/python3.9/dist-packages/tornado/ioloop.py\", line 740, in _run_callback\n      ret = callback()\n    File \"/usr/local/lib/python3.9/dist-packages/tornado/gen.py\", line 821, in inner\n      self.ctx_run(self.run)\n    File \"/usr/local/lib/python3.9/dist-packages/tornado/gen.py\", line 782, in run\n      yielded = self.gen.send(value)\n    File \"/usr/local/lib/python3.9/dist-packages/ipykernel/kernelbase.py\", line 361, in process_one\n      yield gen.maybe_future(dispatch(*args))\n    File \"/usr/local/lib/python3.9/dist-packages/tornado/gen.py\", line 234, in wrapper\n      yielded = ctx_run(next, result)\n    File \"/usr/local/lib/python3.9/dist-packages/ipykernel/kernelbase.py\", line 261, in dispatch_shell\n      yield gen.maybe_future(handler(stream, idents, msg))\n    File \"/usr/local/lib/python3.9/dist-packages/tornado/gen.py\", line 234, in wrapper\n      yielded = ctx_run(next, result)\n    File \"/usr/local/lib/python3.9/dist-packages/ipykernel/kernelbase.py\", line 539, in execute_request\n      self.do_execute(\n    File \"/usr/local/lib/python3.9/dist-packages/tornado/gen.py\", line 234, in wrapper\n      yielded = ctx_run(next, result)\n    File \"/usr/local/lib/python3.9/dist-packages/ipykernel/ipkernel.py\", line 302, in do_execute\n      res = shell.run_cell(code, store_history=store_history, silent=silent)\n    File \"/usr/local/lib/python3.9/dist-packages/ipykernel/zmqshell.py\", line 539, in run_cell\n      return super(ZMQInteractiveShell, self).run_cell(*args, **kwargs)\n    File \"/usr/local/lib/python3.9/dist-packages/IPython/core/interactiveshell.py\", line 2975, in run_cell\n      result = self._run_cell(\n    File \"/usr/local/lib/python3.9/dist-packages/IPython/core/interactiveshell.py\", line 3030, in _run_cell\n      return runner(coro)\n    File \"/usr/local/lib/python3.9/dist-packages/IPython/core/async_helpers.py\", line 78, in _pseudo_sync_runner\n      coro.send(None)\n    File \"/usr/local/lib/python3.9/dist-packages/IPython/core/interactiveshell.py\", line 3257, in run_cell_async\n      has_raised = await self.run_ast_nodes(code_ast.body, cell_name,\n    File \"/usr/local/lib/python3.9/dist-packages/IPython/core/interactiveshell.py\", line 3473, in run_ast_nodes\n      if (await self.run_code(code, result,  async_=asy)):\n    File \"/usr/local/lib/python3.9/dist-packages/IPython/core/interactiveshell.py\", line 3553, in run_code\n      exec(code_obj, self.user_global_ns, self.user_ns)\n    File \"<ipython-input-11-f286bf5da204>\", line 2, in <cell line: 2>\n      model_1, history_1 = evaluate_model(model_1_filepath,\n    File \"<ipython-input-3-449b1ff2fb6e>\", line 13, in evaluate_model\n      model_eval_val = model.evaluate(val_data,\n    File \"/usr/local/lib/python3.9/dist-packages/keras/utils/traceback_utils.py\", line 65, in error_handler\n      return fn(*args, **kwargs)\n    File \"/usr/local/lib/python3.9/dist-packages/keras/engine/training.py\", line 2072, in evaluate\n      tmp_logs = self.test_function(iterator)\n    File \"/usr/local/lib/python3.9/dist-packages/keras/engine/training.py\", line 1852, in test_function\n      return step_function(self, iterator)\n    File \"/usr/local/lib/python3.9/dist-packages/keras/engine/training.py\", line 1836, in step_function\n      outputs = model.distribute_strategy.run(run_step, args=(data,))\n    File \"/usr/local/lib/python3.9/dist-packages/keras/engine/training.py\", line 1824, in run_step\n      outputs = model.test_step(data)\n    File \"/usr/local/lib/python3.9/dist-packages/keras/engine/training.py\", line 1788, in test_step\n      y_pred = self(x, training=False)\n    File \"/usr/local/lib/python3.9/dist-packages/keras/utils/traceback_utils.py\", line 65, in error_handler\n      return fn(*args, **kwargs)\n    File \"/usr/local/lib/python3.9/dist-packages/keras/engine/training.py\", line 558, in __call__\n      return super().__call__(*args, **kwargs)\n    File \"/usr/local/lib/python3.9/dist-packages/keras/utils/traceback_utils.py\", line 65, in error_handler\n      return fn(*args, **kwargs)\n    File \"/usr/local/lib/python3.9/dist-packages/keras/engine/base_layer.py\", line 1145, in __call__\n      outputs = call_fn(inputs, *args, **kwargs)\n    File \"/usr/local/lib/python3.9/dist-packages/keras/utils/traceback_utils.py\", line 96, in error_handler\n      return fn(*args, **kwargs)\n    File \"/usr/local/lib/python3.9/dist-packages/keras/engine/functional.py\", line 512, in call\n      return self._run_internal_graph(inputs, training=training, mask=mask)\n    File \"/usr/local/lib/python3.9/dist-packages/keras/engine/functional.py\", line 669, in _run_internal_graph\n      outputs = node.layer(*args, **kwargs)\n    File \"/usr/local/lib/python3.9/dist-packages/keras/layers/rnn/base_rnn.py\", line 556, in __call__\n      return super().__call__(inputs, **kwargs)\n    File \"/usr/local/lib/python3.9/dist-packages/keras/utils/traceback_utils.py\", line 65, in error_handler\n      return fn(*args, **kwargs)\n    File \"/usr/local/lib/python3.9/dist-packages/keras/engine/base_layer.py\", line 1145, in __call__\n      outputs = call_fn(inputs, *args, **kwargs)\n    File \"/usr/local/lib/python3.9/dist-packages/keras/utils/traceback_utils.py\", line 96, in error_handler\n      return fn(*args, **kwargs)\n    File \"/usr/local/lib/python3.9/dist-packages/keras/layers/rnn/lstm.py\", line 625, in call\n      last_output, outputs, states = backend.rnn(\n    File \"/usr/local/lib/python3.9/dist-packages/keras/backend.py\", line 5169, in rnn\n      final_outputs = tf.compat.v1.while_loop(\n    File \"/usr/local/lib/python3.9/dist-packages/keras/backend.py\", line 5148, in _step\n      output, new_states = step_function(\n    File \"/usr/local/lib/python3.9/dist-packages/keras/layers/rnn/lstm.py\", line 623, in step\n      return self.cell(inputs, states, **kwargs)\n    File \"/usr/local/lib/python3.9/dist-packages/keras/utils/traceback_utils.py\", line 65, in error_handler\n      return fn(*args, **kwargs)\n    File \"/usr/local/lib/python3.9/dist-packages/keras/engine/base_layer.py\", line 1145, in __call__\n      outputs = call_fn(inputs, *args, **kwargs)\n    File \"/usr/local/lib/python3.9/dist-packages/keras/utils/traceback_utils.py\", line 96, in error_handler\n      return fn(*args, **kwargs)\n    File \"/usr/local/lib/python3.9/dist-packages/keras/layers/rnn/lstm.py\", line 327, in call\n      z = backend.dot(inputs, self.kernel)\n    File \"/usr/local/lib/python3.9/dist-packages/keras/backend.py\", line 2464, in dot\n      out = tf.matmul(x, y)\nNode: 'model_1/lstm_13/while/lstm_cell/MatMul'\nMatrix size-incompatible: In[0]: [64,7], In[1]: [1,256]\n\t [[{{node model_1/lstm_13/while/lstm_cell/MatMul}}]] [Op:__inference_test_function_592]"
          ]
        }
      ],
      "source": [
        "# Load and Evaluate Model\n",
        "model_1, history_1 = evaluate_model(model_1_filepath, \n",
        "                         history_1_filepath,\n",
        "                         val_gen, \n",
        "                         test_gen,\n",
        "                         'models/evaluate/model_1_evaluation.pdf')"
      ]
    },
    {
      "cell_type": "markdown",
      "metadata": {
        "id": "TkZNwirfjE_S"
      },
      "source": [
        "Binary_accuracy and validation loss is stalling out around epoch 6-8. "
      ]
    },
    {
      "cell_type": "code",
      "execution_count": null,
      "metadata": {
        "id": "9D6BD7Zoheo2"
      },
      "outputs": [],
      "source": [
        "'''\n",
        "Model 2: Complex LSTM with Dropout\n",
        "'''\n",
        "from keras.layers import LSTM, Dense, Dropout, Reshape, RepeatVector, TimeDistributed\n",
        "from tensorflow.keras.optimizers import RMSprop, Adam\n",
        "\n",
        "# Build the model\n",
        "inputs = keras.Input(shape=(seq_length, train_gen[0][0].shape[2]))\n",
        "\n",
        "# LSTM layer\n",
        "x = LSTM(64, \n",
        "         activation='relu', \n",
        "         input_shape=(seq_length, train_gen[0][0].shape[2]),\n",
        "         return_sequences=True,\n",
        "         recurrent_dropout=0.5)(inputs) # Dropout\n",
        "# Second LSTM Layer\n",
        "x = LSTM(32, \n",
        "         activation='relu', \n",
        "         return_sequences=True,\n",
        "         recurrent_dropout=0.5)(x) # Dropout\n",
        "# Use TimeDistributed to apply the same Dense layer independently to each \n",
        "# time step\n",
        "x = TimeDistributed(Dense(1, activation='sigmoid'))(x)\n",
        "# Flatten the output to a 1D vector\n",
        "outputs = Flatten()(x)\n",
        "\n",
        "model_2 = keras.Model(inputs, outputs, name='model_2')\n",
        "\n",
        "# Compile\n",
        "model_2.compile(loss='binary_crossentropy', \n",
        "              optimizer=RMSprop(learning_rate=0.0001), \n",
        "              metrics=['binary_accuracy'])\n",
        "\n",
        "model_2.summary()"
      ]
    },
    {
      "cell_type": "code",
      "execution_count": null,
      "metadata": {
        "id": "y_2qrwJMDyUc"
      },
      "outputs": [],
      "source": [
        "# Parameters for fitting and saving model training data\n",
        "epochs = 200\n",
        "model_2_filepath = 'models/model_2_multiLSTM.keras'\n",
        "history_2_filepath = 'models/trainHistoryDict/model_2_dense_history.pkl'"
      ]
    },
    {
      "cell_type": "code",
      "execution_count": null,
      "metadata": {
        "id": "oWoWk_MjDtMR"
      },
      "outputs": [],
      "source": [
        "# Fit the model to the training data\n",
        "history_2 = model_2.fit(train_gen, validation_data=val_gen,\n",
        "                        shuffle=False, epochs=epochs, \n",
        "                        callbacks=callbacks(model_2_filepath,\n",
        "                                            patience=3))\n",
        "\n",
        "# Pickle the Traning Fit History\n",
        "with open(history_2_filepath, 'wb') as file_pi:\n",
        "    pickle.dump(history_2, file_pi)"
      ]
    },
    {
      "cell_type": "code",
      "execution_count": null,
      "metadata": {
        "id": "wqZrvGuOET-1"
      },
      "outputs": [],
      "source": [
        "# Load and Evaluate Model\n",
        "model_2, history_2 = evaluate_model(model_2_filepath, \n",
        "                         history_2_filepath,\n",
        "                         val_data_gen, \n",
        "                         test_data_gen,\n",
        "                         'models/evaluate/model_2_evaluation.pdf')"
      ]
    },
    {
      "cell_type": "code",
      "execution_count": null,
      "metadata": {
        "id": "WaMLOKHyr8GR"
      },
      "outputs": [],
      "source": [
        "''''\n",
        "Model 3: Bidirectional LSTM\n",
        "'''\n",
        "\n",
        "# Define the LSTM model\n",
        "inputs = keras.Input(shape=(sequence_length, train_data_gen[0][0].shape[2]))\n",
        "# Next model add a Dense layer here\n",
        "x = Dense(units=batch_size, activation='relu')(inputs)\n",
        "x = layers.Bidirectional(LSTM(batch_size, \n",
        "                          activation='relu', \n",
        "                          input_shape=(sequence_length, 1),\n",
        "                          unroll=True,\n",
        "                          recurrent_dropout=0.5))(x)\n",
        "x = Dense(units=batch_size//2, activation='relu')(x)\n",
        "outputs = Dense(units=1, activation='sigmoid')(x)\n",
        "model_3 = keras.Model(inputs, outputs)\n",
        "\n",
        "# Compile\n",
        "model_3.compile(loss='binary_crossentropy', \n",
        "              optimizer=Adam(learning_rate=0.00001), \n",
        "              metrics=['binary_accuracy'])\n",
        "model_3.summary()"
      ]
    },
    {
      "cell_type": "code",
      "execution_count": null,
      "metadata": {
        "id": "hQcBf0pZul4L"
      },
      "outputs": [],
      "source": [
        "# Parameters for fitting and saving model training data\n",
        "epochs = 200\n",
        "model_3_filepath = 'models/model_3_bidirLSTM.keras'\n",
        "history_3_filepath = 'models/trainHistoryDict/model_3_bidirLSTM_history.pkl'"
      ]
    },
    {
      "cell_type": "code",
      "execution_count": null,
      "metadata": {
        "id": "7T24McaT2y_E"
      },
      "outputs": [],
      "source": [
        "# Fit the model to the training data\n",
        "history_3 = model_3.fit(train_data_gen, validation_data=val_data_gen,\n",
        "                        shuffle=False, epochs=epochs, \n",
        "                        callbacks=callbacks(model_3_filepath,\n",
        "                                            patience=5))\n",
        "\n",
        "# Pickle the Traning Fit History\n",
        "with open(history_3_filepath, 'wb') as file_pi:\n",
        "    pickle.dump(history_3, file_pi)"
      ]
    },
    {
      "cell_type": "code",
      "execution_count": null,
      "metadata": {
        "id": "qGk4xXzoE2lu"
      },
      "outputs": [],
      "source": [
        "\n",
        "# Load and Evaluate Model\n",
        "model_3, history_3 = evaluate_model(model_0_filepath, \n",
        "                         history_3_filepath,\n",
        "                         val_data_gen, \n",
        "                         test_data_gen,\n",
        "                         'models/evaluate/model_3_evaluation.pdf')"
      ]
    },
    {
      "cell_type": "code",
      "execution_count": null,
      "metadata": {
        "id": "t4llTR3FvAwS"
      },
      "outputs": [],
      "source": [
        "'''\n",
        "Model_4: Timeseries classification with a transformer model\n",
        "Attention is all you need.\n",
        "'''\n",
        "from tensorflow import keras\n",
        "from tensorflow.keras import layers\n",
        "from keras.models import Sequential\n",
        "from keras.layers import LSTM, Dense, Dropout\n",
        "from tensorflow.keras.optimizers import RMSprop, Adam\n",
        "from keras.callbacks import EarlyStopping, ModelCheckpoint\n",
        "\n",
        "# Transformer\n",
        "def transformer_encoder(inputs, head_size, num_heads, ff_dim, dropout=0):\n",
        "    # Normalization and Attention\n",
        "    x = layers.LayerNormalization(epsilon=1e-6)(inputs)\n",
        "    x = layers.MultiHeadAttention(\n",
        "        key_dim=head_size, num_heads=num_heads, dropout=dropout\n",
        "    )(x, x)\n",
        "    x = layers.Dropout(dropout)(x)\n",
        "    res = x + inputs\n",
        "\n",
        "    # Feed Forward Part\n",
        "    x = layers.LayerNormalization(epsilon=1e-6)(res)\n",
        "    x = layers.Conv1D(filters=ff_dim, kernel_size=1, activation=\"relu\")(x)\n",
        "    x = layers.Dropout(dropout)(x)\n",
        "    x = layers.Conv1D(filters=inputs.shape[-1], kernel_size=1)(x)\n",
        "    return x + res\n",
        "\n",
        "def build_transformer_model(\n",
        "    input_shape,\n",
        "    n_classes,\n",
        "    head_size,\n",
        "    num_heads,\n",
        "    ff_dim,\n",
        "    num_transformer_blocks,\n",
        "    mlp_units,\n",
        "    dropout=0,\n",
        "    mlp_dropout=0,\n",
        "):\n",
        "    inputs = keras.Input(shape=(sequence_length, train_data_gen[0][0].shape[2]))\n",
        "    #inputs = keras.Input(shape=input_shape)\n",
        "    x = inputs\n",
        "    for _ in range(num_transformer_blocks):\n",
        "        x = transformer_encoder(x, head_size, num_heads, ff_dim, dropout)\n",
        "\n",
        "    x = layers.GlobalAveragePooling1D(data_format=\"channels_first\")(x)\n",
        "    for dim in mlp_units:\n",
        "        x = layers.Dense(dim, activation=\"relu\")(x)\n",
        "        x = layers.Dropout(mlp_dropout)(x)\n",
        "    outputs = layers.Dense(n_classes, activation=\"sigmoid\")(x)\n",
        "    return keras.Model(inputs, outputs)\n",
        "\n",
        "# Build model\n",
        "model_4 = build_transformer_model(\n",
        "                sequence_length,\n",
        "                n_classes=1,\n",
        "                head_size=256,\n",
        "                num_heads=4, # Number of Transformer repeats\n",
        "                ff_dim=4,\n",
        "                num_transformer_blocks=4,\n",
        "                mlp_units=[128],\n",
        "                mlp_dropout=0.4,\n",
        "                dropout=0.25,\n",
        ")\n",
        "\n",
        "# Compile Model\n",
        "model_4.compile(\n",
        "    loss=\"binary_crossentropy\",\n",
        "    optimizer=Adam(learning_rate=1e-4),\n",
        "    metrics=[\"binary_accuracy\"],\n",
        ")\n",
        "model_4.summary()"
      ]
    },
    {
      "cell_type": "code",
      "execution_count": null,
      "metadata": {
        "id": "QG6NPQ_hFHXx"
      },
      "outputs": [],
      "source": [
        "# Parameters for fitting and saving model training data\n",
        "epochs = 200\n",
        "model_4_filepath = 'models/model_4_transformer.keras'\n",
        "history_4_filepath = 'models/trainHistoryDict/model_4_transformer_history.pkl'"
      ]
    },
    {
      "cell_type": "code",
      "execution_count": null,
      "metadata": {
        "id": "kP-O7jFoAcvy"
      },
      "outputs": [],
      "source": [
        "# Fit the model to the training data\n",
        "history_4 = model_4.fit(train_data_gen, validation_data=val_data_gen,\n",
        "                        shuffle=False, epochs=epochs, \n",
        "                        callbacks=callbacks(model_4_filepath,\n",
        "                                            patience=5))\n",
        "\n",
        "# Pickle the Traning Fit History\n",
        "with open(history_4_filepath, 'wb') as file_pi:\n",
        "    pickle.dump(history_4, file_pi)"
      ]
    },
    {
      "cell_type": "code",
      "execution_count": null,
      "metadata": {
        "id": "WKXPZeb_0PDC"
      },
      "outputs": [],
      "source": [
        "# Load and Evaluate Model\n",
        "model_4, history_4 = evaluate_model(model_4_filepath, \n",
        "                         history_4_filepath,\n",
        "                         val_data_gen, \n",
        "                         test_data_gen,\n",
        "                         'models/evaluate/model_4_evaluation.pdf')"
      ]
    },
    {
      "cell_type": "code",
      "execution_count": null,
      "metadata": {
        "id": "7lBf-JvHp9ZS"
      },
      "outputs": [],
      "source": []
    }
  ],
  "metadata": {
    "accelerator": "TPU",
    "colab": {
      "machine_shape": "hm",
      "provenance": [],
      "include_colab_link": true
    },
    "gpuClass": "standard",
    "kernelspec": {
      "display_name": "Python 3",
      "name": "python3"
    },
    "language_info": {
      "name": "python"
    }
  },
  "nbformat": 4,
  "nbformat_minor": 0
}